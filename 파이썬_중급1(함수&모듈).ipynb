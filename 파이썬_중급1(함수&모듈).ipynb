{
  "nbformat": 4,
  "nbformat_minor": 0,
  "metadata": {
    "colab": {
      "provenance": [],
      "authorship_tag": "ABX9TyMFhlX/Er4Tb0BXOjumka57",
      "include_colab_link": true
    },
    "kernelspec": {
      "name": "python3",
      "display_name": "Python 3"
    },
    "language_info": {
      "name": "python"
    }
  },
  "cells": [
    {
      "cell_type": "markdown",
      "metadata": {
        "id": "view-in-github",
        "colab_type": "text"
      },
      "source": [
        "<a href=\"https://colab.research.google.com/github/JoQri/zerobase_study/blob/main/%ED%8C%8C%EC%9D%B4%EC%8D%AC_%EC%A4%91%EA%B8%891(%ED%95%A8%EC%88%98%26%EB%AA%A8%EB%93%88).ipynb\" target=\"_parent\"><img src=\"https://colab.research.google.com/assets/colab-badge.svg\" alt=\"Open In Colab\"/></a>"
      ]
    },
    {
      "cell_type": "code",
      "source": [
        "def practice(*nums):                                                            # 매개변수 개수가 정해지지 않은 경우\n",
        "  print(nums,end='')\n",
        "  print(type(nums))                                                             # 튜플 타입\n",
        "  for n in nums:\n",
        "    print(n,end='')\n",
        "  print()\n",
        "\n",
        "practice()\n",
        "practice(10)\n",
        "practice(10,20)\n",
        "practice(10,20,30)"
      ],
      "metadata": {
        "id": "mIWwMABgmiMJ",
        "colab": {
          "base_uri": "https://localhost:8080/"
        },
        "outputId": "6a151d15-e150-4d0c-afb4-f22997bdcc63"
      },
      "execution_count": null,
      "outputs": [
        {
          "output_type": "stream",
          "name": "stdout",
          "text": [
            "()<class 'tuple'>\n",
            "\n",
            "(10,)<class 'tuple'>\n",
            "10\n",
            "(10, 20)<class 'tuple'>\n",
            "1020\n",
            "(10, 20, 30)<class 'tuple'>\n",
            "102030\n"
          ]
        }
      ]
    },
    {
      "cell_type": "code",
      "source": [
        "import random\n",
        "def oddRInt():\n",
        "  while True:\n",
        "    rInt = random.randint(1,100)\n",
        "    print(rInt)\n",
        "    if rInt % 2 != 0:\n",
        "      break\n",
        "  return rInt                                                                   # return키워드\n",
        "  print('returen키워드를 만나면 다음 실행은 안됨')\n",
        "print(f'result: {oddRInt()}')"
      ],
      "metadata": {
        "colab": {
          "base_uri": "https://localhost:8080/"
        },
        "id": "-44NKKnmeKqa",
        "outputId": "4ff526da-0fc8-4b1b-eef9-5850ea5fd9a9"
      },
      "execution_count": null,
      "outputs": [
        {
          "output_type": "stream",
          "name": "stdout",
          "text": [
            "50\n",
            "37\n",
            "result: 37\n"
          ]
        }
      ]
    },
    {
      "cell_type": "code",
      "source": [
        "def printArea():\n",
        "  triangleA = width * height / 2                                                # 전역변수이기에 매개변수/인수 아니어도 됨\n",
        "  squareA = width * height\n",
        "\n",
        "  print('Triangel Area: {}'.format(triangleA))\n",
        "  print('Square Area: {}'.format(squareA))\n",
        "\n",
        "width = int(input('width: '))\n",
        "height = int(input('height: '))\n",
        "\n",
        "printArea()"
      ],
      "metadata": {
        "colab": {
          "base_uri": "https://localhost:8080/"
        },
        "id": "v4ionRUi8sc5",
        "outputId": "c8440464-af69-4876-81b6-77b929fc9a3c"
      },
      "execution_count": null,
      "outputs": [
        {
          "output_type": "stream",
          "name": "stdout",
          "text": [
            "width: 10\n",
            "height: 20\n",
            "Triangel Area: 100.0\n",
            "Square Area: 200\n"
          ]
        }
      ]
    },
    {
      "cell_type": "code",
      "source": [
        "#global 키워드: 지역변수 -> 전역변수\n",
        "\n",
        "totalVisit = 0\n",
        "\n",
        "def countVisit():\n",
        "  global totalVisit                                                             # 안쓴다면 totalVisit는 수정이 안되므로 def함수 선언 자체가 error 됨\n",
        "\n",
        "  totalVisit = totalVisit + 1\n",
        "  print(totalVisit)\n",
        "\n",
        "print(f'함수 시행 전 {totalVisit}명')\n",
        "countVisit()\n",
        "countVisit()\n",
        "countVisit()\n",
        "print(f'누적 총 {totalVisit}명')"
      ],
      "metadata": {
        "colab": {
          "base_uri": "https://localhost:8080/"
        },
        "id": "RsyMANJj9b18",
        "outputId": "9163afea-8d6d-4a31-f010-39b7422e13d1"
      },
      "execution_count": null,
      "outputs": [
        {
          "output_type": "stream",
          "name": "stdout",
          "text": [
            "함수 시행 전 0명\n",
            "1\n",
            "2\n",
            "3\n",
            "총 3명\n"
          ]
        }
      ]
    },
    {
      "cell_type": "code",
      "source": [
        "# 중첩함수\n",
        "def calculator(n1,n2,operator):\n",
        "\n",
        "  def add():\n",
        "    print(f'result: {n1+n2}')\n",
        "  def sub():\n",
        "    print(f'result: {n1-n2}')\n",
        "  def mul():\n",
        "    print(f'result: {n1*n2}')\n",
        "  def div():\n",
        "    print(f'result: {n1/n2}')\n",
        "\n",
        "  if operator == 'add':\n",
        "    add()\n",
        "  elif operator == 'sub':\n",
        "    sub()\n",
        "  elif operator == 'mul':\n",
        "    mul()\n",
        "  elif operator == 'div':\n",
        "    div()\n",
        "\n",
        "while True:\n",
        "  oper = input('operate: ')\n",
        "  if oper == 'quit':\n",
        "    break\n",
        "\n",
        "  num1 = int(input('num1: '))\n",
        "  num2 = int(input('num2: '))\n",
        "\n",
        "  calculator(num1,num2,oper)"
      ],
      "metadata": {
        "id": "RxWV_KSh-RzX",
        "colab": {
          "base_uri": "https://localhost:8080/"
        },
        "outputId": "6d5e0ade-bc11-4501-ab70-719b4a2428fa"
      },
      "execution_count": null,
      "outputs": [
        {
          "name": "stdout",
          "output_type": "stream",
          "text": [
            "operate: div\n",
            "num1: 5\n",
            "num2: 10\n",
            "result: 0.5\n",
            "operate: add\n",
            "num1: 1\n",
            "num2: 2\n",
            "result: 3\n",
            "operate: quit\n"
          ]
        }
      ]
    },
    {
      "cell_type": "code",
      "source": [
        "def reverseStr(str):\n",
        "  rStr = ''\n",
        "  for s in str:\n",
        "    rStr = s + rStr\n",
        "  return rStr\n",
        "print(reverseStr(input('String: ')))"
      ],
      "metadata": {
        "colab": {
          "base_uri": "https://localhost:8080/"
        },
        "id": "m_oVTV__ix4h",
        "outputId": "fe482e99-f0c8-49cb-d4a1-275278bf91e9"
      },
      "execution_count": null,
      "outputs": [
        {
          "output_type": "stream",
          "name": "stdout",
          "text": [
            "String: 안녕하세요\n",
            "요세하녕안\n"
          ]
        }
      ]
    },
    {
      "cell_type": "code",
      "source": [
        "scores = []\n",
        "def listScores(s):\n",
        "  scores.append(s)\n",
        "def sumScores():\n",
        "  sum = 0\n",
        "  for s in scores:\n",
        "    sum += s\n",
        "  return sum\n",
        "def avgScores():\n",
        "  avg = sumScores()/len(scores)\n",
        "  return avg"
      ],
      "metadata": {
        "id": "5zgfsl5yqRl1"
      },
      "execution_count": null,
      "outputs": []
    },
    {
      "cell_type": "code",
      "source": [
        "kor = int(input('korean score: '))\n",
        "eng = int(input('english score: '))\n",
        "mat = int(input('math score: '))\n",
        "\n",
        "listScores(kor); listScores(eng); listScores(mat)\n",
        "print(scores)\n",
        "print(sumScores())\n",
        "print(avgScores())"
      ],
      "metadata": {
        "colab": {
          "base_uri": "https://localhost:8080/"
        },
        "id": "JQ34S_Vvsw5N",
        "outputId": "5afe7308-c6a8-4825-829d-7cae4e5ad5d8"
      },
      "execution_count": null,
      "outputs": [
        {
          "output_type": "stream",
          "name": "stdout",
          "text": [
            "korean score: 8\n",
            "english score: 7\n",
            "math score: 9\n",
            "[8, 7, 9]\n",
            "24\n",
            "8.0\n"
          ]
        }
      ]
    },
    {
      "cell_type": "code",
      "source": [
        "# __name__ 전역변수\n",
        "\n",
        "print(f'__name__: {__name__}')                                                  # 실행파일"
      ],
      "metadata": {
        "colab": {
          "base_uri": "https://localhost:8080/"
        },
        "id": "KgxRqspwtTKw",
        "outputId": "8c83941f-62c5-48af-8947-273a1dff8def"
      },
      "execution_count": null,
      "outputs": [
        {
          "output_type": "stream",
          "name": "stdout",
          "text": [
            "__name__: __main__\n"
          ]
        }
      ]
    },
    {
      "cell_type": "code",
      "source": [
        "import sys                                                                      # sys 모듈\n",
        "for path in sys.path:                                                           # 모듈의 경로 확인\n",
        "  print(path)"
      ],
      "metadata": {
        "colab": {
          "base_uri": "https://localhost:8080/"
        },
        "id": "QRmkMgcB-b8k",
        "outputId": "3b481f6b-2508-49c4-d192-7bf5f387f17c"
      },
      "execution_count": null,
      "outputs": [
        {
          "output_type": "stream",
          "name": "stdout",
          "text": [
            "/content\n",
            "/env/python\n",
            "/usr/lib/python310.zip\n",
            "/usr/lib/python3.10\n",
            "/usr/lib/python3.10/lib-dynload\n",
            "\n",
            "/usr/local/lib/python3.10/dist-packages\n",
            "/usr/lib/python3/dist-packages\n",
            "/usr/local/lib/python3.10/dist-packages/IPython/extensions\n",
            "/root/.ipython\n"
          ]
        }
      ]
    },
    {
      "cell_type": "code",
      "source": [
        "import time                                                                     # time 모듈\n",
        "\n",
        "lt = time.localtime()                                                           # 시스템 시간\n",
        "print(lt)\n",
        "print(lt.tm_year)\n",
        "print(lt.tm_mon)\n",
        "print(lt.tm_mday)\n",
        "print(lt.tm_hour)\n",
        "print(lt.tm_min)\n",
        "print(lt.tm_wday)"
      ],
      "metadata": {
        "colab": {
          "base_uri": "https://localhost:8080/"
        },
        "id": "35JDn4pyGHSL",
        "outputId": "20209510-82e3-486b-f10c-10e7bf81fcc1"
      },
      "execution_count": null,
      "outputs": [
        {
          "output_type": "stream",
          "name": "stdout",
          "text": [
            "time.struct_time(tm_year=2024, tm_mon=3, tm_mday=21, tm_hour=8, tm_min=47, tm_sec=47, tm_wday=3, tm_yday=81, tm_isdst=0)\n",
            "2024\n",
            "3\n",
            "21\n",
            "8\n",
            "47\n",
            "3\n"
          ]
        }
      ]
    },
    {
      "cell_type": "code",
      "source": [
        "import random                                                                   # random 모듈\n",
        "\n",
        "# 0이상 1미만 난수\n",
        "print(f'random.random(): {random.random()}')\n",
        "\n",
        "# 1이상 20미만 난수 하나\n",
        "print(f'random.randrange(1, 20): {random.randrange(1, 20)}')\n",
        "\n",
        "# 무작위 한개 추출\n",
        "listVar = [0, 1, 2, 3, 4, 5, 6]\n",
        "print(f'random.choice(listVar): {random.choice(listVar)}')\n",
        "\n",
        "# 섞음\n",
        "print(f'listVar: {listVar}')\n",
        "random.shuffle(listVar)\n",
        "print(f'shuffle listVar: {listVar}')"
      ],
      "metadata": {
        "colab": {
          "base_uri": "https://localhost:8080/"
        },
        "id": "RSVDVUGDJKLz",
        "outputId": "a68f92a2-01fc-48f2-838a-1a5a0cea4d41"
      },
      "execution_count": null,
      "outputs": [
        {
          "output_type": "stream",
          "name": "stdout",
          "text": [
            "random.random(): 0.6049893523731034\n",
            "random.randrange(1, 20): 18\n",
            "random.choice(listVar): 0\n",
            "listVar: [0, 1, 2, 3, 4, 5, 6]\n",
            "shuffle listVar: [6, 3, 0, 5, 2, 1, 4]\n"
          ]
        }
      ]
    },
    {
      "cell_type": "code",
      "source": [
        "import math\n",
        "\n",
        "#절댓값\n",
        "print(f'math.fabs(-10): {math.fabs(-10)}')\n",
        "print(f'math.fabs(-0.12895): {math.fabs(-0.12895)}')\n",
        "\n",
        "# 올림\n",
        "print(f'math.ceil(5.21): {math.ceil(5.21)}')\n",
        "print(f'math.ceil(-5.21): {math.ceil(-5.21)}')\n",
        "\n",
        "# 내림\n",
        "print(f'math.floor(5.21): {math.floor(5.21)}')\n",
        "print(f'math.floor(-5.21): {math.floor(-5.21)}')\n",
        "\n",
        "# 버림\n",
        "print(f'math.trunc(5.21): {math.trunc(5.21)}')\n",
        "print(f'math.trunc(-5.21): {math.trunc(-5.21)}')\n",
        "\n",
        "# 최대공약수\n",
        "print(f'math.gcd(14, 21): {math.gcd(14, 21)}')\n",
        "\n",
        "# 팩토리얼\n",
        "print(f'math.factorial(10): {math.factorial(10)}')\n",
        "\n",
        "# 제곱근\n",
        "print(f'math.sqrt(4): {math.sqrt(4)}')\n",
        "print(f'math.sqrt(12): {math.sqrt(12)}')"
      ],
      "metadata": {
        "colab": {
          "base_uri": "https://localhost:8080/"
        },
        "id": "CCxJsxqFNxTP",
        "outputId": "efb96201-bee0-4d03-dcd9-228b186757f3"
      },
      "execution_count": null,
      "outputs": [
        {
          "output_type": "stream",
          "name": "stdout",
          "text": [
            "math.fabs(-10): 10.0\n",
            "math.fabs(-0.12895): 0.12895\n",
            "math.ceil(5.21): 6\n",
            "math.ceil(-5.21): -5\n",
            "math.floor(5.21): 5\n",
            "math.floor(-5.21): -6\n",
            "math.trunc(5.21): 5\n",
            "math.trunc(-5.21): -5\n",
            "math.gcd(14, 21): 7\n",
            "math.factorial(10): 3628800\n",
            "math.sqrt(4): 2.0\n",
            "math.sqrt(12): 3.4641016151377544\n"
          ]
        }
      ]
    },
    {
      "cell_type": "code",
      "source": [
        "scores = [7,8,9]\n",
        "\n",
        "print(id(scores))                                                               # id() 메모리 주소\n",
        "scores_copy = scores                                                            # 얖은복사\n",
        "print(id(scores_copy))\n",
        "copyScores = scores.copy()                                                      # copy()로 깊은복사\n",
        "print(id(copyScores))"
      ],
      "metadata": {
        "colab": {
          "base_uri": "https://localhost:8080/"
        },
        "id": "G-P9LWWr13v9",
        "outputId": "5441676e-3b97-4369-a9a7-6e66adf47651"
      },
      "execution_count": null,
      "outputs": [
        {
          "output_type": "stream",
          "name": "stdout",
          "text": [
            "140582512827136\n",
            "140582512827136\n",
            "140582512826816\n"
          ]
        }
      ]
    },
    {
      "cell_type": "code",
      "source": [
        "scores = [int(input('kor:')),\n",
        "          int(input('eng:')),\n",
        "          int(input('mat:'))]\n",
        "copyScores = scores.copy()                                                      # copy()로 깊은복사\n",
        "\n",
        "for idx,s in enumerate(copyScores):\n",
        "  result = s * 1.1\n",
        "  copyScores[idx] = 100 if result > 100 else result\n",
        "print(f'변경 전 평균: {round(sum(scores)/len(scores),2)}')\n",
        "print(f'변경 후 평균: {sum(copyScores)/3}')"
      ],
      "metadata": {
        "colab": {
          "base_uri": "https://localhost:8080/"
        },
        "id": "oPhewNgq15Ll",
        "outputId": "c88e5418-7429-46f3-ca1c-23634ac4921a"
      },
      "execution_count": null,
      "outputs": [
        {
          "output_type": "stream",
          "name": "stdout",
          "text": [
            "kor:77\n",
            "eng:82\n",
            "mat:91\n",
            "변경 전 평균: 83.33\n",
            "변경 후 평균: 91.63333333333333\n"
          ]
        }
      ]
    },
    {
      "cell_type": "code",
      "source": [
        "# Q1\n",
        "def calculator():\n",
        "  while True:\n",
        "    select = int(input('1.add \\t2.sub \\t3.mul \\t4.div \\t5.mod \\t6.floor \\t7.pow \\t8.exit: '))\n",
        "    import math\n",
        "    if select != 8:\n",
        "      n1 = float(input('First Number:'))\n",
        "      n2 = float(input('Second Number:'))\n",
        "      if select == 1:\n",
        "        print(f'{n1} + {n2} = {n1 + n2}')\n",
        "      elif select == 2:\n",
        "        print(f'{n1} - {n2} = {n1 - n2}')\n",
        "      elif select == 3:\n",
        "        print(f'{n1} * {n2} = {n1 * n2}')\n",
        "      elif select == 4:\n",
        "        print(f'{n1} / {n2} = {n1 / n2}')\n",
        "      elif select == 5:\n",
        "        print(f'{n1} % {n2} = {n1 % n2}')\n",
        "      elif select == 6:\n",
        "        print(f'{n1} // {n2} = {n1 // n2}')\n",
        "      elif select == 7:\n",
        "        reslut= math.pow(n1,n2)\n",
        "        print(f'{n1} ** {n2} = {reslut}')\n",
        "\n",
        "    else:\n",
        "      print('Bye!')\n",
        "      break"
      ],
      "metadata": {
        "id": "yX0FP496lYjQ"
      },
      "execution_count": null,
      "outputs": []
    },
    {
      "cell_type": "code",
      "source": [
        "calculator()"
      ],
      "metadata": {
        "colab": {
          "base_uri": "https://localhost:8080/"
        },
        "id": "KF_zkQf4lYgb",
        "outputId": "2b29a8a3-4c3d-42f4-eb05-ea03a5113db1"
      },
      "execution_count": null,
      "outputs": [
        {
          "output_type": "stream",
          "name": "stdout",
          "text": [
            "1.add \t2.sub \t3.mul \t4.div \t5.mod \t6.floor \t7.pow \t8.exit: 7\n",
            "First Number:10\n",
            "Second Number:3\n",
            "10.0 ** 3.0 = 1000.0\n",
            "1.add \t2.sub \t3.mul \t4.div \t5.mod \t6.floor \t7.pow \t8.exit: 8\n",
            "Bye!\n"
          ]
        }
      ]
    },
    {
      "cell_type": "code",
      "source": [
        "# Q2\n",
        "def getDistance(s,h,m):\n",
        "  h += (m/60)                                                                   # target = s * (h + m/60)\n",
        "  target = s * h\n",
        "  return target\n",
        "\n",
        "print('-'*30)\n",
        "s = int(input('Speed(km/h) input: '))\n",
        "h = int(input('Hour input: '))\n",
        "m = int(input('Minuts input: '))\n",
        "d = getDistance(s,h,m)\n",
        "print(f'{s}(km/h)속도로 {h}(h)시간 {m}(m)분 동안 이동한 거리: {d}(km)')"
      ],
      "metadata": {
        "colab": {
          "base_uri": "https://localhost:8080/"
        },
        "id": "DKgvr3KflYdg",
        "outputId": "07303fed-592a-447a-c935-73219e3bda1e"
      },
      "execution_count": null,
      "outputs": [
        {
          "output_type": "stream",
          "name": "stdout",
          "text": [
            "------------------------------\n",
            "Speed(km/h) input: 90\n",
            "Hour input: 2\n",
            "Minuts input: 45\n",
            "90(km/h)속도로 2(h)시간 45(m)분 동안 이동한 거리: 247.5(km)\n"
          ]
        }
      ]
    },
    {
      "cell_type": "code",
      "source": [
        "def getTime(s,d):                                                               # 강의 자료\n",
        "  target = d / s                                                                # m = 수학공식 100:75 = 60:x 이용\n",
        "  target = list(divmod(target,1))                                               # h= int(target); m=int((time-h)*100*60 / 100)\n",
        "  target[1] *= 60                                                               # return [h,m]\n",
        "  return target\n",
        "\n",
        "print('-'*30)\n",
        "s = float(input('Speed(km/h) input: '))\n",
        "d = float(input('Distance(km) input: '))\n",
        "t = getTime(s,d)\n",
        "\n",
        "print(f'{s}(km/h)속도로 {d}(km) 이동한 시간: {t[0]}(h)시간 {t[1]}(m)분')"
      ],
      "metadata": {
        "colab": {
          "base_uri": "https://localhost:8080/"
        },
        "id": "6Ud5FtzylYar",
        "outputId": "e7c94b12-cb34-4bb3-d408-82a7fea74e1e"
      },
      "execution_count": null,
      "outputs": [
        {
          "output_type": "stream",
          "name": "stdout",
          "text": [
            "------------------------------\n",
            "Speed(km/h) input: 90\n",
            "Distance(km) input: 247.5\n",
            "90.0(km/h)속도로 247.5(km) 이동한 시간: 2.0(h)시간 45.0(m)분\n"
          ]
        }
      ]
    },
    {
      "cell_type": "code",
      "source": [
        "# Q3\n",
        "# 강의 풀이\n",
        "def formatNum(n):\n",
        "  return format(n,',')\n",
        "\n",
        "child = 18000; infant = 25000; adult = 50000; DC = 0.5\n",
        "def ticket_bill(c1,c2,i1,i2,a1,a2):\n",
        "  cp = c1 * child\n",
        "  c_dc_p = int(c2 * child * DC)\n",
        "  ip = i1 * infant\n",
        "  i_dc_p = int(i2 * infant * DC)\n",
        "  ap = a1 * adult\n",
        "  a_dc_p = int(a2 * adult * DC)\n",
        "\n",
        "  print('='*30)\n",
        "  print(f'유아 {c1}명 요금: {formatNum(cp)}원')\n",
        "  print(f'유아 할인 대상 {c2}명 요금: {formatNum(c_dc_p)}원')\n",
        "  print(f'소아 {i1}명 요금: {ip}원')\n",
        "  print(f'소아 할인 대상 {i2}명 요금: {formatNum(i_dc_p)}원')\n",
        "  print(f'성인 {a1}명 요금: {formatNum(ap)}원')\n",
        "  print(f'성인 할인 대상{a2}명 요금: {formatNum(a_dc_p)}원')\n",
        "  print('='*30)\n",
        "  total = c1 + c2 + i1 + i2 + a1 + a2\n",
        "  print(f'Total: {total}명')\n",
        "  totalP = cp+c_dc_p+ip+i_dc_p+ap+a_dc_p\n",
        "  print('TotalPrice: {}원'.format(format(totalP,',')))"
      ],
      "metadata": {
        "id": "H9lwbMnJ1rao"
      },
      "execution_count": null,
      "outputs": []
    },
    {
      "cell_type": "code",
      "source": [
        "child_num = int(input('child count: '))\n",
        "child_dc = int(input('child DC count: '))\n",
        "infant_num = int(input('infant count: '))\n",
        "infant_dc = int(input('infant DC count: '))\n",
        "adult_num = int(input('adult count: '))\n",
        "adult_dc = int(input('adult DC count: '))\n",
        "ticket_bill(child_num, child_dc, infant_num, infant_dc, adult_num, adult_dc)"
      ],
      "metadata": {
        "colab": {
          "base_uri": "https://localhost:8080/"
        },
        "id": "RzVXfNZJlYX4",
        "outputId": "f5ab7709-bbeb-47fe-aa2b-12089dc4d70a"
      },
      "execution_count": null,
      "outputs": [
        {
          "output_type": "stream",
          "name": "stdout",
          "text": [
            "child count: 1\n",
            "child DC count: 1\n",
            "infant count: 2\n",
            "infant DC count: 1\n",
            "adult count: 2\n",
            "adult DC count: 0\n",
            "==============================\n",
            "유아 1명 요금: 18,000원\n",
            "유아 할인 대상 1명 요금: 9,000원\n",
            "소아 2명 요금: 50000원\n",
            "소아 할인 대상 1명 요금: 12,500원\n",
            "성인 2명 요금: 100,000원\n",
            "성인 할인 대상0명 요금: 0원\n",
            "==============================\n",
            "Total: 7명\n",
            "TotalPrice: 189,500원\n"
          ]
        }
      ]
    },
    {
      "cell_type": "code",
      "source": [
        "# Q4\n",
        "\n",
        "### 재귀함수 이용                                                               ### 재귀함수 말고 내 혼자 풀이\n",
        "                                                                                # def factorial(num):\n",
        "def recursionFun(n):                                                            #   result = 1\n",
        "  if n == 1:                                                                    #   for n in range(1, num+1):\n",
        "    return n                                                                    #     result *= n\n",
        "  return n * recursionFun(n-1)                                                  #   return result\n",
        "\n",
        "n = int(input('num: '))\n",
        "print(format(recursionFun(n),','))"
      ],
      "metadata": {
        "colab": {
          "base_uri": "https://localhost:8080/"
        },
        "id": "_2IqtByOA5eu",
        "outputId": "dc78d337-3f95-49ed-eb87-e98a7a37cd70"
      },
      "execution_count": null,
      "outputs": [
        {
          "output_type": "stream",
          "name": "stdout",
          "text": [
            "num: 10\n",
            "3,628,800\n"
          ]
        }
      ]
    },
    {
      "cell_type": "code",
      "source": [
        "# 단리\n",
        "def simple_interest(money,year,i):\n",
        "  target = 0\n",
        "  total = 0\n",
        "  for y in range(year):\n",
        "    target += money * (0.01 * i)\n",
        "  total = int(money + target)\n",
        "\n",
        "  print('[simple_interest_calculator]')\n",
        "  print('='*30)\n",
        "  print(f'Money : {formatNum(money)}원')\n",
        "  print(f'Year: {year}년\\nInterest: {i}%')\n",
        "  print(f'{year}년 후 총 수령액: {formatNum(total)}원')\n",
        "\n",
        "# 월복리\n",
        "def compound_interest(money,year,i):\n",
        "  month = year * 12\n",
        "  i_mon = (i / 12) * 0.01\n",
        "  result_m = money\n",
        "  for y in range(month):\n",
        "    result_m += result_m * i_mon\n",
        "  result_m = int(result_m)\n",
        "\n",
        "  print('[compound_interest_calculator]')\n",
        "  print('='*30)\n",
        "  print(f'Money : {formatNum(money)}원')\n",
        "  print(f'Year: {year}년\\nInterest: {i}%')\n",
        "  print(f'{year}년 후 총 수령액: {formatNum(result_m)}원')\n"
      ],
      "metadata": {
        "id": "4zw_NZzxHr0a"
      },
      "execution_count": null,
      "outputs": []
    },
    {
      "cell_type": "code",
      "source": [
        "simple_interest(10000000,3,3)\n",
        "print('-'*30)\n",
        "compound_interest(10000000,3,3)"
      ],
      "metadata": {
        "colab": {
          "base_uri": "https://localhost:8080/"
        },
        "id": "oHO0sWmJJ93U",
        "outputId": "7527d0c1-47ae-4517-8ccf-64fb3ebd37a3"
      },
      "execution_count": null,
      "outputs": [
        {
          "output_type": "stream",
          "name": "stdout",
          "text": [
            "[simple_interest_calculator]\n",
            "==============================\n",
            "Money : 10,000,000원\n",
            "Year: 3년\n",
            "Interest: 3%\n",
            "3년 후 총 수령액: 10,900,000원\n",
            "------------------------------\n",
            "[compound_interest_calculator]\n",
            "==============================\n",
            "Money : 10,000,000원\n",
            "Year: 3년\n",
            "Interest: 3%\n",
            "3년 후 총 수령액: 10,940,514원\n"
          ]
        }
      ]
    },
    {
      "cell_type": "markdown",
      "source": [
        "---"
      ],
      "metadata": {
        "id": "lOMgdymISgD1"
      }
    },
    {
      "cell_type": "code",
      "source": [
        "# Q1\n",
        "\n",
        "def scoreP_F(*scores):\n",
        "  def getTotal():\n",
        "    for s in scores:                                                            # 바로 for문 안하고 total= sum(scores) 가능!!!\n",
        "      total += s\n",
        "    print(f'Total sum: {total}')\n",
        "    return total\n",
        "  def getAvg():\n",
        "    avg = getTotal() / len(scores)\n",
        "    print(f'Total avg: {avg}')\n",
        "    return avg\n",
        "  def printPF():\n",
        "    flag = True\n",
        "    for s in scores:\n",
        "      if s >= 40: print(f'{s}: Pass')\n",
        "      else:\n",
        "        print(f'{s}: Fail')\n",
        "        flag = False                                                            # 이렇게 할 생각못하고 일일이 나눔\n",
        "    if getAvg() >= 60 and flag:\n",
        "        if s >= 40: print('Final Pass!!')\n",
        "        else: print('Final Fail!!')\n",
        "    else: print('Final Fail!!')\n",
        "\n",
        "  printPF()\n",
        "\n",
        "s1 = int(input('subject_1 score: '))\n",
        "s2 = int(input('subject_2 score: '))\n",
        "s3 = int(input('subject_3 score: '))\n",
        "s4 = int(input('subject_4 score: '))\n",
        "s5 = int(input('subject_5 score: '))\n",
        "\n",
        "scoreP_F(s1,s2,s3,s4,s5)\n",
        "\n",
        "# 강의자료\n",
        "  # def printPF():\n",
        "  #   for s in scores:\n",
        "  #     if s >= 40: print(f'{s}: Pass')\n",
        "  #     else: print(f'{s}: Fail')\n",
        "  # def printFinal():\n",
        "  #   result = 'Final PASS!!'\n",
        "  #   if getAvg() >= 60:\n",
        "  #     for s in scores:\n",
        "  #       if s < 40:\n",
        "  #         result = 'Final Fail!!'\n",
        "  #         break\n",
        "  #   else: result = 'Final Fail!!'\n",
        "  #   print(result)\n",
        "  # printPF()\n",
        "  # printFinal()"
      ],
      "metadata": {
        "id": "RZIMmsfEEnd7",
        "colab": {
          "base_uri": "https://localhost:8080/"
        },
        "outputId": "1d147014-2c30-46ac-84d0-6d55810af3e8"
      },
      "execution_count": null,
      "outputs": [
        {
          "output_type": "stream",
          "name": "stdout",
          "text": [
            "subject_1 score: 40\n",
            "subject_2 score: 45\n",
            "subject_3 score: 50\n",
            "subject_4 score: 75\n",
            "subject_5 score: 80\n",
            "40: Pass\n",
            "45: Pass\n",
            "50: Pass\n",
            "75: Pass\n",
            "80: Pass\n",
            "Total sum: 290\n",
            "Total avg: 58.0\n",
            "Final Fail!!\n"
          ]
        }
      ]
    },
    {
      "cell_type": "code",
      "source": [
        "# Q2\n",
        "def productCalculator():\n",
        "  cnt = 0; total_price=0\n",
        "  while True:\n",
        "    choiceNum = input('1.구매 2.종료: ')\n",
        "    if choiceNum == '2':\n",
        "      break\n",
        "    if choiceNum == '1':\n",
        "      cnt += 1\n",
        "      price = int(input('product price: '))\n",
        "      total_price += price\n",
        "  def productDC():\n",
        "    if cnt == 1:\n",
        "      priceDC = 5\n",
        "    elif cnt == 2:\n",
        "      priceDC = 10\n",
        "    elif cnt == 3:\n",
        "      priceDC = 15\n",
        "    elif cnt == 4:\n",
        "      priceDC = 20\n",
        "    else:\n",
        "      priceDC = 25\n",
        "\n",
        "    return priceDC\n",
        "\n",
        "  resultDC = total_price*(productDC()*0.01)\n",
        "  print('DC rate: {}'.format(productDC()))\n",
        "  print('result: {}원'.format(format(int(total_price-resultDC),',')))\n",
        "\n",
        "productCalculator()"
      ],
      "metadata": {
        "id": "qggIquDeEnVc",
        "colab": {
          "base_uri": "https://localhost:8080/"
        },
        "outputId": "b46d0899-6d47-4a6b-ee75-8871271e2ce4"
      },
      "execution_count": null,
      "outputs": [
        {
          "output_type": "stream",
          "name": "stdout",
          "text": [
            "1.구매 2.종료: 1\n",
            "product price: 1000\n",
            "1.구매 2.종료: 1\n",
            "product price: 1500\n",
            "1.구매 2.종료: 1\n",
            "product price: 500\n",
            "1.구매 2.종료: 1\n",
            "product price: 2250\n",
            "1.구매 2.종료: 2\n",
            "DC rate: 20\n",
            "result: 4,200원\n"
          ]
        }
      ]
    },
    {
      "cell_type": "code",
      "source": [
        "# 강의자료\n",
        "\n",
        "def productCalculator(gs):                                                      # 매개변수에 리스트가 옴\n",
        "  if len(gs) <= 0:\n",
        "    print('product None!!')\n",
        "    return\n",
        "  rate = 25\n",
        "  totalPrice = 0\n",
        "  rates = {1:5, 2:10, 3:15, 4:20}\n",
        "  if len(gs) in rates:\n",
        "    rate = rates[len(gs)]\n",
        "  for g in gs:\n",
        "    totalPrice += g * (1 - rate*0.01)                                           # len(gs)의 할인율을 상품 하나하나에 적용 후 더함\n",
        "  return [rate, int(totalPrice)]\n",
        "\n",
        "flag = True; gs=[]\n",
        "while flag:\n",
        "  choiceNum = int(input('1.구매 2.종료: '))\n",
        "  if choiceNum == 1:\n",
        "      products_price = int(input('product price: '))\n",
        "      gs.append(products_price)\n",
        "  elif choiceNum == 2:\n",
        "      result = productCalculator(gs)\n",
        "      flag = False\n",
        "\n",
        "print(gs)\n",
        "print('DC rate: {}'.format(result[0]))\n",
        "print('result: {}원'.format(format(result[1],',')))"
      ],
      "metadata": {
        "id": "ajeyGkcug3Ul",
        "colab": {
          "base_uri": "https://localhost:8080/"
        },
        "outputId": "667d0418-e08f-4c12-fc22-fa55ffb28d2a"
      },
      "execution_count": null,
      "outputs": [
        {
          "output_type": "stream",
          "name": "stdout",
          "text": [
            "1.구매 2.종료: 1\n",
            "product price: 1000\n",
            "1.구매 2.종료: 1\n",
            "product price: 1500\n",
            "1.구매 2.종료: 1\n",
            "product price: 500\n",
            "1.구매 2.종료: 1\n",
            "product price: 2250\n",
            "1.구매 2.종료: 2\n",
            "[1000, 1500, 500, 2250]\n",
            "DC rate: 20\n",
            "result: 4,200원\n"
          ]
        }
      ]
    },
    {
      "cell_type": "code",
      "source": [
        "# Q3\n",
        "def LottoNums():\n",
        "  import random\n",
        "  rNums = random.sample(range(1,46),6)\n",
        "  while True:\n",
        "    rInt = random.randint(1,45)\n",
        "    if rInt not in rNums: break\n",
        "\n",
        "  def getUserNums():\n",
        "    choice_nums = [];\n",
        "    i = 0\n",
        "    while i < 6:\n",
        "      n = int(input('Number input:'))\n",
        "      choice_nums.append(n)\n",
        "      i += 1\n",
        "\n",
        "    print(f'choice Nums: {choice_nums}')\n",
        "    return choice_nums\n",
        "\n",
        "  def matchNums():\n",
        "    choice_nums = getUserNums()\n",
        "    matchNums = []\n",
        "    for n in choice_nums:\n",
        "      if n in rNums:\n",
        "        matchNums.append(n)\n",
        "    if len(matchNums) == 6:\n",
        "        print('LOTTO 1st!!!')\n",
        "    elif len(matchNums) == 5 and rInt in choice_nums:\n",
        "        print('LOTTO 2nd!!!')\n",
        "    elif len(matchNums) == 5:\n",
        "        print('LOTTO 3rd!!!')\n",
        "    elif len(matchNums) == 4:\n",
        "        print('LOTTO 4th!!!')\n",
        "    elif len(matchNums) == 3:\n",
        "        print('LOTTO 5th!!!')\n",
        "    else: print('Next time OTL')\n",
        "    print(f'match Nums: {matchNums}')\n",
        "\n",
        "  matchNums()\n",
        "  print(f'Lotto Nums: {rNums}')\n",
        "  print(f'Bouns Num: {rInt}')\n",
        "\n",
        "LottoNums()"
      ],
      "metadata": {
        "colab": {
          "base_uri": "https://localhost:8080/"
        },
        "id": "JYyon3j1MNLC",
        "outputId": "2ed4f6cd-bfc9-471c-cd68-2366120ccb3d"
      },
      "execution_count": null,
      "outputs": [
        {
          "output_type": "stream",
          "name": "stdout",
          "text": [
            "Number input:25\n",
            "Number input:33\n",
            "Number input:1\n",
            "Number input:4\n",
            "Number input:5\n",
            "Number input:17\n",
            "choice Nums: [25, 33, 1, 4, 5, 17]\n",
            "Next time OTL\n",
            "match Nums: [33]\n",
            "Lotto Nums: [44, 22, 35, 33, 10, 30]\n",
            "Bouns Num: 41\n"
          ]
        }
      ]
    },
    {
      "cell_type": "code",
      "source": [
        "# 강의자료\n",
        "\n",
        "import random\n",
        "userNums = []; randNums = []; matchNums= []\n",
        "randBounNum = 0\n",
        "def setUserNums(ns):\n",
        "  global userNums\n",
        "  userNums = ns\n",
        "def getUserNums():\n",
        "  return userNums\n",
        "def setRandNums():\n",
        "  global randNums\n",
        "  randNums = random.sample(range(1,46),6)\n",
        "def getRandNums():\n",
        "  return randNums\n",
        "def setBounNum():\n",
        "  global randBounNum\n",
        "  while True:\n",
        "    randBounNum = random.randint(1,45)\n",
        "    if randBounNum not in randNums: break\n",
        "def getBounNum():\n",
        "  return randBounNum\n",
        "\n",
        "def lottoResult():\n",
        "  global userNums\n",
        "  global randNums\n",
        "  global matchNums\n",
        "  matchNums = []\n",
        "  for un in userNums:\n",
        "    if un in randNums:\n",
        "      matchNums.append(un)\n",
        "  if len(matchNums) == 6:\n",
        "        print('LOTTO 1st!!!')\n",
        "  elif len(matchNums) == 5 and randBounNum in userNums:\n",
        "        print('LOTTO 2nd!!!')\n",
        "  elif len(matchNums) == 5:\n",
        "        print('LOTTO 3rd!!!')\n",
        "  elif len(matchNums) == 4:\n",
        "        print('LOTTO 4th!!!')\n",
        "  elif len(matchNums) == 3:\n",
        "        print('LOTTO 5th!!!')\n",
        "  else: print('Next time OTL')\n",
        "  print(f'Match Nums: {matchNums}\\nLotto Nums: {randNums}\\nBouns Num: {randBounNum}')\n",
        "def startLotto():\n",
        "  n1 = int(input('Number(1~45) input:'))\n",
        "  n2 = int(input('Number(1~45) input:'))\n",
        "  n3 = int(input('Number(1~45) input:'))\n",
        "  n4 = int(input('Number(1~45) input:'))\n",
        "  n5 = int(input('Number(1~45) input:'))\n",
        "  n6 = int(input('Number(1~45) input:'))\n",
        "  selectNums = [n1, n2, n3, n4, n5, n6]\n",
        "\n",
        "  setUserNums(selectNums)\n",
        "  setRandNums()\n",
        "  setBounNum()\n",
        "  lottoResult()\n",
        "\n",
        "startLotto()"
      ],
      "metadata": {
        "id": "8F7aRbV-aPKI",
        "colab": {
          "base_uri": "https://localhost:8080/"
        },
        "outputId": "793907fe-48cc-4239-c120-e8521cad5ff9"
      },
      "execution_count": null,
      "outputs": [
        {
          "output_type": "stream",
          "name": "stdout",
          "text": [
            "Number(1~45) input:5\n",
            "Number(1~45) input:10\n",
            "Number(1~45) input:44\n",
            "Number(1~45) input:2\n",
            "Number(1~45) input:17\n",
            "Number(1~45) input:41\n",
            "Next time OTL\n",
            "Match Nums: []\n",
            "Lotto Nums: [16, 14, 27, 3, 4, 13]\n",
            "Bouns Num: 22\n"
          ]
        }
      ]
    }
  ]
}