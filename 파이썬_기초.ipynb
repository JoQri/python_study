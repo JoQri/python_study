{
  "nbformat": 4,
  "nbformat_minor": 0,
  "metadata": {
    "colab": {
      "provenance": [],
      "authorship_tag": "ABX9TyMsHbVrFinHDynMuKxezCcr",
      "include_colab_link": true
    },
    "kernelspec": {
      "name": "python3",
      "display_name": "Python 3"
    },
    "language_info": {
      "name": "python"
    }
  },
  "cells": [
    {
      "cell_type": "markdown",
      "metadata": {
        "id": "view-in-github",
        "colab_type": "text"
      },
      "source": [
        "<a href=\"https://colab.research.google.com/github/JoQri/zerobase_study/blob/main/%ED%8C%8C%EC%9D%B4%EC%8D%AC_%EA%B8%B0%EC%B4%88.ipynb\" target=\"_parent\"><img src=\"https://colab.research.google.com/assets/colab-badge.svg\" alt=\"Open In Colab\"/></a>"
      ]
    },
    {
      "cell_type": "code",
      "execution_count": null,
      "metadata": {
        "colab": {
          "base_uri": "https://localhost:8080/"
        },
        "id": "8vSW8zMbdecZ",
        "outputId": "e1f69b32-edfd-4e6a-d227-c5b8fb68b33e"
      },
      "outputs": [
        {
          "output_type": "stream",
          "name": "stdout",
          "text": [
            "55\n",
            "PAY!!\n"
          ]
        }
      ],
      "source": [
        "senior = 65\n",
        "passenger  = int(input())\n",
        "print('free') if passenger >= 65 else print('PAY!!')"
      ]
    },
    {
      "cell_type": "code",
      "source": [
        "# 반올림을 직접 코드로\n",
        "fNum = float(input())\n",
        "\n",
        "if fNum-int(fNum) >= 0.5:\n",
        "  print(int(fNum)+1)\n",
        "else:\n",
        "  print(int(fNum))"
      ],
      "metadata": {
        "colab": {
          "base_uri": "https://localhost:8080/"
        },
        "id": "1xaUadKV5pSq",
        "outputId": "390e14a8-5c09-4784-9699-ca23f39b9e2c"
      },
      "execution_count": null,
      "outputs": [
        {
          "output_type": "stream",
          "name": "stdout",
          "text": [
            "3.141592\n",
            "3\n"
          ]
        }
      ]
    },
    {
      "cell_type": "code",
      "source": [
        "highT = int(input('high: '))\n",
        "lowT = int(input('low: '))\n",
        "if highT-lowT >= 11:\n",
        "  print('일교차: {}도\\n감기조심하세요'.format(highT-lowT))\n",
        "else:\n",
        "  print('일교차: {}도\\n산책하기 좋은 날씨^^'.format(highT-lowT))"
      ],
      "metadata": {
        "colab": {
          "base_uri": "https://localhost:8080/"
        },
        "id": "XKgozGE-6PUr",
        "outputId": "43c4822e-179e-43cf-be18-31e0f15a3c65"
      },
      "execution_count": null,
      "outputs": [
        {
          "output_type": "stream",
          "name": "stdout",
          "text": [
            "high: 20\n",
            "low: 10\n",
            "일교차: 10도\n",
            "산책하기 좋은 날씨^^\n"
          ]
        }
      ]
    },
    {
      "cell_type": "code",
      "source": [
        "print('1.Latte(3.5)\\t2.essoprsso(3.0)\\t3.americano(2.0)\\t4.milk_tee(4.3)')\n",
        "uesrNum= int(input('choice: '))\n",
        "\n",
        "if uesrNum == 1:\n",
        "  print('1.Latte\\nPrice:3500')\n",
        "elif uesrNum == 2:\n",
        "  print('2.essoprsso\\nPrice:3000')\n",
        "elif uesrNum == 3:\n",
        "  print('3.americano\\nPrice:2000')\n",
        "else:\n",
        "  print('4.milk_tee\\nPrice:4300')"
      ],
      "metadata": {
        "colab": {
          "base_uri": "https://localhost:8080/"
        },
        "id": "k3ER4Rzs8NXJ",
        "outputId": "f9fd9143-f37c-4077-e065-908eda8f7b0c"
      },
      "execution_count": null,
      "outputs": [
        {
          "output_type": "stream",
          "name": "stdout",
          "text": [
            "1.Latte(3.5)\t2.essoprsso(3.0)\t3.americano(2.0)\t4.milk_tee(4.3)\n",
            "choice: 4\n",
            "4.milk_tee\n",
            "Price:4300\n"
          ]
        }
      ]
    },
    {
      "cell_type": "code",
      "source": [
        "selectNum = int(input('출퇴근 대상자? 1.예 2.아니오 - '))\n",
        "\n",
        "if selectNum == 1:\n",
        "  trans = int(input('1.도보, 자전거 2.버스,지하철 3.자가용 - '))\n",
        "  if trans == 1: print('5% D.C')\n",
        "  elif trans == 2: print('3% D.C')\n",
        "  elif trans == 3: print('1% D.C')\n",
        "\n",
        "elif selectNum == 2: print('No D.C')\n",
        "else: print('Wrong Number')"
      ],
      "metadata": {
        "colab": {
          "base_uri": "https://localhost:8080/"
        },
        "id": "i-W0Rnii_MZt",
        "outputId": "7aac7243-82e3-4c88-9fff-5e4e355bc175"
      },
      "execution_count": null,
      "outputs": [
        {
          "output_type": "stream",
          "name": "stdout",
          "text": [
            "출퇴근 대상자? 1.예 2.아니오 - 3\n",
            "Wrong Number\n"
          ]
        }
      ]
    },
    {
      "cell_type": "code",
      "source": [
        "gugudan = int(input())\n",
        "n=1\n",
        "while n<10:\n",
        "  print ('{} * {} = {}'.format(gugudan,n, gugudan*n))\n",
        "  n+=1"
      ],
      "metadata": {
        "colab": {
          "base_uri": "https://localhost:8080/"
        },
        "id": "GOfXwFc6B2Hc",
        "outputId": "b446df55-84aa-4fdb-ee4a-b7661f79de3f"
      },
      "execution_count": null,
      "outputs": [
        {
          "output_type": "stream",
          "name": "stdout",
          "text": [
            "7\n",
            "7 * 1 = 7\n",
            "7 * 2 = 14\n",
            "7 * 3 = 21\n",
            "7 * 4 = 28\n",
            "7 * 5 = 35\n",
            "7 * 6 = 42\n",
            "7 * 7 = 49\n",
            "7 * 8 = 56\n",
            "7 * 9 = 63\n"
          ]
        }
      ]
    },
    {
      "cell_type": "code",
      "source": [
        "maxInt = 0\n",
        "n = 1\n",
        "sum = 0\n",
        "\n",
        "while sum <= 50 and n <= 100:\n",
        "  n += 1\n",
        "\n",
        "  if n % 7 == 0:\n",
        "    sum += n\n",
        "    maxInt = n\n",
        "\n",
        "print(n)"
      ],
      "metadata": {
        "colab": {
          "base_uri": "https://localhost:8080/"
        },
        "id": "WrB4Sg-5Loab",
        "outputId": "7238bed9-3ee0-4624-c6b2-2995595599c2"
      },
      "execution_count": null,
      "outputs": [
        {
          "output_type": "stream",
          "name": "stdout",
          "text": [
            "28\n"
          ]
        }
      ]
    },
    {
      "cell_type": "code",
      "source": [
        "nowResult = 30\n",
        "result_1 = 0.15\n",
        "result_n = 0\n",
        "\n",
        "while nowResult >= 20:\n",
        "  result_n += 1\n",
        "  nowResult -= result_1\n",
        "\n",
        "print(result_n, nowResult)"
      ],
      "metadata": {
        "colab": {
          "base_uri": "https://localhost:8080/"
        },
        "id": "2G4G9QYwSRA0",
        "outputId": "7b686613-c7e9-4284-fff8-a050fd541255"
      },
      "execution_count": null,
      "outputs": [
        {
          "output_type": "stream",
          "name": "stdout",
          "text": [
            "67 19.950000000000095\n"
          ]
        }
      ]
    },
    {
      "cell_type": "code",
      "source": [
        "import random\n",
        "\n",
        "flag = True\n",
        "sum = 0\n",
        "day_n = 1\n",
        "\n",
        "while flag:\n",
        "  rInt = random.randint(50,100)\n",
        "  sum += rInt\n",
        "  day_n += 1\n",
        "  if sum > 10000:\n",
        "    flag = False\n",
        "print(day_n, sum)"
      ],
      "metadata": {
        "colab": {
          "base_uri": "https://localhost:8080/"
        },
        "id": "jb3qQh4rT6gO",
        "outputId": "27898ac0-a5c4-4d7a-faed-2d8570590027"
      },
      "execution_count": null,
      "outputs": [
        {
          "output_type": "stream",
          "name": "stdout",
          "text": [
            "134 10075\n"
          ]
        }
      ]
    },
    {
      "cell_type": "code",
      "source": [
        "for i in range(1,101):\n",
        "  if i % 7 != 0 or i % 3 != 0:\n",
        "    continue\n",
        "  print(i)\n"
      ],
      "metadata": {
        "colab": {
          "base_uri": "https://localhost:8080/"
        },
        "id": "mXDbfuWEcHI1",
        "outputId": "03406f79-19c3-4791-b02b-98933c7062bb"
      },
      "execution_count": null,
      "outputs": [
        {
          "output_type": "stream",
          "name": "stdout",
          "text": [
            "21\n",
            "42\n",
            "63\n",
            "84\n"
          ]
        }
      ]
    },
    {
      "cell_type": "code",
      "source": [
        "n = 0\n",
        "for i in range(1,101):\n",
        "  if i % 7 != 0 or i % 3 != 0:\n",
        "    continue\n",
        "  if n == 0:\n",
        "    print(i)                                                                    # 최소공배수\n",
        "\n",
        "  n += 1"
      ],
      "metadata": {
        "colab": {
          "base_uri": "https://localhost:8080/"
        },
        "id": "fHILWiNQethm",
        "outputId": "242a977a-57ab-4cc0-c7fe-703cdd9eb07e"
      },
      "execution_count": null,
      "outputs": [
        {
          "output_type": "stream",
          "name": "stdout",
          "text": [
            "21\n"
          ]
        }
      ]
    },
    {
      "cell_type": "code",
      "source": [
        "result = 1\n",
        "i = 1\n",
        "while result < 50 and i <= 10:\n",
        "  result *= i\n",
        "  i += 1\n",
        "\n",
        "print(i, result)"
      ],
      "metadata": {
        "colab": {
          "base_uri": "https://localhost:8080/"
        },
        "id": "B5RxG6bge9-t",
        "outputId": "dfe0dcad-16e2-4443-9071-e8449d79684f"
      },
      "execution_count": null,
      "outputs": [
        {
          "output_type": "stream",
          "name": "stdout",
          "text": [
            "6 120\n"
          ]
        }
      ]
    },
    {
      "cell_type": "code",
      "source": [
        "result = 1\n",
        "num = 0\n",
        "for i in range(1, 11):\n",
        "  result *= i\n",
        "\n",
        "  if result > 50:\n",
        "    num = i\n",
        "    break                                                                       # break키워드\n",
        "\n",
        "print(num, result)"
      ],
      "metadata": {
        "colab": {
          "base_uri": "https://localhost:8080/"
        },
        "id": "b1GCvyyQga_Z",
        "outputId": "88ee53f9-401c-428b-db6e-13154db4521c"
      },
      "execution_count": null,
      "outputs": [
        {
          "output_type": "stream",
          "name": "stdout",
          "text": [
            "5 120\n"
          ]
        }
      ]
    },
    {
      "cell_type": "code",
      "source": [
        "weight = 800\n",
        "bab = 70\n",
        "day_n = 1\n",
        "\n",
        "while weight <= 2200:\n",
        "  day_n += 1\n",
        "  weight += bab\n",
        "  print(day_n, weight)"
      ],
      "metadata": {
        "colab": {
          "base_uri": "https://localhost:8080/"
        },
        "id": "NkgfblxhiLu2",
        "outputId": "a0e1c003-6e2e-4492-e4c1-32d4d5eab594"
      },
      "execution_count": null,
      "outputs": [
        {
          "output_type": "stream",
          "name": "stdout",
          "text": [
            "2 870\n",
            "3 940\n",
            "4 1010\n",
            "5 1080\n",
            "6 1150\n",
            "7 1220\n",
            "8 1290\n",
            "9 1360\n",
            "10 1430\n",
            "11 1500\n",
            "12 1570\n",
            "13 1640\n",
            "14 1710\n",
            "15 1780\n",
            "16 1850\n",
            "17 1920\n",
            "18 1990\n",
            "19 2060\n",
            "20 2130\n",
            "21 2200\n",
            "22 2270\n"
          ]
        }
      ]
    },
    {
      "cell_type": "code",
      "source": [
        "weight = 800\n",
        "bab = 70\n",
        "day_n = 1\n",
        "\n",
        "while True:\n",
        "  day_n += 1\n",
        "  weight += bab\n",
        "  if weight >= 2200:\n",
        "    break\n",
        "\n",
        "print(day_n, weight)"
      ],
      "metadata": {
        "colab": {
          "base_uri": "https://localhost:8080/"
        },
        "id": "sl3AfzXMj4z4",
        "outputId": "5c33c1f4-e60b-4819-9eed-21db12382e2a"
      },
      "execution_count": null,
      "outputs": [
        {
          "output_type": "stream",
          "name": "stdout",
          "text": [
            "21 2200\n"
          ]
        }
      ]
    },
    {
      "cell_type": "markdown",
      "source": [
        "---"
      ],
      "metadata": {
        "id": "6UPhpcsM7alm"
      }
    },
    {
      "cell_type": "code",
      "source": [
        "python = '파이썬은 1991년 네덜란드계 소프트웨어 엔지니어인 귀도 반 로섬이 발표한 고급 프로그래밍 언어로, \\'인터프리터를 사용하는 객체지향 언어\\'이자 플랫폼에 독립적인, 동적 타이핑 대화형 언어이다.'\n",
        "\n",
        "python.find('객체지향')                                                         #find()함수"
      ],
      "metadata": {
        "colab": {
          "base_uri": "https://localhost:8080/"
        },
        "id": "JpXLUKz6m1QB",
        "outputId": "48e228ce-ae45-44f8-bb70-cbb5a5e3456d"
      },
      "execution_count": null,
      "outputs": [
        {
          "output_type": "execute_result",
          "data": {
            "text/plain": [
              "69"
            ]
          },
          "metadata": {},
          "execution_count": 1
        }
      ]
    },
    {
      "cell_type": "code",
      "source": [
        "ga = float(input('가로 길이: '))\n",
        "se = float(input('세로 길이: '))\n",
        "print('삼각형 넓이: %.2f'%(ga*se/2))"
      ],
      "metadata": {
        "colab": {
          "base_uri": "https://localhost:8080/"
        },
        "id": "w_xPmC5CzTJO",
        "outputId": "2985e8a9-fa98-4863-ae75-134a976d6113"
      },
      "execution_count": null,
      "outputs": [
        {
          "output_type": "stream",
          "name": "stdout",
          "text": [
            "가로 길이: 7\n",
            "세로 길이: 5\n",
            "삼각형 넓이: 17.50\n"
          ]
        }
      ]
    },
    {
      "cell_type": "code",
      "source": [
        "password = input('password: ')\n",
        "person_fNums = input('주민번호 앞자리: ')\n",
        "person_lNums = input('주민번호 뒷자리: ')\n",
        "person_lNums = person_lNums[0] + ((len(person_lNums)-1)*'*')                    #문자열[0]\n",
        "print('비밀번호: {}'.format((len(password))*'*'))\n",
        "print('주민번호: {}-{}'.format(person_fNums, person_lNums))"
      ],
      "metadata": {
        "colab": {
          "base_uri": "https://localhost:8080/"
        },
        "id": "qEUeIgSF0Omm",
        "outputId": "fe0140a7-17bc-4083-f838-f2a3a9c6fedd"
      },
      "execution_count": null,
      "outputs": [
        {
          "output_type": "stream",
          "name": "stdout",
          "text": [
            "password: 123456\n",
            "주민번호 앞자리: 001122\n",
            "주민번호 뒷자리: 334455\n",
            "비밀번호: ******\n",
            "주민번호: 001122-3*****\n"
          ]
        }
      ]
    },
    {
      "cell_type": "code",
      "source": [
        "weight = input('체중 입력(g): ')\n",
        "height = input('신장 입력(cm): ')\n",
        "if weight.isdigit() and height.isdigit():                                       #isdigit()함수\n",
        "  weight = float(weight) / 1000\n",
        "  height = float(height) / 100\n",
        "\n",
        "  BMI = weight / (height*height)\n",
        "  print('%.2f'%BMI)\n",
        "else:\n",
        "  print('잘못입력하였습니다')"
      ],
      "metadata": {
        "colab": {
          "base_uri": "https://localhost:8080/"
        },
        "id": "KSdj3bzg3iwO",
        "outputId": "2c7860eb-aeaf-4d25-dd25-c95fd3c7ba52"
      },
      "execution_count": null,
      "outputs": [
        {
          "output_type": "stream",
          "name": "stdout",
          "text": [
            "체중 입력(g): 85500\n",
            "신장 입력(cm): 187\n",
            "24.45\n"
          ]
        }
      ]
    },
    {
      "cell_type": "code",
      "source": [
        "import datetime                                                                 # datetime모듈\n",
        "today = datetime.datetime.today()\n",
        "print(today.year)\n",
        "\n",
        "age = int(input('age: '))\n",
        "age_100 = 100-age\n",
        "year_100 = today.year + age_100\n",
        "\n",
        "print(f'{year_100}년({age_100}년후)에 100살!!')"
      ],
      "metadata": {
        "colab": {
          "base_uri": "https://localhost:8080/"
        },
        "id": "bA8DIqmD6Pop",
        "outputId": "92220735-4d8e-4a52-d37c-9fa4c7c72008"
      },
      "execution_count": null,
      "outputs": [
        {
          "output_type": "stream",
          "name": "stdout",
          "text": [
            "2024\n",
            "age: 27\n",
            "2097년(73년후)에 100살!!\n"
          ]
        }
      ]
    },
    {
      "cell_type": "code",
      "source": [
        "target = int(input('상품가격: '))\n",
        "pay = int(input('지불금액: '))\n",
        "if pay >= target:\n",
        "  result = pay - target\n",
        "  result //= 10\n",
        "  result *= 10                                                                  # result = (result // 10) * 10\n",
        "  print('거스름돈: {}(원단위 절사)'.format(format(result,',')))\n",
        "else: print('지불금액이 부족합니다')\n",
        "\n",
        "r_5man=0; r_1man=0; r_5cheon=0; r_1cheon=0; r_500=0; r_100=0; r_10=0            # 주의!!!! 안했을경우 r_5man=1로 나옴\n",
        "\n",
        "if result >= 50000:\n",
        "  r_5man = result // 50000\n",
        "  result -= 50000*r_5man                                                        # result %= 50000\n",
        "\n",
        "if result >= 10000:\n",
        "  r_1man = result // 10000\n",
        "  result -= 10000 * r_1man\n",
        "\n",
        "if result>= 5000:\n",
        "  r_5cheon = result // 5000\n",
        "  result -= 5000*r_5cheon\n",
        "\n",
        "if result>= 1000:\n",
        "  r_1cheon = result // 1000\n",
        "  result -= 1000*r_1cheon\n",
        "\n",
        "if result>= 500:\n",
        "  r_500 = result // 500\n",
        "  result -= 500*r_500\n",
        "\n",
        "if result>= 100:\n",
        "  r_100 = result // 100\n",
        "  result -= 100*r_100\n",
        "\n",
        "if result>= 10:\n",
        "  r_10 = result // 10\n",
        "  result -= 10*r_10\n",
        "\n",
        "\n",
        "print(f'50,000 {r_5man}장')\n",
        "print(f'10,000 {r_1man}장')\n",
        "print(f'5,000 {r_5cheon}장')\n",
        "print(f'1,000 {r_1cheon}장')\n",
        "print(f'500 {r_500}개')\n",
        "print(f'100 {r_100}개')\n",
        "print(f'10 {r_10}개')"
      ],
      "metadata": {
        "id": "RFV0yyAE_iaE",
        "colab": {
          "base_uri": "https://localhost:8080/"
        },
        "outputId": "f9d558ee-ff2d-491f-de38-94e8ef1f73a2"
      },
      "execution_count": null,
      "outputs": [
        {
          "output_type": "stream",
          "name": "stdout",
          "text": [
            "상품가격: 35862\n",
            "지불금액: 100000\n",
            "거스름돈: 64,130(원단위 절사)\n",
            "50,000 1장\n",
            "10,000 1장\n",
            "5,000 0장\n",
            "1,000 4장\n",
            "500 0개\n",
            "100 1개\n",
            "10 3개\n"
          ]
        }
      ]
    },
    {
      "cell_type": "code",
      "source": [
        "kor= int(input('kor: '))\n",
        "eng= int(input('eng: '))\n",
        "math= int(input('math: '))\n",
        "                                                                                # 오류\n",
        "                                                                                # if kor >= eng:  print('Best high score: {}'.format(kor))\n",
        "                                                                                # elif eng >= math:  print('Best high score: {}'.format(eng))\n",
        "                                                                                # else:  print('Best high score: {}'.format(math))\n",
        "best_score = kor\n",
        "best_sub = 'korea'\n",
        "if eng > best_score:\n",
        "  best_score = eng\n",
        "  best_sub = 'english'\n",
        "if math > best_score:\n",
        "  best_score = math\n",
        "  best_sub = 'math'\n",
        "print('best subject(score): {}({})'.format(best_sub,best_score))\n",
        "                                                                                # 오류\n",
        "                                                                                # if kor <= eng:  print('lower score: {}'.format(kor))\n",
        "                                                                                # elif eng <= math:  print('lower score: {}'.format(eng))\n",
        "                                                                                # else:  print('lower score: {}'.format(math))\n",
        "lower_score = kor\n",
        "lower_sub = 'korea'\n",
        "if eng < lower_score:\n",
        "  lower_score = eng\n",
        "  lower_sub = 'english'\n",
        "if math < lower_score:\n",
        "  lower_score = math\n",
        "  lower_sub = 'math'\n",
        "print('lower subject(score): {}({})'.format(lower_sub,lower_score))\n",
        "print('best score - lower score: {}'.format(best_score-lower_score))"
      ],
      "metadata": {
        "colab": {
          "base_uri": "https://localhost:8080/"
        },
        "id": "fqIPpFylRL0E",
        "outputId": "6e5f420e-3757-42bf-db4d-5d29d4eb210a"
      },
      "execution_count": null,
      "outputs": [
        {
          "output_type": "stream",
          "name": "stdout",
          "text": [
            "kor: 84\n",
            "eng: 90\n",
            "math: 79\n",
            "best subject(score): english(90)\n",
            "lower subject(score): math(79)\n",
            "best score - lower score: 11\n"
          ]
        }
      ]
    },
    {
      "cell_type": "code",
      "source": [
        "# 초로 환산하는 프로그램\n",
        "hour = int(input('H: '))\n",
        "min = int(input('M: '))\n",
        "sec = int(input('S: '))\n",
        "\n",
        "result = ((hour * 60)*60) + (min*60) + sec\n",
        "print(format(result,','),'초')                                                  # result가 str로 변환"
      ],
      "metadata": {
        "colab": {
          "base_uri": "https://localhost:8080/"
        },
        "id": "mCtEPqrYT1l1",
        "outputId": "2500e09c-1644-4fa3-c2ae-f4efa707f5bb"
      },
      "execution_count": null,
      "outputs": [
        {
          "output_type": "stream",
          "name": "stdout",
          "text": [
            "H: 13\n",
            "M: 27\n",
            "S: 8\n",
            "48,428 초\n"
          ]
        }
      ]
    },
    {
      "cell_type": "code",
      "source": [
        "# 복리 계산기\n",
        "money = int(input('Money: '))\n",
        "year = int(input('Year: '))\n",
        "percent = float(input('Percent: '))\n",
        "for i in range(year):\n",
        "  money += money*percent*0.01\n",
        "print(year,'년 후 금액: ',format(int(money),','),'원')"
      ],
      "metadata": {
        "id": "pYvHY0lzYL0j",
        "colab": {
          "base_uri": "https://localhost:8080/"
        },
        "outputId": "a7d0edb0-57f1-4527-d619-1d7b1339d357"
      },
      "execution_count": null,
      "outputs": [
        {
          "output_type": "stream",
          "name": "stdout",
          "text": [
            "Money: 2000000\n",
            "Year: 6\n",
            "Percent: 5.1\n",
            "6 년 후 금액:  2,695,543 원\n"
          ]
        }
      ]
    },
    {
      "cell_type": "code",
      "source": [
        "# 고도에 따른 온도 계산기\n",
        "base = 29\n",
        "step = 60\n",
        "stepTemp = 0.8\n",
        "\n",
        "high = float(input('고도 입력: '))\n",
        "target = base - ((high // step) * stepTemp)\n",
        "\n",
        "# 정답보고 함 -> 만약 60으로 나눠지지 않는 높이까지 올라갔다면 그 온도를 어떻게 계산하느냐에 따라 있어도 되고 없어도 됨\n",
        "if high % step != 0:\n",
        "  target -= stepTemp\n",
        "\n",
        "\n",
        "print('고도 {}m의 기온: {}'.format(high, target))"
      ],
      "metadata": {
        "colab": {
          "base_uri": "https://localhost:8080/"
        },
        "id": "bN9PlmQobLx5",
        "outputId": "9c2c6876-01dc-4f89-d206-e3d1115a9d78"
      },
      "execution_count": null,
      "outputs": [
        {
          "output_type": "stream",
          "name": "stdout",
          "text": [
            "고도 입력: 555\n",
            "15.0\n",
            "9.0\n",
            "9.25\n",
            "고도 555.0m의 기온: 21.8\n"
          ]
        }
      ]
    },
    {
      "cell_type": "code",
      "source": [
        "age = int(input('age: '))\n",
        "if age <= 19 or age >= 65:\n",
        "  lastNum = int(input('출생연도 끝자리: '))\n",
        "  if lastNum == 1 or lastNum == 6:\n",
        "    print('MON')\n",
        "  elif lastNum == 2 or lastNum == 7:\n",
        "    print('TUE')\n",
        "  elif lastNum == 3 or lastNum == 8:\n",
        "    print('WED')\n",
        "  elif lastNum == 4 or lastNum == 9:\n",
        "    print('THU')\n",
        "  else: print('FRI')\n",
        "else: print('하반기 일정 확인')"
      ],
      "metadata": {
        "colab": {
          "base_uri": "https://localhost:8080/"
        },
        "id": "qmPOinVOkW15",
        "outputId": "942d5336-02ec-42c5-925a-2c77a14940b3"
      },
      "execution_count": null,
      "outputs": [
        {
          "output_type": "stream",
          "name": "stdout",
          "text": [
            "age: 65\n",
            "출생연도 끝자리: 4\n",
            "THU\n"
          ]
        }
      ]
    },
    {
      "cell_type": "code",
      "source": [
        "kor = int(input('korea:')); avg_kor= 85\n",
        "eng = int(input('english:')); avg_eng=82\n",
        "math = int(input('math:')); avg_math=89\n",
        "sci = int(input('science:')); avg_sci=75\n",
        "his = int(input('history:')); avg_his=94\n",
        "\n",
        "kor_gap=kor-avg_kor; eng_gap=eng-avg_eng; math_gap=math-avg_math; sci_gap=sci- avg_sci; his_gap=his-avg_his\n",
        "str= '+' if kor_gap > 0 else '-'\n",
        "print(f'korea: {kor}: {str*abs(kor_gap)}({kor_gap})')                           # abs() 함수 - 절대값\n",
        "str= '+' if eng_gap > 0 else '-'\n",
        "print(f'english: {eng}: {str*abs(eng_gap)}({eng_gap})')\n",
        "str= '+' if math_gap > 0 else '-'\n",
        "print(f'math: {math}: {str*abs(math_gap)}({math_gap})')\n",
        "str= '+' if sci_gap > 0 else '-'\n",
        "print(f'science: {sci}: {str*abs(sci_gap)}({sci_gap})')\n",
        "str= '+' if his_gap > 0 else '-'\n",
        "print(f'history: {his}: {str*abs(his_gap)}({his_gap})')"
      ],
      "metadata": {
        "colab": {
          "base_uri": "https://localhost:8080/"
        },
        "id": "iOSykjiFrbbg",
        "outputId": "4a596246-bdec-4e6c-b4b7-6a8219c201a6"
      },
      "execution_count": null,
      "outputs": [
        {
          "output_type": "stream",
          "name": "stdout",
          "text": [
            "korea:91\n",
            "english:92\n",
            "math:61\n",
            "science:58\n",
            "history:90\n",
            "korea: 91: ++++++(6)\n",
            "english: 92: ++++++++++(10)\n",
            "math: 61: ----------------------------(-28)\n",
            "science: 58: -----------------(-17)\n",
            "history: 90: ----(-4)\n"
          ]
        }
      ]
    },
    {
      "cell_type": "code",
      "source": [
        "import datetime\n",
        "today = datetime.datetime.today()\n",
        "to_day = today.day\n",
        "print(today)\n",
        "print('-'*30)\n",
        "\n",
        "dust = int(input('미세먼지 수치: '))\n",
        "car_type = int((input('차량 종류 1.승용차 2.영업용차: ')))\n",
        "car_number = int(input('자동차 번호: '))\n",
        "\n",
        "if dust > 150 and car_type ==1:\n",
        "  print('차량 2부제 실시')\n",
        "  if to_day % 2 != car_number % 2:\n",
        "    print('금일 운행 가능합니다')\n",
        "  else: print('금일 운행제한 대상 차량입니다!!')\n",
        "if (dust <= 150) or (dust > 150 and car_type ==2):\n",
        "  print('차량 5부제 실시')\n",
        "  if to_day % 5 == car_number % 5:\n",
        "    print('금일 운행제한 대상 차량입니다!!')\n",
        "  else: print('금일 운행 가능합니다')"
      ],
      "metadata": {
        "colab": {
          "base_uri": "https://localhost:8080/"
        },
        "id": "Me5VV3qCRZzI",
        "outputId": "c6ef5f5d-87b6-46a8-ef49-70d10e33e786"
      },
      "execution_count": null,
      "outputs": [
        {
          "output_type": "stream",
          "name": "stdout",
          "text": [
            "2024-03-12 12:06:25.726382\n",
            "------------------------------\n",
            "미세먼지 수치: 155\n",
            "차량 종류 1.승용차 2.영업용차: 1\n",
            "자동차 번호: 6721\n",
            "차량 2부제 실시\n",
            "금일 운행 가능합니다\n"
          ]
        }
      ]
    },
    {
      "cell_type": "code",
      "source": [
        "import random\n",
        "rInt = random.randint(1,1000)\n",
        "n=0\n",
        "while rInt != inputNum:\n",
        "  inputNum = int(input())\n",
        "  n+=1\n",
        "  if rInt > inputNum:\n",
        "    print('난수가 크다')\n",
        "  elif rInt < inputNum: print('난수가 작다')\n",
        "if rInt == inputNum:\n",
        "  print('빙고!!')\n",
        "print('총 시도 횟수:{}'.format(n))"
      ],
      "metadata": {
        "colab": {
          "base_uri": "https://localhost:8080/"
        },
        "id": "roXijm5jjNoE",
        "outputId": "477ec7f2-ead5-4181-e237-85e3c2c95e20"
      },
      "execution_count": null,
      "outputs": [
        {
          "output_type": "stream",
          "name": "stdout",
          "text": [
            "500\n",
            "난수가 크다\n",
            "750\n",
            "난수가 작다\n",
            "700\n",
            "난수가 작다\n",
            "600\n",
            "난수가 작다\n",
            "550\n",
            "난수가 크다\n",
            "570\n",
            "난수가 작다\n",
            "565\n",
            "난수가 작다\n",
            "560\n",
            "난수가 크다\n",
            "562\n",
            "난수가 크다\n",
            "563\n",
            "난수가 크다\n",
            "564\n",
            "빙고!!\n",
            "총 시도 횟수:11\n"
          ]
        }
      ]
    },
    {
      "cell_type": "code",
      "source": [
        "for i in range(1,101):\n",
        "  if i < 10:\n",
        "    result = '짝수' if i % 2 == 0 else '홀수'\n",
        "    print(f'[{i}]: {result}')\n",
        "  else:\n",
        "    n_10 = i // 10\n",
        "    result_10 = '짝수' if n_10 % 2 == 0 else '홀수'\n",
        "\n",
        "    n_1 = i % 10\n",
        "    if n_1 == 0: result_1 = 0                                                   # 강의랑 다른 풀이\n",
        "    elif n_1 % 2 == 0: result_1 = '짝수'\n",
        "    else: result_1 = '홀수'\n",
        "    print(f'[{i}]: 십의자리: {result_10}, 일의자리: {result_1}')"
      ],
      "metadata": {
        "colab": {
          "base_uri": "https://localhost:8080/"
        },
        "id": "fGSFWmWolb8P",
        "outputId": "3044243b-6958-4ae5-a640-1859409e67b0"
      },
      "execution_count": null,
      "outputs": [
        {
          "output_type": "stream",
          "name": "stdout",
          "text": [
            "[1]: 홀수\n",
            "[2]: 짝수\n",
            "[3]: 홀수\n",
            "[4]: 짝수\n",
            "[5]: 홀수\n",
            "[6]: 짝수\n",
            "[7]: 홀수\n",
            "[8]: 짝수\n",
            "[9]: 홀수\n",
            "[10]: 십의자리: 홀수, 일의자리: 0\n",
            "[11]: 십의자리: 홀수, 일의자리: 홀수\n",
            "[12]: 십의자리: 홀수, 일의자리: 짝수\n",
            "[13]: 십의자리: 홀수, 일의자리: 홀수\n",
            "[14]: 십의자리: 홀수, 일의자리: 짝수\n",
            "[15]: 십의자리: 홀수, 일의자리: 홀수\n",
            "[16]: 십의자리: 홀수, 일의자리: 짝수\n",
            "[17]: 십의자리: 홀수, 일의자리: 홀수\n",
            "[18]: 십의자리: 홀수, 일의자리: 짝수\n",
            "[19]: 십의자리: 홀수, 일의자리: 홀수\n",
            "[20]: 십의자리: 짝수, 일의자리: 0\n",
            "[21]: 십의자리: 짝수, 일의자리: 홀수\n",
            "[22]: 십의자리: 짝수, 일의자리: 짝수\n",
            "[23]: 십의자리: 짝수, 일의자리: 홀수\n",
            "[24]: 십의자리: 짝수, 일의자리: 짝수\n",
            "[25]: 십의자리: 짝수, 일의자리: 홀수\n",
            "[26]: 십의자리: 짝수, 일의자리: 짝수\n",
            "[27]: 십의자리: 짝수, 일의자리: 홀수\n",
            "[28]: 십의자리: 짝수, 일의자리: 짝수\n",
            "[29]: 십의자리: 짝수, 일의자리: 홀수\n",
            "[30]: 십의자리: 홀수, 일의자리: 0\n",
            "[31]: 십의자리: 홀수, 일의자리: 홀수\n",
            "[32]: 십의자리: 홀수, 일의자리: 짝수\n",
            "[33]: 십의자리: 홀수, 일의자리: 홀수\n",
            "[34]: 십의자리: 홀수, 일의자리: 짝수\n",
            "[35]: 십의자리: 홀수, 일의자리: 홀수\n",
            "[36]: 십의자리: 홀수, 일의자리: 짝수\n",
            "[37]: 십의자리: 홀수, 일의자리: 홀수\n",
            "[38]: 십의자리: 홀수, 일의자리: 짝수\n",
            "[39]: 십의자리: 홀수, 일의자리: 홀수\n",
            "[40]: 십의자리: 짝수, 일의자리: 0\n",
            "[41]: 십의자리: 짝수, 일의자리: 홀수\n",
            "[42]: 십의자리: 짝수, 일의자리: 짝수\n",
            "[43]: 십의자리: 짝수, 일의자리: 홀수\n",
            "[44]: 십의자리: 짝수, 일의자리: 짝수\n",
            "[45]: 십의자리: 짝수, 일의자리: 홀수\n",
            "[46]: 십의자리: 짝수, 일의자리: 짝수\n",
            "[47]: 십의자리: 짝수, 일의자리: 홀수\n",
            "[48]: 십의자리: 짝수, 일의자리: 짝수\n",
            "[49]: 십의자리: 짝수, 일의자리: 홀수\n",
            "[50]: 십의자리: 홀수, 일의자리: 0\n",
            "[51]: 십의자리: 홀수, 일의자리: 홀수\n",
            "[52]: 십의자리: 홀수, 일의자리: 짝수\n",
            "[53]: 십의자리: 홀수, 일의자리: 홀수\n",
            "[54]: 십의자리: 홀수, 일의자리: 짝수\n",
            "[55]: 십의자리: 홀수, 일의자리: 홀수\n",
            "[56]: 십의자리: 홀수, 일의자리: 짝수\n",
            "[57]: 십의자리: 홀수, 일의자리: 홀수\n",
            "[58]: 십의자리: 홀수, 일의자리: 짝수\n",
            "[59]: 십의자리: 홀수, 일의자리: 홀수\n",
            "[60]: 십의자리: 짝수, 일의자리: 0\n",
            "[61]: 십의자리: 짝수, 일의자리: 홀수\n",
            "[62]: 십의자리: 짝수, 일의자리: 짝수\n",
            "[63]: 십의자리: 짝수, 일의자리: 홀수\n",
            "[64]: 십의자리: 짝수, 일의자리: 짝수\n",
            "[65]: 십의자리: 짝수, 일의자리: 홀수\n",
            "[66]: 십의자리: 짝수, 일의자리: 짝수\n",
            "[67]: 십의자리: 짝수, 일의자리: 홀수\n",
            "[68]: 십의자리: 짝수, 일의자리: 짝수\n",
            "[69]: 십의자리: 짝수, 일의자리: 홀수\n",
            "[70]: 십의자리: 홀수, 일의자리: 0\n",
            "[71]: 십의자리: 홀수, 일의자리: 홀수\n",
            "[72]: 십의자리: 홀수, 일의자리: 짝수\n",
            "[73]: 십의자리: 홀수, 일의자리: 홀수\n",
            "[74]: 십의자리: 홀수, 일의자리: 짝수\n",
            "[75]: 십의자리: 홀수, 일의자리: 홀수\n",
            "[76]: 십의자리: 홀수, 일의자리: 짝수\n",
            "[77]: 십의자리: 홀수, 일의자리: 홀수\n",
            "[78]: 십의자리: 홀수, 일의자리: 짝수\n",
            "[79]: 십의자리: 홀수, 일의자리: 홀수\n",
            "[80]: 십의자리: 짝수, 일의자리: 0\n",
            "[81]: 십의자리: 짝수, 일의자리: 홀수\n",
            "[82]: 십의자리: 짝수, 일의자리: 짝수\n",
            "[83]: 십의자리: 짝수, 일의자리: 홀수\n",
            "[84]: 십의자리: 짝수, 일의자리: 짝수\n",
            "[85]: 십의자리: 짝수, 일의자리: 홀수\n",
            "[86]: 십의자리: 짝수, 일의자리: 짝수\n",
            "[87]: 십의자리: 짝수, 일의자리: 홀수\n",
            "[88]: 십의자리: 짝수, 일의자리: 짝수\n",
            "[89]: 십의자리: 짝수, 일의자리: 홀수\n",
            "[90]: 십의자리: 홀수, 일의자리: 0\n",
            "[91]: 십의자리: 홀수, 일의자리: 홀수\n",
            "[92]: 십의자리: 홀수, 일의자리: 짝수\n",
            "[93]: 십의자리: 홀수, 일의자리: 홀수\n",
            "[94]: 십의자리: 홀수, 일의자리: 짝수\n",
            "[95]: 십의자리: 홀수, 일의자리: 홀수\n",
            "[96]: 십의자리: 홀수, 일의자리: 짝수\n",
            "[97]: 십의자리: 홀수, 일의자리: 홀수\n",
            "[98]: 십의자리: 홀수, 일의자리: 짝수\n",
            "[99]: 십의자리: 홀수, 일의자리: 홀수\n",
            "[100]: 십의자리: 짝수, 일의자리: 0\n"
          ]
        }
      ]
    },
    {
      "cell_type": "code",
      "source": [
        "inputNum=int(input())\n",
        "sum=0; sum_j=0; sum_h=0; mul=1\n",
        "for i in range(1, inputNum+1):\n",
        "  sum += i\n",
        "  if i % 2 == 0:\n",
        "    sum_j += i\n",
        "  elif i % 2 != 0:\n",
        "    sum_h += i\n",
        "  mul *= i\n",
        "\n",
        "mul = format(mul,',')                                                           # <- 정답확인\n",
        "print(f'합 결과: {sum}\\n홀수 합: {sum_h}\\n짝수 합:{sum_j}\\n팩토리얼: {mul}')"
      ],
      "metadata": {
        "colab": {
          "base_uri": "https://localhost:8080/"
        },
        "id": "0NEeNntdsZSD",
        "outputId": "c9143ccc-a517-4154-85b8-1a9f12a5a16a"
      },
      "execution_count": null,
      "outputs": [
        {
          "output_type": "stream",
          "name": "stdout",
          "text": [
            "15\n",
            "합 결과: 120\n",
            "홀수 합: 64\n",
            "짝수 합:56\n",
            "팩토리얼: 1,307,674,368,000\n"
          ]
        }
      ]
    },
    {
      "cell_type": "code",
      "source": [
        "# Q1                                                                            # 강의 코드\n",
        "for i in range(1,6):                                                            # for i in range(1, 6):\n",
        "  print('*'*i)                                                                  #     for j in range(i):\n",
        "                                                                                #         print('*', end='')\n",
        "                                                                                #     print()"
      ],
      "metadata": {
        "id": "H_Bbmj0b3aIJ",
        "colab": {
          "base_uri": "https://localhost:8080/"
        },
        "outputId": "e24320b2-f478-4783-c9b6-8f4df0c4dd33"
      },
      "execution_count": null,
      "outputs": [
        {
          "output_type": "stream",
          "name": "stdout",
          "text": [
            "*\n",
            "**\n",
            "***\n",
            "****\n",
            "*****\n"
          ]
        }
      ]
    },
    {
      "cell_type": "code",
      "source": [
        "# Q2                                                                            # 강의 코드\n",
        "for i in range(1,6):                                                            # for i in range(1, 6):\n",
        "  for j in range(5,i,-1):                                                       #   for j in range(6 - i - 1):\n",
        "    print(' ',end='')                                                           #     print(' ', end='')\n",
        "  print(i*'*')                                                                  #   for k in range(i):\n",
        "                                                                                #     print('*', end='')\n",
        "                                                                                #   print()"
      ],
      "metadata": {
        "colab": {
          "base_uri": "https://localhost:8080/"
        },
        "id": "ttggK9hj49Rj",
        "outputId": "27bff6e6-5cd1-4ef4-d859-acc9f557c455"
      },
      "execution_count": null,
      "outputs": [
        {
          "output_type": "stream",
          "name": "stdout",
          "text": [
            "    *\n",
            "   **\n",
            "  ***\n",
            " ****\n",
            "*****\n"
          ]
        }
      ]
    },
    {
      "cell_type": "code",
      "source": [
        "# Q3                                                                            # 강의 코드\n",
        "for i in range(5,0,-1):                                                         # for i in range(5, 0, -1):\n",
        "  print('*'*i)                                                                  #     for j in range(i):\n",
        "                                                                                #         print('*', end='')\n",
        "                                                                                #     print()"
      ],
      "metadata": {
        "colab": {
          "base_uri": "https://localhost:8080/"
        },
        "id": "x0x8d0jK8hLY",
        "outputId": "3f9ab0c1-5a6d-4aff-b1ad-ba67a964869e"
      },
      "execution_count": null,
      "outputs": [
        {
          "output_type": "stream",
          "name": "stdout",
          "text": [
            "*****\n",
            "****\n",
            "***\n",
            "**\n",
            "*\n"
          ]
        }
      ]
    },
    {
      "cell_type": "code",
      "source": [
        "# Q4                                                                            # 강의 코드\n",
        "for i in range(5):                                                              # for i in range(5, 0, -1):\n",
        "  for k in range(1,i+1):                                                        #     for j in range(5 - i):\n",
        "    print(' ',end='')                                                           #        print(' ', end='')\n",
        "  for j in range(5,i,-1):                                                       #     for j in range(i):\n",
        "    print('*',end='')                                                           #        print('*', end='')\n",
        "  print()                                                                       #     print()"
      ],
      "metadata": {
        "colab": {
          "base_uri": "https://localhost:8080/"
        },
        "id": "NmkWQPnwAKDy",
        "outputId": "795e10bc-4084-4ba1-c593-dd345333fe2a"
      },
      "execution_count": null,
      "outputs": [
        {
          "output_type": "stream",
          "name": "stdout",
          "text": [
            "*****\n",
            " ****\n",
            "  ***\n",
            "   **\n",
            "    *\n"
          ]
        }
      ]
    },
    {
      "cell_type": "code",
      "source": [
        "# Q5                                                                            # 강의 코드\n",
        "for i in range(1,6):                                                            # for i in range(1, 10):\n",
        "  print('*'*i)                                                                  #    if i < 5:\n",
        "for i in range(4,0,-1):                                                         #       for j in range(i):\n",
        "  print('*'*i)                                                                  #          print('*', end='')\n",
        "                                                                                #    else:\n",
        "                                                                                #       for j in range(10-i):\n",
        "                                                                                #          print('*', end='')\n",
        "                                                                                #    print()"
      ],
      "metadata": {
        "colab": {
          "base_uri": "https://localhost:8080/"
        },
        "id": "w8hHFuI9BXPr",
        "outputId": "72533af9-a3d7-4f45-cca6-f20804966be8"
      },
      "execution_count": null,
      "outputs": [
        {
          "output_type": "stream",
          "name": "stdout",
          "text": [
            "*\n",
            "**\n",
            "***\n",
            "****\n",
            "*****\n",
            "****\n",
            "***\n",
            "**\n",
            "*\n"
          ]
        }
      ]
    },
    {
      "cell_type": "code",
      "source": [
        "# Q6                                                                            # 강의 코드\n",
        "for i in range(1,6):                                                            # for i in range(1, 6):\n",
        "  for j in range(i-1):                                                          #     for j in range(1, 6):\n",
        "    print(' ',end='')                                                           #         if j == i:\n",
        "  for k in range(1):                                                            #             print('*', end='')\n",
        "    print('*',end='')                                                           #         else:\n",
        "  print()                                                                       #             print(' ', end='')\n",
        "                                                                                #     print()"
      ],
      "metadata": {
        "colab": {
          "base_uri": "https://localhost:8080/"
        },
        "id": "k1ybrzhQKVvX",
        "outputId": "c841d99a-0128-407d-aceb-806ec4a47f8d"
      },
      "execution_count": null,
      "outputs": [
        {
          "output_type": "stream",
          "name": "stdout",
          "text": [
            "*\n",
            " *\n",
            "  *\n",
            "   *\n",
            "    *\n"
          ]
        }
      ]
    },
    {
      "cell_type": "code",
      "source": [
        "# Q7                                                                            # 강의 코드\n",
        "for i in range(4, -1, -1):                                                      # for i in range(5, 0, -1):\n",
        "  for j in range(i):                                                            #     for j in range(1, 6):\n",
        "    print(' ',end='')                                                           #         if j == i:\n",
        "  print('*')                                                                    #             print('*', end='')\n",
        "                                                                                #         else:\n",
        "                                                                                #             print(' ', end='')\n",
        "                                                                                #     print()"
      ],
      "metadata": {
        "colab": {
          "base_uri": "https://localhost:8080/"
        },
        "id": "mI0vuf0MMY5u",
        "outputId": "c2d94375-2481-4c31-90f0-c57912d3ee31"
      },
      "execution_count": null,
      "outputs": [
        {
          "output_type": "stream",
          "name": "stdout",
          "text": [
            "    *\n",
            "   *\n",
            "  *\n",
            " *\n",
            "*\n"
          ]
        }
      ]
    },
    {
      "cell_type": "code",
      "source": [
        "# Q8\n",
        "for i in range(1,6):\n",
        "  for j in range(5,i,-1):\n",
        "    print(' ',end='')\n",
        "  for k in range(2*i-1):\n",
        "    print('*',end='')\n",
        "  print()\n",
        "for i in range(1,6):\n",
        "  for j in range(i-1):\n",
        "    print(' ',end='')\n",
        "  for k in range(10,2*i-1,-1):\n",
        "    print('*',end='')\n",
        "  print()\n",
        "\n",
        "# 다른 블로그\n",
        "# for i in range(6):\n",
        "#     print(' '*(5-i)+'*'*(2*i+1))\n",
        "# for i in range(5,-1,-1):\n",
        "#     print(' '*(5-i)+'*'*(2*i+1))"
      ],
      "metadata": {
        "colab": {
          "base_uri": "https://localhost:8080/"
        },
        "id": "h0qYdAqAI4XV",
        "outputId": "c586fd61-2e8d-4782-9114-523332e8f5f9"
      },
      "execution_count": null,
      "outputs": [
        {
          "output_type": "stream",
          "name": "stdout",
          "text": [
            "    *\n",
            "   ***\n",
            "  *****\n",
            " *******\n",
            "*********\n",
            "*********\n",
            " *******\n",
            "  *****\n",
            "   ***\n",
            "    *\n"
          ]
        }
      ]
    },
    {
      "cell_type": "code",
      "source": [
        "bus_a = 15\n",
        "bus_b = 13\n",
        "bus_c = 8\n",
        "\n",
        "totalmin = 17*60                                                                # 버스A,B 운행시간 6:00~23:00(17시간)\n",
        "\n",
        "for i in range(totalmin+1):\n",
        "    if i % (bus_a*bus_b) == 0:\n",
        "        hour = 6 + (i // 60)\n",
        "        min = i % 60\n",
        "        print(f'busA와 busB 동시 정차!!\\t{hour}:{min}')\n",
        "    if i >= 20 and i <= (totalmin-60):                                          # 버스C 운행시간 6:20~22:00\n",
        "        if i % (bus_a*bus_b*bus_c) == 0:\n",
        "          hour = 6 + (i // 60)\n",
        "          min = i % 60\n",
        "          print(f'busA와 busB, busC 동시 정차!!\\t{hour}:{min}')\n",
        "        elif i % (bus_b*bus_c) == 0:\n",
        "          hour = 6 + (i // 60)\n",
        "          min = i % 60\n",
        "          print(f'busB와 busC 동시 정차!!\\t{hour}:{min}')\n",
        "        elif i % (bus_a*bus_c) == 0:\n",
        "          hour = 6 + (i // 60)\n",
        "          min = i % 60\n",
        "          print(f'busA와 busC 동시 정차!!\\t{hour}:{min}')"
      ],
      "metadata": {
        "colab": {
          "base_uri": "https://localhost:8080/"
        },
        "id": "xCwiBnXDK7_k",
        "outputId": "13ba0323-e888-4181-b860-6c5aa11136d6"
      },
      "execution_count": null,
      "outputs": [
        {
          "output_type": "stream",
          "name": "stdout",
          "text": [
            "busA와 busB 동시 정차!!\t6:0\n",
            "busB와 busC 동시 정차!!\t7:44\n",
            "busA와 busC 동시 정차!!\t8:0\n",
            "busA와 busB 동시 정차!!\t9:15\n",
            "busB와 busC 동시 정차!!\t9:28\n",
            "busA와 busC 동시 정차!!\t10:0\n",
            "busB와 busC 동시 정차!!\t11:12\n",
            "busA와 busC 동시 정차!!\t12:0\n",
            "busA와 busB 동시 정차!!\t12:30\n",
            "busB와 busC 동시 정차!!\t12:56\n",
            "busA와 busC 동시 정차!!\t14:0\n",
            "busB와 busC 동시 정차!!\t14:40\n",
            "busA와 busB 동시 정차!!\t15:45\n",
            "busA와 busC 동시 정차!!\t16:0\n",
            "busB와 busC 동시 정차!!\t16:24\n",
            "busA와 busC 동시 정차!!\t18:0\n",
            "busB와 busC 동시 정차!!\t18:8\n",
            "busA와 busB 동시 정차!!\t19:0\n",
            "busB와 busC 동시 정차!!\t19:52\n",
            "busA와 busC 동시 정차!!\t20:0\n",
            "busB와 busC 동시 정차!!\t21:36\n",
            "busA와 busC 동시 정차!!\t22:0\n",
            "busA와 busB 동시 정차!!\t22:15\n"
          ]
        }
      ]
    },
    {
      "cell_type": "code",
      "source": [
        "# 강의자료\n",
        "busA = 15\n",
        "busB = 13\n",
        "busC = 8\n",
        "\n",
        "totalMin = 17 * 60\n",
        "for i in range(totalMin + 1):\n",
        "    if i < 20 or i > (totalMin - 60):\n",
        "        if i % busA == 0 and i % busB == 0:\n",
        "            print('busA와 busB 동시 정차!!', end='')\n",
        "            hour = 6 + i // 60\n",
        "            min = i % 60\n",
        "            print('\\t{}:{}'.format(hour, min))\n",
        "    else:\n",
        "        if i % busA == 0 and i % busB == 0:\n",
        "            print('busA와 busB 동시 정차!!', end='')\n",
        "            hour = 6 + i // 60\n",
        "            min = i % 60\n",
        "            print('\\t{}:{}'.format(hour, min))\n",
        "        elif i % busA == 0 and i % busC == 0:\n",
        "            print('busA와 busC 동시 정차!!', end='')\n",
        "            hour = 6 + i // 60\n",
        "            min = i % 60\n",
        "            print('\\t{}:{}'.format(hour, min))\n",
        "        elif i % busB == 0 and i % busC == 0:\n",
        "            print('busB와 busC 동시 정차!!', end='')\n",
        "            hour = 6 + i // 60\n",
        "            min = i % 60\n",
        "            print('\\t{}:{}'.format(hour, min))"
      ],
      "metadata": {
        "colab": {
          "base_uri": "https://localhost:8080/"
        },
        "id": "9iIzDO7oOpXk",
        "outputId": "8de3f01e-98b8-4d27-bcc2-fdb15a0f3716"
      },
      "execution_count": 1,
      "outputs": [
        {
          "output_type": "stream",
          "name": "stdout",
          "text": [
            "busA와 busB 동시 정차!!\t6:0\n",
            "busB와 busC 동시 정차!!\t7:44\n",
            "busA와 busC 동시 정차!!\t8:0\n",
            "busA와 busB 동시 정차!!\t9:15\n",
            "busB와 busC 동시 정차!!\t9:28\n",
            "busA와 busC 동시 정차!!\t10:0\n",
            "busB와 busC 동시 정차!!\t11:12\n",
            "busA와 busC 동시 정차!!\t12:0\n",
            "busA와 busB 동시 정차!!\t12:30\n",
            "busB와 busC 동시 정차!!\t12:56\n",
            "busA와 busC 동시 정차!!\t14:0\n",
            "busB와 busC 동시 정차!!\t14:40\n",
            "busA와 busB 동시 정차!!\t15:45\n",
            "busA와 busC 동시 정차!!\t16:0\n",
            "busB와 busC 동시 정차!!\t16:24\n",
            "busA와 busC 동시 정차!!\t18:0\n",
            "busB와 busC 동시 정차!!\t18:8\n",
            "busA와 busB 동시 정차!!\t19:0\n",
            "busB와 busC 동시 정차!!\t19:52\n",
            "busA와 busC 동시 정차!!\t20:0\n",
            "busB와 busC 동시 정차!!\t21:36\n",
            "busA와 busC 동시 정차!!\t22:0\n",
            "busA와 busB 동시 정차!!\t22:15\n"
          ]
        }
      ]
    },
    {
      "cell_type": "code",
      "source": [
        "gearA = int(input('GearA 톱니수 입력: '))\n",
        "gearB = int(input('GearB 톱니수 입력: '))\n",
        "circleA = 0\n",
        "circleB = 0\n",
        "leastNum = 0\n",
        "flag = True\n",
        "while flag:\n",
        "  if circleA != 0:\n",
        "    if circleA != leastNum:\n",
        "      circleA += gearA\n",
        "    else: flag = False\n",
        "  else: circleA += gearA\n",
        "\n",
        "  if circleB != 0 and circleB % gearA == 0:\n",
        "    leastNum = circleB\n",
        "  else: circleB += gearB\n",
        "\n",
        "print('최초 만나는 톱니수(최소공배수): {}톱니'.format(leastNum))\n",
        "print('gearA 회전수: {}회전'.format(int(leastNum/gearA)))\n",
        "print('gearB 회전수: {}회전'.format(int(leastNum/gearB)))"
      ],
      "metadata": {
        "colab": {
          "base_uri": "https://localhost:8080/"
        },
        "id": "P0Ah_VSY3YqW",
        "outputId": "ec90121e-cfa0-4a4b-a3ab-92a5a3e0187a"
      },
      "execution_count": null,
      "outputs": [
        {
          "output_type": "stream",
          "name": "stdout",
          "text": [
            "GearA 톱니수 입력: 8\n",
            "GearB 톱니수 입력: 18\n",
            "최초 만나는 톱니수(최소공배수): 72톱니\n",
            "gearA 회전수: 9회전\n",
            "gearB 회전수: 4회전\n"
          ]
        }
      ]
    }
  ]
}