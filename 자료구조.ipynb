{
  "nbformat": 4,
  "nbformat_minor": 0,
  "metadata": {
    "colab": {
      "provenance": [],
      "authorship_tag": "ABX9TyP5a5D3EaorR9J+YZBBb+5T",
      "include_colab_link": true
    },
    "kernelspec": {
      "name": "python3",
      "display_name": "Python 3"
    },
    "language_info": {
      "name": "python"
    }
  },
  "cells": [
    {
      "cell_type": "markdown",
      "metadata": {
        "id": "view-in-github",
        "colab_type": "text"
      },
      "source": [
        "<a href=\"https://colab.research.google.com/github/JoQri/python_study/blob/main/%EC%9E%90%EB%A3%8C%EA%B5%AC%EC%A1%B0.ipynb\" target=\"_parent\"><img src=\"https://colab.research.google.com/assets/colab-badge.svg\" alt=\"Open In Colab\"/></a>"
      ]
    },
    {
      "cell_type": "code",
      "execution_count": null,
      "metadata": {
        "id": "DfwmFSpGasrh",
        "colab": {
          "base_uri": "https://localhost:8080/"
        },
        "outputId": "4fce28ce-daf2-444b-82a4-f280b542ef50"
      },
      "outputs": [
        {
          "output_type": "stream",
          "name": "stdout",
          "text": [
            "학생 수가 가장 적은 학급(학생 수): 7학급(17명)\n",
            "학생 수가 가장 많은 학급(학생 수): 3학급(23명)\n",
            "학생 수가 가장 적은 학급(학생 수): 7학급(17명)\n",
            "학생 수가 가장 많은 학급(학생 수): 3학급(23명)\n"
          ]
        }
      ],
      "source": [
        "students = [[1,18],[2,19],[3,23],[4,21],[5,20],[6,22],[7,17]]\n",
        "min_y= 0; min_cnt=0\n",
        "for y,cnt in students:\n",
        "  if min_cnt==0 or cnt<=min_cnt:\n",
        "    min_y= y; min_cnt=cnt\n",
        "print('학생 수가 가장 적은 학급(학생 수): {}학급({}명)'.format(min_y,min_cnt))\n",
        "\n",
        "max_y= 0; max_cnt=0\n",
        "for y,cnt in students:\n",
        "  if cnt>=max_cnt:\n",
        "    max_y= y; max_cnt=cnt\n",
        "print('학생 수가 가장 많은 학급(학생 수): {}학급({}명)'.format(max_y,max_cnt))\n",
        "\n",
        "# while문\n",
        "n=0; min_y= 0; min_cnt=0; max_y= 0; max_cnt=0\n",
        "while n < len(students):\n",
        "  if min_cnt==0 or students[n][1] <= min_cnt:\n",
        "    min_y= students[n][0]; min_cnt=students[n][1]\n",
        "  if students[n][1] >= max_cnt:\n",
        "    max_y= students[n][0]; max_cnt=students[n][1]\n",
        "  n +=1\n",
        "print('학생 수가 가장 적은 학급(학생 수): {}학급({}명)'.format(min_y,min_cnt))\n",
        "print('학생 수가 가장 많은 학급(학생 수): {}학급({}명)'.format(max_y,max_cnt))"
      ]
    },
    {
      "cell_type": "code",
      "source": [
        "# sort()했을경우\n",
        "students = [[1,18],[2,19],[3,23],[4,21],[5,20],[6,22],[7,17]]\n",
        "students.sort(key=lambda x: x[1])                                               # sort() sorted()- key 매개변수: 정렬 기준지정\n",
        "print(students)\n",
        "\n",
        "print('학생 수가 가장 적은 학급(학생 수): {}학급({}명)'.format(students[0][0],students[0][1]))\n",
        "print('학생 수가 가장 많은 학급(학생 수): {}학급({}명)'.format(students[-1][0],students[-1][1]))"
      ],
      "metadata": {
        "colab": {
          "base_uri": "https://localhost:8080/"
        },
        "id": "BPsZhH0ciimu",
        "outputId": "f1685875-7345-4d2c-992d-ed1acc96fa3b"
      },
      "execution_count": null,
      "outputs": [
        {
          "output_type": "stream",
          "name": "stdout",
          "text": [
            "[[7, 17], [1, 18], [2, 19], [5, 20], [4, 21], [6, 22], [3, 23]]\n",
            "학생 수가 가장 적은 학급(학생 수): 7학급(17명)\n",
            "학생 수가 가장 많은 학급(학생 수): 3학급(23명)\n"
          ]
        }
      ]
    },
    {
      "cell_type": "code",
      "source": [
        "scores = [['kor',58],['eng',77],['math',89],['sci',99],['his',50]]\n",
        "n=0\n",
        "sum=0\n",
        "min_score = 60\n",
        "while n < len(scores):\n",
        "  sum += scores[n][1]\n",
        "  if scores[n][1] < min_score: print('과락 과목:{}({}점)'.format(scores[n][0],scores[n][1]))\n",
        "  n+= 1\n",
        "print(f'총점: {sum}점')\n"
      ],
      "metadata": {
        "colab": {
          "base_uri": "https://localhost:8080/"
        },
        "id": "JOQzCaTjkQi0",
        "outputId": "5000c604-4086-4aa2-cadf-f40afec8c814"
      },
      "execution_count": null,
      "outputs": [
        {
          "output_type": "stream",
          "name": "stdout",
          "text": [
            "과락 과목:kor(58점)\n",
            "과락 과목:his(50점)\n",
            "총점: 373점\n"
          ]
        }
      ]
    },
    {
      "cell_type": "code",
      "source": [
        "message = input('input: ')\n",
        "cnt = 0\n",
        "for idx,val in enumerate(message):                                              # enumerate()함수\n",
        "  if val == ' ':\n",
        "    cnt += 1\n",
        "print(f'공백이 총 {cnt}개 있습니다')"
      ],
      "metadata": {
        "colab": {
          "base_uri": "https://localhost:8080/"
        },
        "id": "PevPCdrOq8wR",
        "outputId": "a63f6a87-6a5c-4736-9848-c8ac2e21e66a"
      },
      "execution_count": null,
      "outputs": [
        {
          "output_type": "stream",
          "name": "stdout",
          "text": [
            "input: 오늘은 날씨가 좋아요\n",
            "공백이 총 2개 있습니다\n"
          ]
        }
      ]
    },
    {
      "cell_type": "code",
      "source": [
        "nums = [1,3,6,11,45,57,62,74,85]\n",
        "inputNum= int(input())\n",
        "target_idx = 0\n",
        "for idx,n in enumerate(nums):                                                   # 또다른방법:\n",
        "  if inputNum >= n:                                                             # target_idx == 0(딱 1번만) and inputNum <= n\n",
        "    target_idx = idx+1                                                          # target_idx = idx\n",
        "nums.insert(target_idx,inputNum)\n",
        "nums"
      ],
      "metadata": {
        "colab": {
          "base_uri": "https://localhost:8080/"
        },
        "id": "61Tx9506v3pD",
        "outputId": "5e205425-df17-423d-ed4b-b05de8105d79"
      },
      "execution_count": null,
      "outputs": [
        {
          "name": "stdout",
          "output_type": "stream",
          "text": [
            "5\n"
          ]
        },
        {
          "output_type": "execute_result",
          "data": {
            "text/plain": [
              "[1, 3, 5, 6, 11, 45, 57, 62, 74, 85]"
            ]
          },
          "metadata": {},
          "execution_count": 26
        }
      ]
    },
    {
      "cell_type": "code",
      "source": [
        "scores = [1,4,5,2,3,6,2,4]\n",
        "remove_score=int(input())\n",
        "while remove_score in scores:\n",
        "  scores.remove(remove_score)                                                   # remove()함수\n",
        "\n",
        "scores"
      ],
      "metadata": {
        "colab": {
          "base_uri": "https://localhost:8080/"
        },
        "id": "DPymJQZA3tgc",
        "outputId": "1843227e-7907-450a-f138-6567642f97d5"
      },
      "execution_count": null,
      "outputs": [
        {
          "name": "stdout",
          "output_type": "stream",
          "text": [
            "4\n"
          ]
        },
        {
          "output_type": "execute_result",
          "data": {
            "text/plain": [
              "[1, 5, 2, 3, 6, 2]"
            ]
          },
          "metadata": {},
          "execution_count": 27
        }
      ]
    },
    {
      "cell_type": "code",
      "source": [
        "# 암호 해독 프로그램\n",
        "target ='27156231'\n",
        "solve_list=[]\n",
        "for i in target:\n",
        "  solve_list.append(int(i))\n",
        "solve_list.reverse()\n",
        "\n",
        "val = solve_list[0] * solve_list[1]\n",
        "solve_list.insert(2,val)                                                        # insert()함수\n",
        "val = solve_list[3] * solve_list[4]\n",
        "solve_list.insert(5,val)\n",
        "val = solve_list[6] * solve_list[7]\n",
        "solve_list.insert(8,val)\n",
        "val = solve_list[9] * solve_list[10]\n",
        "solve_list.insert(11,val)\n",
        "print(solve_list)\n",
        "\n",
        "solve = ''\n",
        "for i in solve_list:\n",
        "  solve += str(i)\n",
        "print(solve)"
      ],
      "metadata": {
        "id": "U4x1o9bI-XQl",
        "colab": {
          "base_uri": "https://localhost:8080/"
        },
        "outputId": "db2ba352-3348-4ba8-87b4-fdf768681a33"
      },
      "execution_count": null,
      "outputs": [
        {
          "output_type": "stream",
          "name": "stdout",
          "text": [
            "[1, 3, 3, 2, 6, 12, 5, 1, 5, 7, 2, 14]\n",
            "13326125157214\n"
          ]
        }
      ]
    },
    {
      "cell_type": "code",
      "source": [
        "abc = 'abcdefga'\n",
        "print(abc[:4:2], abc[slice(0,4,2)])                                             # slice()함수\n",
        "print(abc.count('a'))"
      ],
      "metadata": {
        "colab": {
          "base_uri": "https://localhost:8080/"
        },
        "id": "p2jc0HaZuW2J",
        "outputId": "5b6c99b2-a5cf-463c-e72b-17bc2201f3f9"
      },
      "execution_count": null,
      "outputs": [
        {
          "output_type": "stream",
          "name": "stdout",
          "text": [
            "ac ac\n",
            "2\n"
          ]
        }
      ]
    },
    {
      "cell_type": "code",
      "source": [
        "a=('a','b','c','d','e','c','f','z')\n",
        "a.index('c', 4, 10)                                                             # index()함수"
      ],
      "metadata": {
        "colab": {
          "base_uri": "https://localhost:8080/"
        },
        "id": "dUTuWNo8HTSg",
        "outputId": "a76e1a08-3ac4-4c78-8235-92645d814895"
      },
      "execution_count": null,
      "outputs": [
        {
          "output_type": "execute_result",
          "data": {
            "text/plain": [
              "5"
            ]
          },
          "metadata": {},
          "execution_count": 2
        }
      ]
    },
    {
      "cell_type": "code",
      "source": [
        "import random\n",
        "sample_list = random.sample(range(1,11),10)                                     # random.sample()함수 - 1개더라도 리스트로 반환!!\n",
        "\n",
        "select_Num = int(input('7의 위치 입력: '))\n",
        "search_Idx = sample_list.index(7)\n",
        "print(sample_list)\n",
        "print('Win') if select_Num == search_Idx else print('TT')"
      ],
      "metadata": {
        "colab": {
          "base_uri": "https://localhost:8080/"
        },
        "id": "n8iMGAqZHVlc",
        "outputId": "d25834a1-6d1e-4cfe-8ba4-ff074a0579e1"
      },
      "execution_count": null,
      "outputs": [
        {
          "output_type": "stream",
          "name": "stdout",
          "text": [
            "7의 위치 입력: 5\n",
            "[4, 10, 6, 7, 3, 5, 9, 2, 8, 1]\n",
            "TT\n"
          ]
        }
      ]
    },
    {
      "cell_type": "code",
      "source": [
        "##### 내기준 어려웠던 문제\n",
        "import random\n",
        "\n",
        "types = ['A','B','AB','O']\n",
        "today_t = []\n",
        "for i in range(100):\n",
        "  t = types[random.randrange(len(types))]                                       # random.randrange()로 0,1,2,3을 뽑고 types[] 인덱싱으로 뽑기\n",
        "  today_t.append(t)\n",
        "\n",
        "print('todayData: {}'.format(today_t))\n",
        "\n",
        "for t in types:\n",
        "  print('{}형: {}개'.format(t,today_t.count(t)))                                # count()함수\n",
        "print('총 {}명'.format(len(today_t)))"
      ],
      "metadata": {
        "id": "gX0kkk5TILuT",
        "colab": {
          "base_uri": "https://localhost:8080/"
        },
        "outputId": "ddba983f-89c1-4398-ab6f-c9333b6df0ef"
      },
      "execution_count": null,
      "outputs": [
        {
          "output_type": "stream",
          "name": "stdout",
          "text": [
            "todayData: ['AB', 'B', 'B', 'O', 'AB', 'AB', 'O', 'AB', 'O', 'A', 'O', 'B', 'A', 'A', 'O', 'AB', 'AB', 'O', 'A', 'A', 'A', 'A', 'B', 'B', 'O', 'O', 'AB', 'A', 'B', 'O', 'A', 'A', 'B', 'O', 'O', 'A', 'AB', 'B', 'AB', 'O', 'A', 'A', 'O', 'O', 'O', 'AB', 'B', 'B', 'AB', 'A', 'O', 'B', 'O', 'A', 'A', 'A', 'O', 'A', 'O', 'O', 'A', 'A', 'B', 'B', 'O', 'O', 'AB', 'O', 'AB', 'B', 'O', 'O', 'A', 'A', 'O', 'B', 'A', 'A', 'AB', 'AB', 'A', 'AB', 'O', 'O', 'A', 'A', 'A', 'A', 'AB', 'O', 'O', 'B', 'AB', 'A', 'B', 'A', 'AB', 'B', 'B', 'AB']\n",
            "A형: 31개\n",
            "B형: 19개\n",
            "AB형: 20개\n",
            "O형: 30개\n",
            "총 100명\n"
          ]
        }
      ]
    },
    {
      "cell_type": "markdown",
      "source": [
        "---"
      ],
      "metadata": {
        "id": "r-KM2CxgFKz1"
      }
    },
    {
      "cell_type": "code",
      "source": [
        "wrongWord = ('쩔었다','짭새','꼽사리','먹튀','쪼개다')\n",
        "sentence = '짭새 등장에 강도들은 모두 쪼개다. 꼽사리를 준 것이다'\n",
        "for w in wrongWord:\n",
        "  if w in sentence:\n",
        "    print('비속어 사용: {}'.format(w))"
      ],
      "metadata": {
        "id": "Xl0K6g3o1-zi",
        "colab": {
          "base_uri": "https://localhost:8080/"
        },
        "outputId": "24095b7a-e5a4-437c-8591-e67ebf0bc59e"
      },
      "execution_count": null,
      "outputs": [
        {
          "output_type": "stream",
          "name": "stdout",
          "text": [
            "비속어 사용: 짭새\n",
            "비속어 사용: 꼽사리\n",
            "비속어 사용: 쪼개다\n"
          ]
        }
      ]
    },
    {
      "cell_type": "code",
      "source": [
        "# 중복 제거(덧셈 연산자 사용)\n",
        "nums_1 = (1,3,5,7,9)\n",
        "nums_2 = (2,3,5,8,10)\n",
        "\n",
        "for n in nums_2:\n",
        "  if n not in nums_1:\n",
        "    nums_1 = nums_1 + (n,)                                                      # 1개의 아이템-뒤에 쉼표 필요\n",
        "print(nums_1)\n",
        "\n",
        "# 튜플 정렬(방법2)                                                              # sorted()함수\n",
        "print(type(nums_1))\n",
        "sorted_n1 =  sorted(nums_1)\n",
        "print(sorted_n1)\n",
        "print(type(sorted_n1))"
      ],
      "metadata": {
        "colab": {
          "base_uri": "https://localhost:8080/"
        },
        "id": "uLKYl52hOd_Y",
        "outputId": "98d81d0a-0f70-43f9-9f19-d60ea276aa31"
      },
      "execution_count": null,
      "outputs": [
        {
          "output_type": "stream",
          "name": "stdout",
          "text": [
            "(1, 3, 5, 7, 9, 2, 8, 10)\n",
            "<class 'tuple'>\n",
            "[1, 2, 3, 5, 7, 8, 9, 10]\n",
            "<class 'list'>\n"
          ]
        }
      ]
    },
    {
      "cell_type": "code",
      "source": [
        "# 리스트에 튜플아이템으로 변경\n",
        "list = ['a','b','c','d','e','f']\n",
        "list[:3] = (1,2,3,4,5)\n",
        "print(list)\n",
        "print(type(list))"
      ],
      "metadata": {
        "colab": {
          "base_uri": "https://localhost:8080/"
        },
        "id": "V2H2VkY8Sf3e",
        "outputId": "5f45ea84-5c76-44e9-e96d-beb69be19ea3"
      },
      "execution_count": null,
      "outputs": [
        {
          "output_type": "stream",
          "name": "stdout",
          "text": [
            "[1, 2, 3, 4, 5, 'd', 'e', 'f']\n",
            "<class 'list'>\n"
          ]
        }
      ]
    },
    {
      "cell_type": "code",
      "source": [
        "dict_ex = {1:'a',2:'b'}\n",
        "\n",
        "dict_ex[3] = 'c'\n",
        "dict_ex"
      ],
      "metadata": {
        "id": "Bn_N5wTMUr1k",
        "colab": {
          "base_uri": "https://localhost:8080/"
        },
        "outputId": "0f93cc7c-9ef5-4c8e-cbf5-548883992d95"
      },
      "execution_count": 4,
      "outputs": [
        {
          "output_type": "execute_result",
          "data": {
            "text/plain": [
              "{1: 'a', 2: 'b', 3: 'c'}"
            ]
          },
          "metadata": {},
          "execution_count": 4
        }
      ]
    },
    {
      "cell_type": "code",
      "source": [
        "student = {}\n",
        "\n",
        "student['Name'] = input('Name: ')\n",
        "student['No'] = int(input('No: '))\n",
        "student"
      ],
      "metadata": {
        "colab": {
          "base_uri": "https://localhost:8080/"
        },
        "id": "dl2hy0I7VSnp",
        "outputId": "a3f58120-72cf-4b3b-d987-477accfd9366"
      },
      "execution_count": 6,
      "outputs": [
        {
          "name": "stdout",
          "output_type": "stream",
          "text": [
            "Name: Quri\n",
            "No: 31\n"
          ]
        },
        {
          "output_type": "execute_result",
          "data": {
            "text/plain": [
              "{'Name': 'Quri', 'No': '31'}"
            ]
          },
          "metadata": {},
          "execution_count": 6
        }
      ]
    },
    {
      "cell_type": "code",
      "source": [
        "# 0~10! 딕셔어리 형태\n",
        "factorial = {}\n",
        "for i in range(11):\n",
        "  if i == 0:\n",
        "    factorial[0] = 1\n",
        "  else:\n",
        "    for j in range(1,i+1):\n",
        "      factorial[j] = factorial[j-1]*j                                           # factorial[0] = 1 이니깐\n",
        "\n",
        "print(factorial)"
      ],
      "metadata": {
        "colab": {
          "base_uri": "https://localhost:8080/"
        },
        "id": "ZCoAdBwnXOuJ",
        "outputId": "2d5a4355-abe0-4f4d-8364-9f109b60f25e"
      },
      "execution_count": 13,
      "outputs": [
        {
          "output_type": "stream",
          "name": "stdout",
          "text": [
            "{0: 1, 1: 1, 2: 2, 3: 6, 4: 24, 5: 120, 6: 720, 7: 5040, 8: 40320, 9: 362880, 10: 3628800}\n"
          ]
        }
      ]
    },
    {
      "cell_type": "code",
      "source": [
        "scores = {'kor':88,'eng':55,'mat':85,'sci':57,'his':82}\n",
        "min_s = 60\n",
        "\n",
        "if scores['kor'] < min_s: scores['kor'] = 'F'\n",
        "if scores['eng'] < min_s: scores['eng'] = 'F'\n",
        "if scores['mat'] < min_s: scores['mat'] = 'F'\n",
        "if scores['sci'] < min_s: scores['sci'] = 'F'\n",
        "if scores['his'] < min_s: scores['his'] = 'F'\n",
        "print(scores)"
      ],
      "metadata": {
        "colab": {
          "base_uri": "https://localhost:8080/"
        },
        "id": "5R1LyWaOYwOe",
        "outputId": "f076c0d2-303a-47e0-a4d6-928f380ee168"
      },
      "execution_count": 17,
      "outputs": [
        {
          "output_type": "stream",
          "name": "stdout",
          "text": [
            "{'kor': 88, 'eng': 'F', 'mat': 85, 'sci': 'F', 'his': 82}\n"
          ]
        }
      ]
    },
    {
      "cell_type": "code",
      "source": [
        "scores = {'kor': 88, 'eng': 55, 'mat': 85, 'sci': 57, 'his': 82}\n",
        "min_s = 60\n",
        "f_scores = {}\n",
        "for k in scores:\n",
        "  if scores[k] < min_s:\n",
        "    scores[k] = 'F'\n",
        "    f_scores[k] = 'F'\n",
        "print(scores)\n",
        "print(f_scores)"
      ],
      "metadata": {
        "colab": {
          "base_uri": "https://localhost:8080/"
        },
        "id": "oPNYjaxqwdPV",
        "outputId": "d9499e77-4cdc-416b-91c0-b0c57ca64846"
      },
      "execution_count": 35,
      "outputs": [
        {
          "output_type": "stream",
          "name": "stdout",
          "text": [
            "{'kor': 88, 'eng': 'F', 'mat': 85, 'sci': 'F', 'his': 82}\n",
            "{'eng': 'F', 'sci': 'F'}\n"
          ]
        }
      ]
    },
    {
      "cell_type": "code",
      "source": [
        "# 나혼자 풀이\n",
        "scores = {'kor': 88, 'eng': 55, 'mat': 85, 'sci': 57, 'his': 82}\n",
        "min_s = 60\n",
        "for subject, score in scores.items():                                           # dictionary에서 반복문쓸때, items()함수\n",
        "    if score < min_s:\n",
        "        scores[subject] = 'F'\n",
        "\n",
        "print(scores)"
      ],
      "metadata": {
        "colab": {
          "base_uri": "https://localhost:8080/"
        },
        "id": "NkEPsMLVcUWB",
        "outputId": "01ac52ea-85ad-4abd-e39f-e39e9909a4f9"
      },
      "execution_count": 36,
      "outputs": [
        {
          "output_type": "stream",
          "name": "stdout",
          "text": [
            "{'kor': 88, 'eng': 'F', 'mat': 85, 'sci': 'F', 'his': 82}\n"
          ]
        }
      ]
    },
    {
      "cell_type": "code",
      "source": [
        "bodyInfo={'Name':'gildong','weight':83.0,'height':1.8}\n",
        "BMI = round(bodyInfo['weight'] / (bodyInfo['height'] **2),2)\n",
        "print(bodyInfo,BMI)\n",
        "\n",
        "# while문 활용\n",
        "date = 0\n",
        "while True:\n",
        "  date += 1\n",
        "  bodyInfo['weight'] = round((bodyInfo['weight'] - 0.3),2)\n",
        "  bodyInfo['height'] = round((bodyInfo['height'] + 0.001),3)\n",
        "  if date >= 30:\n",
        "    break\n",
        "\n",
        "BMI = round(bodyInfo['weight'] / (bodyInfo['height'] **2),2)\n",
        "print(bodyInfo,BMI)"
      ],
      "metadata": {
        "colab": {
          "base_uri": "https://localhost:8080/"
        },
        "id": "-wZDxsHYcUzS",
        "outputId": "a966af1c-ed0f-4133-93df-4cc7018ffd64"
      },
      "execution_count": 29,
      "outputs": [
        {
          "output_type": "stream",
          "name": "stdout",
          "text": [
            "{'Name': 'gildong', 'weight': 83.0, 'height': 1.8} 25.62\n",
            "{'Name': 'gildong', 'weight': 74.0, 'height': 1.83} 22.1\n"
          ]
        }
      ]
    },
    {
      "cell_type": "code",
      "source": [
        "# 딕셔어리 삭제 pop()함수\n",
        "ex = {'a':1,'b':2,'c':3,'d':[4,5]}\n",
        "ex_pop = ex.pop('c')\n",
        "print(ex)\n",
        "print(ex_pop)\n",
        "print(type(ex_pop))\n",
        "\n",
        "pop_list = ex.pop('d')[0]\n",
        "print(ex)\n",
        "print(pop_list)"
      ],
      "metadata": {
        "colab": {
          "base_uri": "https://localhost:8080/"
        },
        "id": "1-IRAEh8vY5j",
        "outputId": "cae8cf66-eff8-4505-9b5c-07851bf783db"
      },
      "execution_count": 41,
      "outputs": [
        {
          "output_type": "stream",
          "name": "stdout",
          "text": [
            "{'a': 1, 'b': 2, 'd': [4, 5]}\n",
            "3\n",
            "<class 'int'>\n",
            "{'a': 1, 'b': 2}\n",
            "4\n"
          ]
        }
      ]
    },
    {
      "cell_type": "code",
      "source": [
        "# 최저 및 최고 점수 삭제 프로그램 - del 키워드\n",
        "scores = {'kor': 88, 'eng': 55, 'mat': 85, 'sci': 57, 'his': 82}\n",
        "min_s = 0; min_sub = ''\n",
        "max_s = 0; max_sub = ''\n",
        "for key in scores.keys():\n",
        "  if min_s == 0 or scores[key] < min_s:\n",
        "    min_s = scores[key]\n",
        "    min_sub = key\n",
        "  if scores[key] > max_s:\n",
        "    max_s = scores[key]\n",
        "    max_sub = key\n",
        "print(min_sub,min_s)\n",
        "print(max_sub,max_s)\n",
        "del scores[min_sub]\n",
        "del scores[max_sub]\n",
        "scores"
      ],
      "metadata": {
        "colab": {
          "base_uri": "https://localhost:8080/"
        },
        "id": "m4yx9fBC0R5m",
        "outputId": "b2ab40d5-4ce6-48e8-e915-f6185fe4567a"
      },
      "execution_count": 43,
      "outputs": [
        {
          "output_type": "stream",
          "name": "stdout",
          "text": [
            "eng 55\n",
            "kor 88\n"
          ]
        },
        {
          "output_type": "execute_result",
          "data": {
            "text/plain": [
              "{'mat': 85, 'sci': 57, 'his': 82}"
            ]
          },
          "metadata": {},
          "execution_count": 43
        }
      ]
    },
    {
      "cell_type": "code",
      "source": [
        "scores = {'kor': 88, 'eng': 55, 'mat': 85, 'sci': 57, 'his': 82}\n",
        "del_keyword =  ['his', 'soc', 'sci']\n",
        "for key in del_keyword:                                                         # 정답보고 함\n",
        "  if key in scores:                                                             # in키워드\n",
        "    del scores[key]\n",
        "\n",
        "scores"
      ],
      "metadata": {
        "colab": {
          "base_uri": "https://localhost:8080/"
        },
        "id": "SQPCVf4hx1RR",
        "outputId": "c47a669c-cd50-4dfb-8248-8e992397ac0e"
      },
      "execution_count": 47,
      "outputs": [
        {
          "output_type": "execute_result",
          "data": {
            "text/plain": [
              "{'kor': 88, 'eng': 55, 'mat': 85}"
            ]
          },
          "metadata": {},
          "execution_count": 47
        }
      ]
    },
    {
      "cell_type": "markdown",
      "source": [
        "---"
      ],
      "metadata": {
        "id": "XQznsbFa9RSW"
      }
    },
    {
      "cell_type": "code",
      "source": [
        "import random\n",
        "rSample = random.sample(range(1,100),10)\n",
        "print(rSample)\n",
        "evens = []; odds=[]\n",
        "for r in rSample:\n",
        "  if r % 2 == 0:\n",
        "    evens.append(r)\n",
        "  elif r % 2 != 0:\n",
        "    odds.append(r)\n",
        "print('짝수: {}, 개수: {}'.format(evens, len(evens)))\n",
        "print('홀수: {}, 개수: {}'.format(odds, len(odds)))"
      ],
      "metadata": {
        "colab": {
          "base_uri": "https://localhost:8080/"
        },
        "id": "jUzsm1VF4Uns",
        "outputId": "a354320a-89c6-420c-8638-c985c784bb9e"
      },
      "execution_count": 49,
      "outputs": [
        {
          "output_type": "stream",
          "name": "stdout",
          "text": [
            "[36, 19, 83, 6, 39, 98, 87, 33, 90, 12]\n",
            "짝수: [36, 6, 98, 90, 12], 개수: 5\n",
            "홀수: [19, 83, 39, 87, 33], 개수: 5\n"
          ]
        }
      ]
    },
    {
      "cell_type": "code",
      "source": [
        "import random\n",
        "visitors = []\n",
        "for i in range(100):\n",
        "  visitors.append(random.randint(0,100))\n",
        "\n",
        "a1=[];a2=[];a3=[];a4=[];a5=[]\n",
        "for v in visitors:\n",
        "  if v <= 7:\n",
        "    a1.append(v)\n",
        "  elif v <= 13:\n",
        "    a2.append(v)\n",
        "  elif v <= 19:\n",
        "    a3.append(v)\n",
        "  elif v <= 64:\n",
        "    a4.append(v)\n",
        "  else: a5.append(v)\n",
        "\n",
        "print('*'*20)\n",
        "print(f'영유아\\t: {len(a1)}명\\t: {len(a1)*0}원')\n",
        "print(f'어린이\\t: {len(a2)}명\\t: {len(a2)*200}원')\n",
        "print(f'청소년\\t: {len(a3)}명\\t: {len(a3)*300}원')\n",
        "print(f'성인\\t: {len(a4)}명\\t: {len(a4)*500}원')\n",
        "print(f'어르신\\t: {len(a5)}명\\t: {len(a5)*0}원')\n",
        "total = (len(a1)*0) + (len(a2)*200) + (len(a3)*300) + (len(a4)*500) + (len(a5)*0)\n",
        "print('*'*20)\n",
        "print('1일 요금 총합계: {}원'.format(format(total,',')))"
      ],
      "metadata": {
        "colab": {
          "base_uri": "https://localhost:8080/"
        },
        "id": "5bQvQTHU_WkK",
        "outputId": "00522879-733e-49c3-d6d3-e027d0f06600"
      },
      "execution_count": 50,
      "outputs": [
        {
          "output_type": "stream",
          "name": "stdout",
          "text": [
            "********************\n",
            "영유아\t: 11명\t: 0원\n",
            "어린이\t: 5명\t: 1000원\n",
            "청소년\t: 7명\t: 2100원\n",
            "성인\t: 49명\t: 24500원\n",
            "어르신\t: 28명\t: 0원\n",
            "********************\n",
            "1일 요금 총합계: 27,600원\n"
          ]
        }
      ]
    },
    {
      "cell_type": "code",
      "source": [
        "# 강의 풀이(훨씬 간단)\n",
        "a1,a2,a3,a4,a5= 0,0,0,0,0\n",
        "for v in visitors:\n",
        "  if v <= 7:\n",
        "    a1 += 1\n",
        "  elif v <= 13:\n",
        "    a2 += 1\n",
        "  elif v <= 19:\n",
        "    a3 += 1\n",
        "  elif v <= 64:\n",
        "    a4 += 1\n",
        "  else: a5 += 1\n",
        "\n",
        "print('*'*20)\n",
        "print(f'영유아\\t: {a1}명\\t: {a1*0}원')\n",
        "print(f'어린이\\t: {a2}명\\t: {a2*200}원')\n",
        "print(f'청소년\\t: {a3}명\\t: {a3*300}원')\n",
        "print(f'성인\\t: {a4}명\\t: {a4*500}원')\n",
        "print(f'어르신\\t: {a5}명\\t: {a5*0}원')\n",
        "total = (a1*0) + (a2*200) + (a3*300) + (a4*500) + (a5*0)\n",
        "print('*'*20)\n",
        "print('1일 요금 총합계: {}원'.format(format(total,',')))"
      ],
      "metadata": {
        "colab": {
          "base_uri": "https://localhost:8080/"
        },
        "id": "4bjv1YyvEFcI",
        "outputId": "4bddc70b-f242-488c-c642-ba062167ff4d"
      },
      "execution_count": 51,
      "outputs": [
        {
          "output_type": "stream",
          "name": "stdout",
          "text": [
            "********************\n",
            "영유아\t: 8명\t: 0원\n",
            "어린이\t: 7명\t: 1400원\n",
            "청소년\t: 8명\t: 2400원\n",
            "성인\t: 43명\t: 21500원\n",
            "어르신\t: 34명\t: 0원\n",
            "********************\n",
            "1일 요금 총합계: 25,300원\n"
          ]
        }
      ]
    },
    {
      "cell_type": "code",
      "source": [
        "friends = []\n",
        "for i in range(5):\n",
        "  fri = input('Friend Name:')\n",
        "  friends.append(fri)\n",
        "print(friends)\n",
        "friends.sort()                                                                  # sort() 사용법 주의\n",
        "print(friends)\n",
        "friends.sort(reverse=True)\n",
        "print(friends)"
      ],
      "metadata": {
        "colab": {
          "base_uri": "https://localhost:8080/"
        },
        "id": "YiN2c_dlFmCO",
        "outputId": "30a69f9b-e1ad-435d-c9b1-b226751e2c3c"
      },
      "execution_count": 56,
      "outputs": [
        {
          "output_type": "stream",
          "name": "stdout",
          "text": [
            "Friend Name:박세리\n",
            "Friend Name:홍길동\n",
            "Friend Name:유재석\n",
            "Friend Name:강호동\n",
            "Friend Name:박지성\n",
            "['박세리', '홍길동', '유재석', '강호동', '박지성']\n",
            "['강호동', '박세리', '박지성', '유재석', '홍길동']\n",
            "['홍길동', '유재석', '박지성', '박세리', '강호동']\n"
          ]
        }
      ]
    },
    {
      "cell_type": "code",
      "source": [
        "# 중복제거\n",
        "nums = [2,22,7,8,9,2,7,3,5,2,7,1,3]\n",
        "\n",
        "# 방법1\n",
        "result = []\n",
        "for n in nums:\n",
        "  if n not in result:\n",
        "    result.append(n)\n",
        "print(result)\n",
        "\n",
        "# 방법2(강의)\n",
        "idx = 0\n",
        "while True:\n",
        "  if idx >= len(nums):\n",
        "    break\n",
        "\n",
        "  if nums.count(nums[idx]) >= 2:                                                # count()함수 이용\n",
        "    nums.remove(nums[idx])\n",
        "    continue                                                                    # idx는 +1이 안됨!!\n",
        "\n",
        "  idx += 1\n",
        "print(nums)"
      ],
      "metadata": {
        "colab": {
          "base_uri": "https://localhost:8080/"
        },
        "id": "8GyN_tiwHF6Q",
        "outputId": "c7efa56c-17c3-479a-f1d1-3c9cf4bcae72"
      },
      "execution_count": 59,
      "outputs": [
        {
          "output_type": "stream",
          "name": "stdout",
          "text": [
            "[2, 22, 7, 8, 9, 3, 5, 1]\n",
            "[22, 8, 9, 5, 2, 7, 1, 3]\n"
          ]
        }
      ]
    },
    {
      "cell_type": "code",
      "source": [
        "nums = [4,6,7,9]\n",
        "target = []\n",
        "for n1 in nums:\n",
        "  for n2 in nums:\n",
        "    if n1 != n2:                                                                # if n1 == n2:\n",
        "      target.append([n1,n2])                                                    #   continue\n",
        "                                                                                # target.append([n1,n2])\n",
        "print(target)\n",
        "print(len(target))\n",
        "\n",
        "# 수학공식 n! / (n-r)!"
      ],
      "metadata": {
        "colab": {
          "base_uri": "https://localhost:8080/"
        },
        "id": "-eW-JlXHJV6E",
        "outputId": "ab0dba9f-c435-4bad-83bb-9766aa354636"
      },
      "execution_count": 60,
      "outputs": [
        {
          "output_type": "stream",
          "name": "stdout",
          "text": [
            "[[4, 6], [4, 7], [4, 9], [6, 4], [6, 7], [6, 9], [7, 4], [7, 6], [7, 9], [9, 4], [9, 6], [9, 7]]\n",
            "12\n"
          ]
        }
      ]
    },
    {
      "cell_type": "code",
      "source": [
        "nums = [4,6,7,9]                                                                # 강의 내용\n",
        "target = []\n",
        "for n1 in nums:\n",
        "  for n2 in nums:\n",
        "    for n3 in nums:\n",
        "      if n1 != n2 and n1 != n3 and n2 != n3:\n",
        "        target.append([n1,n2,n3])\n",
        "\n",
        "print(target)\n",
        "print(len(target))"
      ],
      "metadata": {
        "colab": {
          "base_uri": "https://localhost:8080/"
        },
        "id": "Xygs9PMJQXCI",
        "outputId": "4a046b57-6df8-4fc7-968f-d6092b888e61"
      },
      "execution_count": 62,
      "outputs": [
        {
          "output_type": "stream",
          "name": "stdout",
          "text": [
            "[[4, 6, 7], [4, 6, 9], [4, 7, 6], [4, 7, 9], [4, 9, 6], [4, 9, 7], [6, 4, 7], [6, 4, 9], [6, 7, 4], [6, 7, 9], [6, 9, 4], [6, 9, 7], [7, 4, 6], [7, 4, 9], [7, 6, 4], [7, 6, 9], [7, 9, 4], [7, 9, 6], [9, 4, 6], [9, 4, 7], [9, 6, 4], [9, 6, 7], [9, 7, 4], [9, 7, 6]]\n",
            "24\n"
          ]
        }
      ]
    },
    {
      "cell_type": "code",
      "source": [],
      "metadata": {
        "id": "kCV1aFv5RFWD"
      },
      "execution_count": null,
      "outputs": []
    }
  ]
}