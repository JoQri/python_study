{
  "nbformat": 4,
  "nbformat_minor": 0,
  "metadata": {
    "colab": {
      "provenance": [],
      "authorship_tag": "ABX9TyPGZPluOW3JcEwGYQsCSnty",
      "include_colab_link": true
    },
    "kernelspec": {
      "name": "python3",
      "display_name": "Python 3"
    },
    "language_info": {
      "name": "python"
    }
  },
  "cells": [
    {
      "cell_type": "markdown",
      "metadata": {
        "id": "view-in-github",
        "colab_type": "text"
      },
      "source": [
        "<a href=\"https://colab.research.google.com/github/JoQri/python_study/blob/main/%EC%9E%90%EB%A3%8C%EA%B5%AC%EC%A1%B0.ipynb\" target=\"_parent\"><img src=\"https://colab.research.google.com/assets/colab-badge.svg\" alt=\"Open In Colab\"/></a>"
      ]
    },
    {
      "cell_type": "code",
      "execution_count": null,
      "metadata": {
        "id": "DfwmFSpGasrh",
        "colab": {
          "base_uri": "https://localhost:8080/"
        },
        "outputId": "4fce28ce-daf2-444b-82a4-f280b542ef50"
      },
      "outputs": [
        {
          "output_type": "stream",
          "name": "stdout",
          "text": [
            "학생 수가 가장 적은 학급(학생 수): 7학급(17명)\n",
            "학생 수가 가장 많은 학급(학생 수): 3학급(23명)\n",
            "학생 수가 가장 적은 학급(학생 수): 7학급(17명)\n",
            "학생 수가 가장 많은 학급(학생 수): 3학급(23명)\n"
          ]
        }
      ],
      "source": [
        "students = [[1,18],[2,19],[3,23],[4,21],[5,20],[6,22],[7,17]]\n",
        "min_y= 0; min_cnt=0\n",
        "for y,cnt in students:\n",
        "  if min_cnt==0 or cnt<=min_cnt:\n",
        "    min_y= y; min_cnt=cnt\n",
        "print('학생 수가 가장 적은 학급(학생 수): {}학급({}명)'.format(min_y,min_cnt))\n",
        "\n",
        "max_y= 0; max_cnt=0\n",
        "for y,cnt in students:\n",
        "  if cnt>=max_cnt:\n",
        "    max_y= y; max_cnt=cnt\n",
        "print('학생 수가 가장 많은 학급(학생 수): {}학급({}명)'.format(max_y,max_cnt))\n",
        "\n",
        "# while문\n",
        "n=0; min_y= 0; min_cnt=0; max_y= 0; max_cnt=0\n",
        "while n < len(students):\n",
        "  if min_cnt==0 or students[n][1] <= min_cnt:\n",
        "    min_y= students[n][0]; min_cnt=students[n][1]\n",
        "  if students[n][1] >= max_cnt:\n",
        "    max_y= students[n][0]; max_cnt=students[n][1]\n",
        "  n +=1\n",
        "print('학생 수가 가장 적은 학급(학생 수): {}학급({}명)'.format(min_y,min_cnt))\n",
        "print('학생 수가 가장 많은 학급(학생 수): {}학급({}명)'.format(max_y,max_cnt))"
      ]
    },
    {
      "cell_type": "code",
      "source": [
        "# sort()했을경우\n",
        "students = [[1,18],[2,19],[3,23],[4,21],[5,20],[6,22],[7,17]]\n",
        "students.sort(key=lambda x: x[1])                                               # sort() sorted()- key 매개변수: 정렬 기준지정\n",
        "print(students)\n",
        "\n",
        "print('학생 수가 가장 적은 학급(학생 수): {}학급({}명)'.format(students[0][0],students[0][1]))\n",
        "print('학생 수가 가장 많은 학급(학생 수): {}학급({}명)'.format(students[-1][0],students[-1][1]))"
      ],
      "metadata": {
        "colab": {
          "base_uri": "https://localhost:8080/"
        },
        "id": "BPsZhH0ciimu",
        "outputId": "f1685875-7345-4d2c-992d-ed1acc96fa3b"
      },
      "execution_count": null,
      "outputs": [
        {
          "output_type": "stream",
          "name": "stdout",
          "text": [
            "[[7, 17], [1, 18], [2, 19], [5, 20], [4, 21], [6, 22], [3, 23]]\n",
            "학생 수가 가장 적은 학급(학생 수): 7학급(17명)\n",
            "학생 수가 가장 많은 학급(학생 수): 3학급(23명)\n"
          ]
        }
      ]
    },
    {
      "cell_type": "code",
      "source": [
        "scores = [['kor',58],['eng',77],['math',89],['sci',99],['his',50]]\n",
        "n=0\n",
        "sum=0\n",
        "min_score = 60\n",
        "while n < len(scores):\n",
        "  sum += scores[n][1]\n",
        "  if scores[n][1] < min_score: print('과락 과목:{}({}점)'.format(scores[n][0],scores[n][1]))\n",
        "  n+= 1\n",
        "print(f'총점: {sum}점')\n"
      ],
      "metadata": {
        "colab": {
          "base_uri": "https://localhost:8080/"
        },
        "id": "JOQzCaTjkQi0",
        "outputId": "5000c604-4086-4aa2-cadf-f40afec8c814"
      },
      "execution_count": null,
      "outputs": [
        {
          "output_type": "stream",
          "name": "stdout",
          "text": [
            "과락 과목:kor(58점)\n",
            "과락 과목:his(50점)\n",
            "총점: 373점\n"
          ]
        }
      ]
    },
    {
      "cell_type": "code",
      "source": [
        "message = input('input: ')\n",
        "cnt = 0\n",
        "for idx,val in enumerate(message):                                              # enumerate()함수\n",
        "  if val == ' ':\n",
        "    cnt += 1\n",
        "print(f'공백이 총 {cnt}개 있습니다')"
      ],
      "metadata": {
        "colab": {
          "base_uri": "https://localhost:8080/"
        },
        "id": "PevPCdrOq8wR",
        "outputId": "a63f6a87-6a5c-4736-9848-c8ac2e21e66a"
      },
      "execution_count": null,
      "outputs": [
        {
          "output_type": "stream",
          "name": "stdout",
          "text": [
            "input: 오늘은 날씨가 좋아요\n",
            "공백이 총 2개 있습니다\n"
          ]
        }
      ]
    },
    {
      "cell_type": "code",
      "source": [
        "nums = [1,3,6,11,45,57,62,74,85]\n",
        "inputNum= int(input())\n",
        "target_idx = 0\n",
        "for idx,n in enumerate(nums):                                                   # 또다른방법:\n",
        "  if inputNum >= n:                                                             # target_idx == 0(딱 1번만) and inputNum <= n\n",
        "    target_idx = idx+1                                                          # target_idx = idx\n",
        "nums.insert(target_idx,inputNum)\n",
        "nums"
      ],
      "metadata": {
        "colab": {
          "base_uri": "https://localhost:8080/"
        },
        "id": "61Tx9506v3pD",
        "outputId": "5e205425-df17-423d-ed4b-b05de8105d79"
      },
      "execution_count": null,
      "outputs": [
        {
          "name": "stdout",
          "output_type": "stream",
          "text": [
            "5\n"
          ]
        },
        {
          "output_type": "execute_result",
          "data": {
            "text/plain": [
              "[1, 3, 5, 6, 11, 45, 57, 62, 74, 85]"
            ]
          },
          "metadata": {},
          "execution_count": 26
        }
      ]
    },
    {
      "cell_type": "code",
      "source": [
        "scores = [1,4,5,2,3,6,2,4]\n",
        "remove_score=int(input())\n",
        "while remove_score in scores:\n",
        "  scores.remove(remove_score)                                                   # remove()함수\n",
        "\n",
        "scores"
      ],
      "metadata": {
        "colab": {
          "base_uri": "https://localhost:8080/"
        },
        "id": "DPymJQZA3tgc",
        "outputId": "1843227e-7907-450a-f138-6567642f97d5"
      },
      "execution_count": null,
      "outputs": [
        {
          "name": "stdout",
          "output_type": "stream",
          "text": [
            "4\n"
          ]
        },
        {
          "output_type": "execute_result",
          "data": {
            "text/plain": [
              "[1, 5, 2, 3, 6, 2]"
            ]
          },
          "metadata": {},
          "execution_count": 27
        }
      ]
    },
    {
      "cell_type": "code",
      "source": [
        "# 암호 해독 프로그램\n",
        "target ='27156231'\n",
        "solve_list=[]\n",
        "for i in target:\n",
        "  solve_list.append(int(i))\n",
        "solve_list.reverse()\n",
        "\n",
        "val = solve_list[0] * solve_list[1]\n",
        "solve_list.insert(2,val)                                                        # insert()함수\n",
        "val = solve_list[3] * solve_list[4]\n",
        "solve_list.insert(5,val)\n",
        "val = solve_list[6] * solve_list[7]\n",
        "solve_list.insert(8,val)\n",
        "val = solve_list[9] * solve_list[10]\n",
        "solve_list.insert(11,val)\n",
        "print(solve_list)\n",
        "\n",
        "solve = ''\n",
        "for i in solve_list:\n",
        "  solve += str(i)\n",
        "print(solve)"
      ],
      "metadata": {
        "id": "U4x1o9bI-XQl",
        "colab": {
          "base_uri": "https://localhost:8080/"
        },
        "outputId": "db2ba352-3348-4ba8-87b4-fdf768681a33"
      },
      "execution_count": null,
      "outputs": [
        {
          "output_type": "stream",
          "name": "stdout",
          "text": [
            "[1, 3, 3, 2, 6, 12, 5, 1, 5, 7, 2, 14]\n",
            "13326125157214\n"
          ]
        }
      ]
    },
    {
      "cell_type": "code",
      "source": [
        "abc = 'abcdefga'\n",
        "print(abc[:4:2], abc[slice(0,4,2)])                                             # slice()함수\n",
        "print(abc.count('a'))"
      ],
      "metadata": {
        "colab": {
          "base_uri": "https://localhost:8080/"
        },
        "id": "p2jc0HaZuW2J",
        "outputId": "5b6c99b2-a5cf-463c-e72b-17bc2201f3f9"
      },
      "execution_count": null,
      "outputs": [
        {
          "output_type": "stream",
          "name": "stdout",
          "text": [
            "ac ac\n",
            "2\n"
          ]
        }
      ]
    },
    {
      "cell_type": "code",
      "source": [
        "a=('a','b','c','d','e','c','f','z')\n",
        "a.index('c', 4, 10)                                                             # index()함수"
      ],
      "metadata": {
        "colab": {
          "base_uri": "https://localhost:8080/"
        },
        "id": "dUTuWNo8HTSg",
        "outputId": "a76e1a08-3ac4-4c78-8235-92645d814895"
      },
      "execution_count": null,
      "outputs": [
        {
          "output_type": "execute_result",
          "data": {
            "text/plain": [
              "5"
            ]
          },
          "metadata": {},
          "execution_count": 2
        }
      ]
    },
    {
      "cell_type": "code",
      "source": [
        "import random\n",
        "sample_list = random.sample(range(1,11),10)                                     # random.sample()함수 - 1개더라도 리스트로 반환!!\n",
        "\n",
        "select_Num = int(input('7의 위치 입력: '))\n",
        "search_Idx = sample_list.index(7)\n",
        "print(sample_list)\n",
        "print('Win') if select_Num == search_Idx else print('TT')"
      ],
      "metadata": {
        "colab": {
          "base_uri": "https://localhost:8080/"
        },
        "id": "n8iMGAqZHVlc",
        "outputId": "d25834a1-6d1e-4cfe-8ba4-ff074a0579e1"
      },
      "execution_count": null,
      "outputs": [
        {
          "output_type": "stream",
          "name": "stdout",
          "text": [
            "7의 위치 입력: 5\n",
            "[4, 10, 6, 7, 3, 5, 9, 2, 8, 1]\n",
            "TT\n"
          ]
        }
      ]
    },
    {
      "cell_type": "code",
      "source": [
        "##### 내기준 어려웠던 문제\n",
        "import random\n",
        "\n",
        "types = ['A','B','AB','O']\n",
        "today_t = []\n",
        "for i in range(100):\n",
        "  t = types[random.randrange(len(types))]                                       # random.randrange()로 0,1,2,3을 뽑고 types[] 인덱싱으로 뽑기\n",
        "  today_t.append(t)\n",
        "\n",
        "print('todayData: {}'.format(today_t))\n",
        "\n",
        "for t in types:\n",
        "  print('{}형: {}개'.format(t,today_t.count(t)))                                # count()함수\n",
        "print('총 {}명'.format(len(today_t)))"
      ],
      "metadata": {
        "id": "gX0kkk5TILuT",
        "colab": {
          "base_uri": "https://localhost:8080/"
        },
        "outputId": "ddba983f-89c1-4398-ab6f-c9333b6df0ef"
      },
      "execution_count": null,
      "outputs": [
        {
          "output_type": "stream",
          "name": "stdout",
          "text": [
            "todayData: ['AB', 'B', 'B', 'O', 'AB', 'AB', 'O', 'AB', 'O', 'A', 'O', 'B', 'A', 'A', 'O', 'AB', 'AB', 'O', 'A', 'A', 'A', 'A', 'B', 'B', 'O', 'O', 'AB', 'A', 'B', 'O', 'A', 'A', 'B', 'O', 'O', 'A', 'AB', 'B', 'AB', 'O', 'A', 'A', 'O', 'O', 'O', 'AB', 'B', 'B', 'AB', 'A', 'O', 'B', 'O', 'A', 'A', 'A', 'O', 'A', 'O', 'O', 'A', 'A', 'B', 'B', 'O', 'O', 'AB', 'O', 'AB', 'B', 'O', 'O', 'A', 'A', 'O', 'B', 'A', 'A', 'AB', 'AB', 'A', 'AB', 'O', 'O', 'A', 'A', 'A', 'A', 'AB', 'O', 'O', 'B', 'AB', 'A', 'B', 'A', 'AB', 'B', 'B', 'AB']\n",
            "A형: 31개\n",
            "B형: 19개\n",
            "AB형: 20개\n",
            "O형: 30개\n",
            "총 100명\n"
          ]
        }
      ]
    },
    {
      "cell_type": "markdown",
      "source": [
        "---"
      ],
      "metadata": {
        "id": "r-KM2CxgFKz1"
      }
    },
    {
      "cell_type": "code",
      "source": [
        "wrongWord = ('쩔었다','짭새','꼽사리','먹튀','쪼개다')\n",
        "sentence = '짭새 등장에 강도들은 모두 쪼개다. 꼽사리를 준 것이다'\n",
        "for w in wrongWord:\n",
        "  if w in sentence:\n",
        "    print('비속어 사용: {}'.format(w))"
      ],
      "metadata": {
        "id": "Xl0K6g3o1-zi",
        "colab": {
          "base_uri": "https://localhost:8080/"
        },
        "outputId": "24095b7a-e5a4-437c-8591-e67ebf0bc59e"
      },
      "execution_count": null,
      "outputs": [
        {
          "output_type": "stream",
          "name": "stdout",
          "text": [
            "비속어 사용: 짭새\n",
            "비속어 사용: 꼽사리\n",
            "비속어 사용: 쪼개다\n"
          ]
        }
      ]
    },
    {
      "cell_type": "code",
      "source": [
        "# 중복 제거(덧셈 연산자 사용)\n",
        "nums_1 = (1,3,5,7,9)\n",
        "nums_2 = (2,3,5,8,10)\n",
        "\n",
        "for n in nums_2:\n",
        "  if n not in nums_1:\n",
        "    nums_1 = nums_1 + (n,)                                                      # 1개의 아이템-뒤에 쉼표 필요\n",
        "print(nums_1)\n",
        "\n",
        "# 튜플 정렬                                                                     # sorted()함수 ->사용시 리스트로 반환\n",
        "print(type(nums_1))\n",
        "sorted_n1 =  sorted(nums_1)\n",
        "print(sorted_n1)\n",
        "print(type(sorted_n1))"
      ],
      "metadata": {
        "colab": {
          "base_uri": "https://localhost:8080/"
        },
        "id": "uLKYl52hOd_Y",
        "outputId": "98d81d0a-0f70-43f9-9f19-d60ea276aa31"
      },
      "execution_count": null,
      "outputs": [
        {
          "output_type": "stream",
          "name": "stdout",
          "text": [
            "(1, 3, 5, 7, 9, 2, 8, 10)\n",
            "<class 'tuple'>\n",
            "[1, 2, 3, 5, 7, 8, 9, 10]\n",
            "<class 'list'>\n"
          ]
        }
      ]
    },
    {
      "cell_type": "code",
      "source": [
        "# 리스트에 튜플아이템으로 변경 -> 여전히 리스트\n",
        "list = ['a','b','c','d','e','f']\n",
        "list[:3] = (1,2,3,4,5)\n",
        "print(list)\n",
        "print(type(list))"
      ],
      "metadata": {
        "colab": {
          "base_uri": "https://localhost:8080/"
        },
        "id": "V2H2VkY8Sf3e",
        "outputId": "5f45ea84-5c76-44e9-e96d-beb69be19ea3"
      },
      "execution_count": null,
      "outputs": [
        {
          "output_type": "stream",
          "name": "stdout",
          "text": [
            "[1, 2, 3, 4, 5, 'd', 'e', 'f']\n",
            "<class 'list'>\n"
          ]
        }
      ]
    },
    {
      "cell_type": "code",
      "source": [
        "# 딕셔어리 아이템 추가\n",
        "dict_ex = {1:'a',2:'b'}\n",
        "\n",
        "dict_ex[3] = 'c'\n",
        "dict_ex"
      ],
      "metadata": {
        "id": "Bn_N5wTMUr1k",
        "colab": {
          "base_uri": "https://localhost:8080/"
        },
        "outputId": "0f93cc7c-9ef5-4c8e-cbf5-548883992d95"
      },
      "execution_count": null,
      "outputs": [
        {
          "output_type": "execute_result",
          "data": {
            "text/plain": [
              "{1: 'a', 2: 'b', 3: 'c'}"
            ]
          },
          "metadata": {},
          "execution_count": 4
        }
      ]
    },
    {
      "cell_type": "code",
      "source": [
        "student = {}\n",
        "\n",
        "student['Name'] = input('Name: ')\n",
        "student['No'] = int(input('No: '))\n",
        "student"
      ],
      "metadata": {
        "colab": {
          "base_uri": "https://localhost:8080/"
        },
        "id": "dl2hy0I7VSnp",
        "outputId": "a3f58120-72cf-4b3b-d987-477accfd9366"
      },
      "execution_count": null,
      "outputs": [
        {
          "name": "stdout",
          "output_type": "stream",
          "text": [
            "Name: Quri\n",
            "No: 31\n"
          ]
        },
        {
          "output_type": "execute_result",
          "data": {
            "text/plain": [
              "{'Name': 'Quri', 'No': '31'}"
            ]
          },
          "metadata": {},
          "execution_count": 6
        }
      ]
    },
    {
      "cell_type": "code",
      "source": [
        "# 0~10!팩토리얼 딕셔어리 형태\n",
        "factorial = {}\n",
        "for i in range(11):\n",
        "  if i == 0:\n",
        "    factorial[0] = 1\n",
        "  else:\n",
        "    for j in range(1,i+1):\n",
        "      factorial[j] = factorial[j-1]*j                                           # factorial[0] = 1 이니깐\n",
        "\n",
        "print(factorial)"
      ],
      "metadata": {
        "colab": {
          "base_uri": "https://localhost:8080/"
        },
        "id": "ZCoAdBwnXOuJ",
        "outputId": "2d5a4355-abe0-4f4d-8364-9f109b60f25e"
      },
      "execution_count": null,
      "outputs": [
        {
          "output_type": "stream",
          "name": "stdout",
          "text": [
            "{0: 1, 1: 1, 2: 2, 3: 6, 4: 24, 5: 120, 6: 720, 7: 5040, 8: 40320, 9: 362880, 10: 3628800}\n"
          ]
        }
      ]
    },
    {
      "cell_type": "code",
      "source": [
        "scores = {'kor':88,'eng':55,'mat':85,'sci':57,'his':82}\n",
        "min_s = 60\n",
        "\n",
        "if scores['kor'] < min_s: scores['kor'] = 'F'\n",
        "if scores['eng'] < min_s: scores['eng'] = 'F'\n",
        "if scores['mat'] < min_s: scores['mat'] = 'F'\n",
        "if scores['sci'] < min_s: scores['sci'] = 'F'\n",
        "if scores['his'] < min_s: scores['his'] = 'F'\n",
        "print(scores)"
      ],
      "metadata": {
        "colab": {
          "base_uri": "https://localhost:8080/"
        },
        "id": "5R1LyWaOYwOe",
        "outputId": "f076c0d2-303a-47e0-a4d6-928f380ee168"
      },
      "execution_count": null,
      "outputs": [
        {
          "output_type": "stream",
          "name": "stdout",
          "text": [
            "{'kor': 88, 'eng': 'F', 'mat': 85, 'sci': 'F', 'his': 82}\n"
          ]
        }
      ]
    },
    {
      "cell_type": "code",
      "source": [
        "scores = {'kor': 88, 'eng': 55, 'mat': 85, 'sci': 57, 'his': 82}\n",
        "min_s = 60\n",
        "f_scores = {}\n",
        "for k in scores:\n",
        "  if scores[k] < min_s:\n",
        "    scores[k] = 'F'\n",
        "    f_scores[k] = 'F'\n",
        "print(scores)\n",
        "print(f_scores)"
      ],
      "metadata": {
        "colab": {
          "base_uri": "https://localhost:8080/"
        },
        "id": "oPNYjaxqwdPV",
        "outputId": "d9499e77-4cdc-416b-91c0-b0c57ca64846"
      },
      "execution_count": null,
      "outputs": [
        {
          "output_type": "stream",
          "name": "stdout",
          "text": [
            "{'kor': 88, 'eng': 'F', 'mat': 85, 'sci': 'F', 'his': 82}\n",
            "{'eng': 'F', 'sci': 'F'}\n"
          ]
        }
      ]
    },
    {
      "cell_type": "code",
      "source": [
        "# 나혼자 풀이\n",
        "scores = {'kor': 88, 'eng': 55, 'mat': 85, 'sci': 57, 'his': 82}\n",
        "min_s = 60\n",
        "for subject, score in scores.items():                                           # dictionary에서 반복문쓸때, items()함수\n",
        "    if score < min_s:\n",
        "        scores[subject] = 'F'\n",
        "\n",
        "print(scores)"
      ],
      "metadata": {
        "colab": {
          "base_uri": "https://localhost:8080/"
        },
        "id": "NkEPsMLVcUWB",
        "outputId": "01ac52ea-85ad-4abd-e39f-e39e9909a4f9"
      },
      "execution_count": null,
      "outputs": [
        {
          "output_type": "stream",
          "name": "stdout",
          "text": [
            "{'kor': 88, 'eng': 'F', 'mat': 85, 'sci': 'F', 'his': 82}\n"
          ]
        }
      ]
    },
    {
      "cell_type": "code",
      "source": [
        "bodyInfo={'Name':'gildong','weight':83.0,'height':1.8}\n",
        "BMI = round(bodyInfo['weight'] / (bodyInfo['height'] **2),2)\n",
        "print(bodyInfo,BMI)\n",
        "\n",
        "# while문 활용\n",
        "date = 0\n",
        "while True:\n",
        "  date += 1\n",
        "  bodyInfo['weight'] = round((bodyInfo['weight'] - 0.3),2)\n",
        "  bodyInfo['height'] = round((bodyInfo['height'] + 0.001),3)\n",
        "  if date >= 30:\n",
        "    break\n",
        "\n",
        "BMI = round(bodyInfo['weight'] / (bodyInfo['height'] **2),2)\n",
        "print(bodyInfo,BMI)"
      ],
      "metadata": {
        "colab": {
          "base_uri": "https://localhost:8080/"
        },
        "id": "-wZDxsHYcUzS",
        "outputId": "a966af1c-ed0f-4133-93df-4cc7018ffd64"
      },
      "execution_count": null,
      "outputs": [
        {
          "output_type": "stream",
          "name": "stdout",
          "text": [
            "{'Name': 'gildong', 'weight': 83.0, 'height': 1.8} 25.62\n",
            "{'Name': 'gildong', 'weight': 74.0, 'height': 1.83} 22.1\n"
          ]
        }
      ]
    },
    {
      "cell_type": "code",
      "source": [
        "# 딕셔어리 삭제 pop()함수\n",
        "ex = {'a':1,'b':2,'c':3,'d':[4,5]}\n",
        "ex_pop = ex.pop('c')\n",
        "print(ex)\n",
        "print(ex_pop)\n",
        "print(type(ex_pop))\n",
        "\n",
        "pop_list = ex.pop('d')[0]\n",
        "print(ex)\n",
        "print(pop_list)"
      ],
      "metadata": {
        "colab": {
          "base_uri": "https://localhost:8080/"
        },
        "id": "1-IRAEh8vY5j",
        "outputId": "cae8cf66-eff8-4505-9b5c-07851bf783db"
      },
      "execution_count": null,
      "outputs": [
        {
          "output_type": "stream",
          "name": "stdout",
          "text": [
            "{'a': 1, 'b': 2, 'd': [4, 5]}\n",
            "3\n",
            "<class 'int'>\n",
            "{'a': 1, 'b': 2}\n",
            "4\n"
          ]
        }
      ]
    },
    {
      "cell_type": "code",
      "source": [
        "# 최저 및 최고 점수 삭제 프로그램 - del 키워드\n",
        "scores = {'kor': 88, 'eng': 55, 'mat': 85, 'sci': 57, 'his': 82}\n",
        "min_s = 0; min_sub = ''\n",
        "max_s = 0; max_sub = ''\n",
        "for key in scores.keys():                                                       # keys()함수\n",
        "  if min_s == 0 or scores[key] < min_s:\n",
        "    min_s = scores[key]\n",
        "    min_sub = key\n",
        "  if scores[key] > max_s:\n",
        "    max_s = scores[key]\n",
        "    max_sub = key\n",
        "print(min_sub,min_s)\n",
        "print(max_sub,max_s)\n",
        "del scores[min_sub]\n",
        "del scores[max_sub]\n",
        "scores"
      ],
      "metadata": {
        "colab": {
          "base_uri": "https://localhost:8080/"
        },
        "id": "m4yx9fBC0R5m",
        "outputId": "b2ab40d5-4ce6-48e8-e915-f6185fe4567a"
      },
      "execution_count": null,
      "outputs": [
        {
          "output_type": "stream",
          "name": "stdout",
          "text": [
            "eng 55\n",
            "kor 88\n"
          ]
        },
        {
          "output_type": "execute_result",
          "data": {
            "text/plain": [
              "{'mat': 85, 'sci': 57, 'his': 82}"
            ]
          },
          "metadata": {},
          "execution_count": 43
        }
      ]
    },
    {
      "cell_type": "code",
      "source": [
        "scores = {'kor': 88, 'eng': 55, 'mat': 85, 'sci': 57, 'his': 82}\n",
        "del_keyword =  ['his', 'soc', 'sci']\n",
        "for key in del_keyword:                                                         # 정답보고 함\n",
        "  if key in scores:                                                             # in키워드\n",
        "    del scores[key]\n",
        "\n",
        "scores"
      ],
      "metadata": {
        "colab": {
          "base_uri": "https://localhost:8080/"
        },
        "id": "SQPCVf4hx1RR",
        "outputId": "c47a669c-cd50-4dfb-8248-8e992397ac0e"
      },
      "execution_count": null,
      "outputs": [
        {
          "output_type": "execute_result",
          "data": {
            "text/plain": [
              "{'kor': 88, 'eng': 55, 'mat': 85}"
            ]
          },
          "metadata": {},
          "execution_count": 47
        }
      ]
    },
    {
      "cell_type": "markdown",
      "source": [
        "---"
      ],
      "metadata": {
        "id": "XQznsbFa9RSW"
      }
    },
    {
      "cell_type": "code",
      "source": [
        "import random\n",
        "rSample = random.sample(range(1,100),10)\n",
        "print(rSample)\n",
        "evens = []; odds=[]\n",
        "for r in rSample:\n",
        "  if r % 2 == 0:\n",
        "    evens.append(r)\n",
        "  elif r % 2 != 0:\n",
        "    odds.append(r)\n",
        "print('짝수: {}, 개수: {}'.format(evens, len(evens)))\n",
        "print('홀수: {}, 개수: {}'.format(odds, len(odds)))"
      ],
      "metadata": {
        "colab": {
          "base_uri": "https://localhost:8080/"
        },
        "id": "jUzsm1VF4Uns",
        "outputId": "a354320a-89c6-420c-8638-c985c784bb9e"
      },
      "execution_count": null,
      "outputs": [
        {
          "output_type": "stream",
          "name": "stdout",
          "text": [
            "[36, 19, 83, 6, 39, 98, 87, 33, 90, 12]\n",
            "짝수: [36, 6, 98, 90, 12], 개수: 5\n",
            "홀수: [19, 83, 39, 87, 33], 개수: 5\n"
          ]
        }
      ]
    },
    {
      "cell_type": "code",
      "source": [
        "import random\n",
        "visitors = []\n",
        "for i in range(100):\n",
        "  visitors.append(random.randint(0,100))\n",
        "\n",
        "a1=[];a2=[];a3=[];a4=[];a5=[]\n",
        "for v in visitors:\n",
        "  if v <= 7:\n",
        "    a1.append(v)\n",
        "  elif v <= 13:\n",
        "    a2.append(v)\n",
        "  elif v <= 19:\n",
        "    a3.append(v)\n",
        "  elif v <= 64:\n",
        "    a4.append(v)\n",
        "  else: a5.append(v)\n",
        "\n",
        "print('*'*20)\n",
        "print(f'영유아\\t: {len(a1)}명\\t: {len(a1)*0}원')\n",
        "print(f'어린이\\t: {len(a2)}명\\t: {len(a2)*200}원')\n",
        "print(f'청소년\\t: {len(a3)}명\\t: {len(a3)*300}원')\n",
        "print(f'성인\\t: {len(a4)}명\\t: {len(a4)*500}원')\n",
        "print(f'어르신\\t: {len(a5)}명\\t: {len(a5)*0}원')\n",
        "total = (len(a1)*0) + (len(a2)*200) + (len(a3)*300) + (len(a4)*500) + (len(a5)*0)\n",
        "print('*'*20)\n",
        "print('1일 요금 총합계: {}원'.format(format(total,',')))"
      ],
      "metadata": {
        "colab": {
          "base_uri": "https://localhost:8080/"
        },
        "id": "5bQvQTHU_WkK",
        "outputId": "00522879-733e-49c3-d6d3-e027d0f06600"
      },
      "execution_count": null,
      "outputs": [
        {
          "output_type": "stream",
          "name": "stdout",
          "text": [
            "********************\n",
            "영유아\t: 11명\t: 0원\n",
            "어린이\t: 5명\t: 1000원\n",
            "청소년\t: 7명\t: 2100원\n",
            "성인\t: 49명\t: 24500원\n",
            "어르신\t: 28명\t: 0원\n",
            "********************\n",
            "1일 요금 총합계: 27,600원\n"
          ]
        }
      ]
    },
    {
      "cell_type": "code",
      "source": [
        "# 강의 풀이(훨씬 간단)\n",
        "a1,a2,a3,a4,a5= 0,0,0,0,0\n",
        "for v in visitors:\n",
        "  if v <= 7:\n",
        "    a1 += 1\n",
        "  elif v <= 13:\n",
        "    a2 += 1\n",
        "  elif v <= 19:\n",
        "    a3 += 1\n",
        "  elif v <= 64:\n",
        "    a4 += 1\n",
        "  else: a5 += 1\n",
        "\n",
        "print('*'*20)\n",
        "print(f'영유아\\t: {a1}명\\t: {a1*0}원')\n",
        "print(f'어린이\\t: {a2}명\\t: {a2*200}원')\n",
        "print(f'청소년\\t: {a3}명\\t: {a3*300}원')\n",
        "print(f'성인\\t: {a4}명\\t: {a4*500}원')\n",
        "print(f'어르신\\t: {a5}명\\t: {a5*0}원')\n",
        "total = (a1*0) + (a2*200) + (a3*300) + (a4*500) + (a5*0)\n",
        "print('*'*20)\n",
        "print('1일 요금 총합계: {}원'.format(format(total,',')))"
      ],
      "metadata": {
        "colab": {
          "base_uri": "https://localhost:8080/"
        },
        "id": "4bjv1YyvEFcI",
        "outputId": "4bddc70b-f242-488c-c642-ba062167ff4d"
      },
      "execution_count": null,
      "outputs": [
        {
          "output_type": "stream",
          "name": "stdout",
          "text": [
            "********************\n",
            "영유아\t: 8명\t: 0원\n",
            "어린이\t: 7명\t: 1400원\n",
            "청소년\t: 8명\t: 2400원\n",
            "성인\t: 43명\t: 21500원\n",
            "어르신\t: 34명\t: 0원\n",
            "********************\n",
            "1일 요금 총합계: 25,300원\n"
          ]
        }
      ]
    },
    {
      "cell_type": "code",
      "source": [
        "friends = []\n",
        "for i in range(5):\n",
        "  fri = input('Friend Name:')\n",
        "  friends.append(fri)\n",
        "print(friends)\n",
        "friends.sort()                                                                  # sort() 사용법 주의\n",
        "print(friends)\n",
        "friends.sort(reverse=True)\n",
        "print(friends)"
      ],
      "metadata": {
        "colab": {
          "base_uri": "https://localhost:8080/"
        },
        "id": "YiN2c_dlFmCO",
        "outputId": "30a69f9b-e1ad-435d-c9b1-b226751e2c3c"
      },
      "execution_count": null,
      "outputs": [
        {
          "output_type": "stream",
          "name": "stdout",
          "text": [
            "Friend Name:박세리\n",
            "Friend Name:홍길동\n",
            "Friend Name:유재석\n",
            "Friend Name:강호동\n",
            "Friend Name:박지성\n",
            "['박세리', '홍길동', '유재석', '강호동', '박지성']\n",
            "['강호동', '박세리', '박지성', '유재석', '홍길동']\n",
            "['홍길동', '유재석', '박지성', '박세리', '강호동']\n"
          ]
        }
      ]
    },
    {
      "cell_type": "code",
      "source": [
        "# 중복제거\n",
        "nums = [2,22,7,8,9,2,7,3,5,2,7,1,3]\n",
        "\n",
        "# 방법1\n",
        "result = []\n",
        "for n in nums:\n",
        "  if n not in result:\n",
        "    result.append(n)\n",
        "print(result)\n",
        "\n",
        "# 방법2(강의)\n",
        "idx = 0\n",
        "while True:\n",
        "  if idx >= len(nums):\n",
        "    break\n",
        "\n",
        "  if nums.count(nums[idx]) >= 2:                                                # count()함수 이용\n",
        "    nums.remove(nums[idx])\n",
        "    continue                                                                    # idx는 +1이 안됨!!\n",
        "\n",
        "  idx += 1\n",
        "print(nums)"
      ],
      "metadata": {
        "colab": {
          "base_uri": "https://localhost:8080/"
        },
        "id": "8GyN_tiwHF6Q",
        "outputId": "c7efa56c-17c3-479a-f1d1-3c9cf4bcae72"
      },
      "execution_count": null,
      "outputs": [
        {
          "output_type": "stream",
          "name": "stdout",
          "text": [
            "[2, 22, 7, 8, 9, 3, 5, 1]\n",
            "[22, 8, 9, 5, 2, 7, 1, 3]\n"
          ]
        }
      ]
    },
    {
      "cell_type": "code",
      "source": [
        "nums = [4,6,7,9]\n",
        "target = []\n",
        "for n1 in nums:\n",
        "  for n2 in nums:\n",
        "    if n1 != n2:                                                                # if n1 == n2:\n",
        "      target.append([n1,n2])                                                    #   continue\n",
        "                                                                                # target.append([n1,n2])\n",
        "print(target)\n",
        "print(len(target))\n",
        "\n",
        "# 순열 수학공식 n! / (n-r)!\n",
        "import math\n",
        "pernutation = math.factorial(len(nums)) / math.factorial(len(nums) - 2)\n",
        "print('공식이용 경우의 수: {}'.format(pernutation))"
      ],
      "metadata": {
        "colab": {
          "base_uri": "https://localhost:8080/"
        },
        "id": "-eW-JlXHJV6E",
        "outputId": "025586da-75ab-4bbb-ecfb-a12ae8b813b3"
      },
      "execution_count": 29,
      "outputs": [
        {
          "output_type": "stream",
          "name": "stdout",
          "text": [
            "[[4, 6], [4, 7], [4, 9], [6, 4], [6, 7], [6, 9], [7, 4], [7, 6], [7, 9], [9, 4], [9, 6], [9, 7]]\n",
            "12\n",
            "공식이용: 12.0\n"
          ]
        }
      ]
    },
    {
      "cell_type": "code",
      "source": [
        "nums = [4,6,7,9]\n",
        "target = []\n",
        "for n1 in nums:\n",
        "  for n2 in nums:\n",
        "    for n3 in nums:\n",
        "      if n1 != n2 and n1 != n3 and n2 != n3:\n",
        "        target.append([n1,n2,n3])\n",
        "\n",
        "print(target)\n",
        "print(len(target))"
      ],
      "metadata": {
        "colab": {
          "base_uri": "https://localhost:8080/"
        },
        "id": "Xygs9PMJQXCI",
        "outputId": "4a046b57-6df8-4fc7-968f-d6092b888e61"
      },
      "execution_count": null,
      "outputs": [
        {
          "output_type": "stream",
          "name": "stdout",
          "text": [
            "[[4, 6, 7], [4, 6, 9], [4, 7, 6], [4, 7, 9], [4, 9, 6], [4, 9, 7], [6, 4, 7], [6, 4, 9], [6, 7, 4], [6, 7, 9], [6, 9, 4], [6, 9, 7], [7, 4, 6], [7, 4, 9], [7, 6, 4], [7, 6, 9], [7, 9, 4], [7, 9, 6], [9, 4, 6], [9, 4, 7], [9, 6, 4], [9, 6, 7], [9, 7, 4], [9, 7, 6]]\n",
            "24\n"
          ]
        }
      ]
    },
    {
      "cell_type": "code",
      "source": [
        "# 강의 내용\n",
        "nums = [4,6,7,9]\n",
        "target = []\n",
        "for n1 in nums:\n",
        "  for n2 in nums:\n",
        "    if n1 == n2: continue\n",
        "\n",
        "    for n3 in nums:\n",
        "      if n2 == n3 or n1 == n3: continue\n",
        "\n",
        "      target.append([n1,n2,n3])\n",
        "\n",
        "print(target)\n",
        "print(len(target))"
      ],
      "metadata": {
        "colab": {
          "base_uri": "https://localhost:8080/"
        },
        "id": "-mW6wcMXrC_J",
        "outputId": "9d74a7de-4825-4596-ac96-71779c70a58e"
      },
      "execution_count": 30,
      "outputs": [
        {
          "output_type": "stream",
          "name": "stdout",
          "text": [
            "[[4, 6, 7], [4, 6, 9], [4, 7, 6], [4, 7, 9], [4, 9, 6], [4, 9, 7], [6, 4, 7], [6, 4, 9], [6, 7, 4], [6, 7, 9], [6, 9, 4], [6, 9, 7], [7, 4, 6], [7, 4, 9], [7, 6, 4], [7, 6, 9], [7, 9, 4], [7, 9, 6], [9, 4, 6], [9, 4, 7], [9, 6, 4], [9, 6, 7], [9, 7, 4], [9, 7, 6]]\n",
            "24\n"
          ]
        }
      ]
    },
    {
      "cell_type": "code",
      "source": [
        "scores = ((3.7, 4.2),(2.9, 4.3),(4.1, 4.2))                                     # 강의 자료\n",
        "total_sum = 0                                                                   # for s1 in scores:\n",
        "for s1, s2 in scores:                                                           #   for s2 in s1:\n",
        "  total_sum += (s1 + s2)                                                        #     total += s2\n",
        "\n",
        "total_avg = round((total_sum/6),1)\n",
        "print('3학년 총학점: {}\\n3학년 평균: {}'.format(total_sum,total_avg))\n",
        "print('-'*30)\n",
        "target_sum = round((4.0 * 8) - total_sum,1)\n",
        "print('4학년 목표 총학점: {}\\n4학년 한학기 목표 평균: {}'.format(target_sum,(target_sum/2)))"
      ],
      "metadata": {
        "id": "kCV1aFv5RFWD",
        "colab": {
          "base_uri": "https://localhost:8080/"
        },
        "outputId": "155e181f-f0ae-45b0-d465-94f9d2d49085"
      },
      "execution_count": null,
      "outputs": [
        {
          "output_type": "stream",
          "name": "stdout",
          "text": [
            "3학년 총학점: 23.4\n",
            "3학년 평균: 3.9\n",
            "------------------------------\n",
            "4학년 목표 총학점: 8.6\n",
            "4학년 한학기 목표 평균: 4.3\n"
          ]
        }
      ]
    },
    {
      "cell_type": "code",
      "source": [
        "# 교집합/합집합 방법1\n",
        "tuple1 = (1,3,2,6,12,5,7,8)\n",
        "tuple2 = (0,5,2,9,8,6,17,3)\n",
        "\n",
        "union = list(tuple1); inter = []\n",
        "for n in tuple2:\n",
        "  if n in union:\n",
        "    inter.append(n)\n",
        "  else:\n",
        "    union.append(n)\n",
        "\n",
        "union = tuple(sorted(union))\n",
        "intersection = tuple(sorted(inter))\n",
        "print('교집합: {}\\n합집합: {}'.format(intersection,union))"
      ],
      "metadata": {
        "colab": {
          "base_uri": "https://localhost:8080/"
        },
        "id": "flCJAB8nUnbj",
        "outputId": "8c270328-098e-40fc-be5b-551531220ed2"
      },
      "execution_count": null,
      "outputs": [
        {
          "output_type": "stream",
          "name": "stdout",
          "text": [
            "교집합: (2, 3, 5, 6, 8)\n",
            "합집합: (0, 1, 2, 3, 5, 6, 7, 8, 9, 12, 17)\n"
          ]
        }
      ]
    },
    {
      "cell_type": "code",
      "source": [
        "# 교집합/합집합 방법2\n",
        "tuple3 = (tuple1 + tuple2)\n",
        "union = list(tuple3); inter = []\n",
        "idx = 0\n",
        "while True:\n",
        "  if idx >= len(union):\n",
        "    break\n",
        "\n",
        "  if union.count(union[idx]) >= 2:\n",
        "    inter.append(union[idx])\n",
        "    union.remove(union[idx])\n",
        "    continue\n",
        "  idx += 1\n",
        "\n",
        "union = tuple(sorted(union))\n",
        "intersection = tuple(sorted(inter))\n",
        "print('교집합: {}\\n합집합: {}'.format(intersection,union))\n",
        "\n",
        "# 최솟값, 최댓값                                                                # min(), max()함수\n",
        "print(min(intersection),max(intersection))\n",
        "print(union.index(min(intersection)),union.index(max(intersection)))            # index()함수"
      ],
      "metadata": {
        "colab": {
          "base_uri": "https://localhost:8080/"
        },
        "id": "ipZ0WftSwO3S",
        "outputId": "a5f0ad31-124c-4724-f584-340bd64b5ff1"
      },
      "execution_count": null,
      "outputs": [
        {
          "output_type": "stream",
          "name": "stdout",
          "text": [
            "교집합: (2, 3, 5, 6, 8)\n",
            "합집합: (0, 1, 2, 3, 5, 6, 7, 8, 9, 12, 17)\n",
            "2 8\n",
            "2 7\n"
          ]
        }
      ]
    },
    {
      "cell_type": "code",
      "source": [
        "kor = int(input('kor')); eng = int(input('eng')); mat = int(input('mat'))\n",
        "sci = int(input('sci')); his = int(input('his'))\n",
        "scores = ({'kor':kor},{'eng':eng},{'mat':mat},{'sci':sci},{'his':his})\n",
        "                                                                                # 튜플 안에 딕셔어리는 수정가능!!!\n",
        "for s1 in scores:\n",
        "  for key in s1:\n",
        "    if s1[key] >= 90:\n",
        "      s1[key] = 'A'\n",
        "    elif s1[key] >= 80:\n",
        "      s1[key] = 'B'\n",
        "    elif s1[key] >= 70:\n",
        "      s1[key] = 'C'\n",
        "    elif s1[key] >= 60:\n",
        "      s1[key] = 'D'\n",
        "    else:\n",
        "      s1[key] = 'F'\n",
        "scores"
      ],
      "metadata": {
        "colab": {
          "base_uri": "https://localhost:8080/"
        },
        "id": "jKLrChCR_ySC",
        "outputId": "3c93953f-8ca1-4e61-f3b7-13c6e41db067"
      },
      "execution_count": null,
      "outputs": [
        {
          "name": "stdout",
          "output_type": "stream",
          "text": [
            "kor68\n",
            "eng54\n",
            "mat77\n",
            "sci92\n",
            "his86\n"
          ]
        },
        {
          "output_type": "execute_result",
          "data": {
            "text/plain": [
              "({'kor': 'D'}, {'eng': 'F'}, {'mat': 'C'}, {'sci': 'A'}, {'his': 'B'})"
            ]
          },
          "metadata": {},
          "execution_count": 43
        }
      ]
    },
    {
      "cell_type": "code",
      "source": [
        "### 어려웠던 문제\n",
        "fruits = ({'수박': 13}, {'포도': 8}, {'참외': 12}, {'사과': 17}, {'자두': 19}, {'자몽': 15})\n",
        "fruits = list(fruits)\n",
        "\n",
        "cIdx = 0; nIdx = 1; eIdx = len(fruits)-1\n",
        "flag = True\n",
        "while flag:\n",
        "  curDic = fruits[cIdx]                                                         # {'수박': 13}\n",
        "  nextDic = fruits[nIdx]                                                        # {'포도': 8}\n",
        "  curDicVal = list(curDic.values())[0]                                          # 13\n",
        "  nextDicVal = list(nextDic.values())[0]                                        # 8\n",
        "\n",
        "  if curDicVal > nextDicVal:                                                    # 13>8\n",
        "    fruits.insert(cIdx,fruits.pop(nIdx))                                        # insert(0,{'포도': 8})\n",
        "    nIdx = cIdx + 1                                                             # nIdx 다시 초기화\n",
        "    continue\n",
        "\n",
        "  nIdx += 1                                                                     # if절에 안걸리면 {참외}\n",
        "\n",
        "  if nIdx > eIdx:\n",
        "    cIdx += 1\n",
        "    nIdx = cIdx +1\n",
        "\n",
        "    if cIdx == 5:\n",
        "      flag = False\n",
        "print(tuple(fruits))"
      ],
      "metadata": {
        "colab": {
          "base_uri": "https://localhost:8080/"
        },
        "id": "nzZnD0KFF-jx",
        "outputId": "6cedbd3f-a804-4aa1-9b85-bd45db9fabd1"
      },
      "execution_count": 1,
      "outputs": [
        {
          "output_type": "stream",
          "name": "stdout",
          "text": [
            "({'포도': 8}, {'참외': 12}, {'수박': 13}, {'자몽': 15}, {'사과': 17}, {'자두': 19})\n"
          ]
        }
      ]
    },
    {
      "cell_type": "code",
      "source": [
        "students = ({'c1':18}, {'c2':21}, {'c3':20}, {'c4':19}, {'c5':22}, {'c6':20}, {'c7':23}, {'c8':17})\n",
        "total_sum = 0\n",
        "min_cnt = 0; min_class = ''\n",
        "max_cnt = 0; max_class = ''\n",
        "\n",
        "for s_dic in students:                                                          # 강의에선 왜 굳이 enumerate()를 사용할까?\n",
        "  for key,val in s_dic.items():\n",
        "    total_sum += val\n",
        "    if min_cnt == 0 or min_cnt > val:\n",
        "      min_cnt = val\n",
        "      min_class = key\n",
        "\n",
        "    if max_cnt < val:\n",
        "      max_cnt = val\n",
        "      max_class = key\n",
        "\n",
        "print('전체 학생 수: {}명'.format(total_sum))\n",
        "print('평균 학생 수: {}명'.format(total_sum/len(students)))\n",
        "print('학생 수가 가장 적은 학급: {}({}명)'.format(min_class,min_cnt))\n",
        "print('학생 수가 가장 많은 학급: {}({}명)'.format(max_class,max_cnt))\n",
        "\n",
        "total_avg  = total_sum/len(students)\n",
        "for s_dic in students:\n",
        "  for key in s_dic:                                                             # for . in s_dic.items():를 사용할 경우 수정 적용이 안됨\n",
        "     s_dic[key] = s_dic[key] - total_avg\n",
        "students"
      ],
      "metadata": {
        "colab": {
          "base_uri": "https://localhost:8080/"
        },
        "id": "ITSmdjxxIt2T",
        "outputId": "80bc9cb9-98e8-41de-a9be-2203148da989"
      },
      "execution_count": 15,
      "outputs": [
        {
          "output_type": "stream",
          "name": "stdout",
          "text": [
            "전체 학생 수: 160명\n",
            "평균 학생 수: 20.0명\n",
            "학생 수가 가장 적은 학급: c8(17명)\n",
            "학생 수가 가장 많은 학급: c7(23명)\n"
          ]
        },
        {
          "output_type": "execute_result",
          "data": {
            "text/plain": [
              "({'c1': -2.0},\n",
              " {'c2': 1.0},\n",
              " {'c3': 0.0},\n",
              " {'c4': -1.0},\n",
              " {'c5': 2.0},\n",
              " {'c6': 0.0},\n",
              " {'c7': 3.0},\n",
              " {'c8': -3.0})"
            ]
          },
          "metadata": {},
          "execution_count": 15
        }
      ]
    },
    {
      "cell_type": "code",
      "source": [
        "## 한번더 체크\n",
        "subs = ['kor','eng','mat','sci','his']\n",
        "scores = {}\n",
        "\n",
        "for s in subs:\n",
        "  scores[s] = int(input(s+ ': '))\n",
        "print(scores)"
      ],
      "metadata": {
        "colab": {
          "base_uri": "https://localhost:8080/"
        },
        "id": "v71KMt8G232w",
        "outputId": "c07ba3da-379b-495b-893b-f2029d5bd848"
      },
      "execution_count": 19,
      "outputs": [
        {
          "output_type": "stream",
          "name": "stdout",
          "text": [
            "kor: 8\n",
            "eng: 9\n",
            "mat: 5\n",
            "sci: 7\n",
            "his: 5\n",
            "{'kor': 8, 'eng': 9, 'mat': 5, 'sci': 7, 'his': 5}\n"
          ]
        }
      ]
    },
    {
      "cell_type": "code",
      "source": [
        "members = {'qwerty':'uiop[]',\n",
        "           'asdfg':'hjkl;',\n",
        "           'zxcvb':'nm,./'}\n",
        "\n",
        "while True:\n",
        "  id = input('ID: ')\n",
        "  pw = input('PASSWORD: ')\n",
        "  if id not in members.keys():\n",
        "    print('ID CHECK!!')\n",
        "  else:\n",
        "    if members[id] != pw:\n",
        "      print('PW CHECK!!')\n",
        "    else:\n",
        "      print('LOGGING!!')\n",
        "      break"
      ],
      "metadata": {
        "colab": {
          "base_uri": "https://localhost:8080/"
        },
        "id": "vl-rI7kV3yBy",
        "outputId": "f6adb840-2ac0-44d0-aa35-4d0acb2cb37b"
      },
      "execution_count": 23,
      "outputs": [
        {
          "output_type": "stream",
          "name": "stdout",
          "text": [
            "ID: qwert\n",
            "PASSWORD: yuioop\n",
            "ID CHECK!!\n",
            "ID: asdfg\n",
            "PASSWORD: ghjkl\n",
            "PW CHECK!!\n",
            "ID: zxcvb\n",
            "PASSWORD: nm,./\n",
            "LOGGING!!\n"
          ]
        }
      ]
    },
    {
      "cell_type": "code",
      "source": [
        "result_dic = {}\n",
        "for i in range(2,11):\n",
        "  result_list = []\n",
        "  for j in range(1,i+1):\n",
        "    if i % j == 0:\n",
        "      result_list.append(j)\n",
        "  result_dic[i] = result_list\n",
        "result_dic"
      ],
      "metadata": {
        "colab": {
          "base_uri": "https://localhost:8080/"
        },
        "id": "JgOFUemA6cIE",
        "outputId": "1774d590-0b96-4e96-8d28-a32a3f82d088"
      },
      "execution_count": 26,
      "outputs": [
        {
          "output_type": "execute_result",
          "data": {
            "text/plain": [
              "{2: [1, 2],\n",
              " 3: [1, 3],\n",
              " 4: [1, 2, 4],\n",
              " 5: [1, 5],\n",
              " 6: [1, 2, 3, 6],\n",
              " 7: [1, 7],\n",
              " 8: [1, 2, 4, 8],\n",
              " 9: [1, 3, 9],\n",
              " 10: [1, 2, 5, 10]}"
            ]
          },
          "metadata": {},
          "execution_count": 26
        }
      ]
    },
    {
      "cell_type": "code",
      "source": [
        "python = '파이썬은 1991년 네덜란드계 소프트웨어 엔지니어인 귀도 반 로섬이 발표한 고급 프로그래밍 언어이다'\n",
        "split_list = python.split()                                                     # split()함수 -> list로 반환\n",
        "result = {}\n",
        "for idx,val in enumerate(split_list):\n",
        "  result[idx] = val\n",
        "result"
      ],
      "metadata": {
        "colab": {
          "base_uri": "https://localhost:8080/"
        },
        "id": "yGvrqZJP_Ptb",
        "outputId": "c5c9366e-f429-4ae9-fb75-7ec6af9378ea"
      },
      "execution_count": 1,
      "outputs": [
        {
          "output_type": "execute_result",
          "data": {
            "text/plain": [
              "{0: '파이썬은',\n",
              " 1: '1991년',\n",
              " 2: '네덜란드계',\n",
              " 3: '소프트웨어',\n",
              " 4: '엔지니어인',\n",
              " 5: '귀도',\n",
              " 6: '반',\n",
              " 7: '로섬이',\n",
              " 8: '발표한',\n",
              " 9: '고급',\n",
              " 10: '프로그래밍',\n",
              " 11: '언어이다'}"
            ]
          },
          "metadata": {},
          "execution_count": 1
        }
      ]
    },
    {
      "cell_type": "code",
      "source": [
        "# split() 대신 find()\n",
        "python = '파이썬은 1991년 네덜란드계 소프트웨어 엔지니어인 귀도 반 로섬이 발표한 고급 프로그래밍 언어이다'\n",
        "\n",
        "index_list = []\n",
        "n = 0\n",
        "while n <= len(python):\n",
        "    n = python.find(' ', n)\n",
        "    index_list.append(n)\n",
        "\n",
        "    if n == -1:\n",
        "        break\n",
        "    n += 1\n",
        "\n",
        "index_list.pop()  # 마지막에 추가된 -1을 제거합니다.\n",
        "print(index_list)\n",
        "\n"
      ],
      "metadata": {
        "colab": {
          "base_uri": "https://localhost:8080/"
        },
        "id": "bw2GICtBAFQx",
        "outputId": "4d14337a-5405-4594-a5c8-e74c46fc1506"
      },
      "execution_count": 32,
      "outputs": [
        {
          "output_type": "stream",
          "name": "stdout",
          "text": [
            "[4, 10, 16, 22, 28, 31, 33, 37, 41, 44, 50]\n"
          ]
        }
      ]
    },
    {
      "cell_type": "code",
      "source": [
        "python = '파이썬은 1991년 네덜란드계 소프트웨어 엔지니어인 귀도 반 로섬이 발표한 고급 프로그래밍 언어이다'\n",
        "target_list = []\n",
        "start_idx = 0\n",
        "while start_idx < len(python):\n",
        "  end_idx = python.find(' ',start_idx)                                          # find() ->  문자열을 찾지 못할 경우 -1을 반환\n",
        "  if end_idx == -1:\n",
        "    end_idx = len(python)\n",
        "  target_list.append((start_idx,end_idx))                                       # 튜플형식으로 append\n",
        "  start_idx = end_idx + 1\n",
        "print(target_list)\n",
        "word_list = [python[s:e] for s,e in target_list]\n",
        "print(word_list)"
      ],
      "metadata": {
        "colab": {
          "base_uri": "https://localhost:8080/"
        },
        "id": "AA44vdGHC0ko",
        "outputId": "34a42b73-6e07-44e9-bc7f-0b66318ad9b6"
      },
      "execution_count": 3,
      "outputs": [
        {
          "output_type": "stream",
          "name": "stdout",
          "text": [
            "[(0, 4), (5, 10), (11, 16), (17, 22), (23, 28), (29, 31), (32, 33), (34, 37), (38, 41), (42, 44), (45, 50), (51, 55)]\n",
            "['파이썬은', '1991년', '네덜란드계', '소프트웨어', '엔지니어인', '귀도', '반', '로섬이', '발표한', '고급', '프로그래밍', '언어이다']\n"
          ]
        }
      ]
    },
    {
      "cell_type": "code",
      "source": [
        "words = {'꺼지다':'가다', '쩔다':'엄청나다', '짭새':'경찰관', '꼽사리':'중간에 낀 사람', '먹튀':'먹고 도망',\n",
        "        '지린다':'겁을 먹다', '쪼개다':'웃다', '뒷담까다':'험담하다'}\n",
        "\n",
        "target = '강도는 서로 쪼개다. 짭새를 보고 빠르게 따돌리며 먹튀했다'\n",
        "target_list = target.split()\n",
        "for w in words:\n",
        "  if w in target:\n",
        "    print(w,words[w])\n",
        "    target = target.replace(w,words[w])                                         # replace()함수\n",
        "target"
      ],
      "metadata": {
        "colab": {
          "base_uri": "https://localhost:8080/",
          "height": 89
        },
        "id": "Kh5M4-fFbqZG",
        "outputId": "e0729388-d948-450e-ea44-85ffa519e552"
      },
      "execution_count": 17,
      "outputs": [
        {
          "output_type": "stream",
          "name": "stdout",
          "text": [
            "짭새 경찰관\n",
            "먹튀 먹고 도망\n",
            "쪼개다 웃다\n"
          ]
        },
        {
          "output_type": "execute_result",
          "data": {
            "text/plain": [
              "'강도는 서로 웃다. 경찰관를 보고 빠르게 따돌리며 먹고 도망했다'"
            ],
            "application/vnd.google.colaboratory.intrinsic+json": {
              "type": "string"
            }
          },
          "metadata": {},
          "execution_count": 17
        }
      ]
    },
    {
      "cell_type": "code",
      "source": [
        "members = {}\n",
        "for i in range(5):\n",
        "  mail = input('MAIL: ')\n",
        "  pw = input('PW: ')\n",
        "  members[mail] = pw\n",
        "  if mail in members:\n",
        "    continue\n",
        "members"
      ],
      "metadata": {
        "colab": {
          "base_uri": "https://localhost:8080/"
        },
        "id": "NXyRFL7KceXk",
        "outputId": "dcd73505-0569-4144-952d-739a303f8aba"
      },
      "execution_count": 22,
      "outputs": [
        {
          "name": "stdout",
          "output_type": "stream",
          "text": [
            "MAIL: 1\n",
            "PW: a\n",
            "MAIL: 2\n",
            "PW: b\n",
            "MAIL: 3\n",
            "PW: c\n",
            "MAIL: 4\n",
            "PW: d\n",
            "MAIL: 5\n",
            "PW: e\n"
          ]
        },
        {
          "output_type": "execute_result",
          "data": {
            "text/plain": [
              "{'1': 'a', '2': 'b', '3': 'c', '4': 'd', '5': 'e'}"
            ]
          },
          "metadata": {},
          "execution_count": 22
        }
      ]
    },
    {
      "cell_type": "code",
      "source": [
        "students = {1:{'Name':'abc','Age':20, 'SEX':'M', 'Hobby':['baseball','swimming']},\n",
        "            2:{'Name':'def','Age':21, 'SEX':'W', 'Hobby':['soccer','book']},\n",
        "            3:{'Name':'ghi','Age':22, 'SEX':'M', 'Hobby':['travel','swimming']}}\n",
        "for k1 in students:\n",
        "  print(k1)\n",
        "  student = students[k1]\n",
        "  for k2 in student:\n",
        "    print(f'{k2} : {student[k2]}')"
      ],
      "metadata": {
        "colab": {
          "base_uri": "https://localhost:8080/"
        },
        "id": "fy6oz5-Xh_hs",
        "outputId": "92f1f2eb-ae38-40d5-f54b-a0c4c08e5ea4"
      },
      "execution_count": 27,
      "outputs": [
        {
          "output_type": "stream",
          "name": "stdout",
          "text": [
            "1\n",
            "Name : abc\n",
            "Age : 20\n",
            "SEX : M\n",
            "Hobby : ['baseball', 'swimming']\n",
            "2\n",
            "Name : def\n",
            "Age : 21\n",
            "SEX : W\n",
            "Hobby : ['soccer', 'book']\n",
            "3\n",
            "Name : ghi\n",
            "Age : 22\n",
            "SEX : M\n",
            "Hobby : ['travel', 'swimming']\n"
          ]
        }
      ]
    }
  ]
}