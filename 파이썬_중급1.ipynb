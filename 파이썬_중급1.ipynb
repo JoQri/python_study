{
  "nbformat": 4,
  "nbformat_minor": 0,
  "metadata": {
    "colab": {
      "provenance": [],
      "authorship_tag": "ABX9TyPKjfKN+84qm2ZqiRWaF4gd",
      "include_colab_link": true
    },
    "kernelspec": {
      "name": "python3",
      "display_name": "Python 3"
    },
    "language_info": {
      "name": "python"
    }
  },
  "cells": [
    {
      "cell_type": "markdown",
      "metadata": {
        "id": "view-in-github",
        "colab_type": "text"
      },
      "source": [
        "<a href=\"https://colab.research.google.com/github/JoQri/python_study/blob/main/%ED%8C%8C%EC%9D%B4%EC%8D%AC_%EC%A4%91%EA%B8%891.ipynb\" target=\"_parent\"><img src=\"https://colab.research.google.com/assets/colab-badge.svg\" alt=\"Open In Colab\"/></a>"
      ]
    },
    {
      "cell_type": "code",
      "source": [
        "def practice(*nums):                                                            # 매개변수 개수가 정해지지 않은 경우\n",
        "  print(nums,end='')\n",
        "  print(type(nums))                                                             # 튜플 타입\n",
        "  for n in nums:\n",
        "    print(n,end='')\n",
        "  print()\n",
        "\n",
        "practice()\n",
        "practice(10)\n",
        "practice(10,20)\n",
        "practice(10,20,30)"
      ],
      "metadata": {
        "id": "mIWwMABgmiMJ",
        "colab": {
          "base_uri": "https://localhost:8080/"
        },
        "outputId": "6a151d15-e150-4d0c-afb4-f22997bdcc63"
      },
      "execution_count": null,
      "outputs": [
        {
          "output_type": "stream",
          "name": "stdout",
          "text": [
            "()<class 'tuple'>\n",
            "\n",
            "(10,)<class 'tuple'>\n",
            "10\n",
            "(10, 20)<class 'tuple'>\n",
            "1020\n",
            "(10, 20, 30)<class 'tuple'>\n",
            "102030\n"
          ]
        }
      ]
    },
    {
      "cell_type": "code",
      "source": [
        "import random\n",
        "def oddRInt():\n",
        "  while True:\n",
        "    rInt = random.randint(1,100)\n",
        "    print(rInt)\n",
        "    if rInt % 2 != 0:\n",
        "      break\n",
        "  return rInt                                                                   # return키워드\n",
        "  print('returen키워드를 만나면 다음 실행은 안됨')\n",
        "print(f'result: {oddRInt()}')"
      ],
      "metadata": {
        "colab": {
          "base_uri": "https://localhost:8080/"
        },
        "id": "-44NKKnmeKqa",
        "outputId": "4ff526da-0fc8-4b1b-eef9-5850ea5fd9a9"
      },
      "execution_count": null,
      "outputs": [
        {
          "output_type": "stream",
          "name": "stdout",
          "text": [
            "50\n",
            "37\n",
            "result: 37\n"
          ]
        }
      ]
    },
    {
      "cell_type": "code",
      "source": [
        "def printArea():\n",
        "  triangleA = width * height / 2                                                # 전역변수이기에 매개변수/인수 아니어도 됨\n",
        "  squareA = width * height\n",
        "\n",
        "  print('Triangel Area: {}'.format(triangleA))\n",
        "  print('Square Area: {}'.format(squareA))\n",
        "\n",
        "width = int(input('width: '))\n",
        "height = int(input('height: '))\n",
        "\n",
        "printArea()"
      ],
      "metadata": {
        "colab": {
          "base_uri": "https://localhost:8080/"
        },
        "id": "v4ionRUi8sc5",
        "outputId": "c8440464-af69-4876-81b6-77b929fc9a3c"
      },
      "execution_count": null,
      "outputs": [
        {
          "output_type": "stream",
          "name": "stdout",
          "text": [
            "width: 10\n",
            "height: 20\n",
            "Triangel Area: 100.0\n",
            "Square Area: 200\n"
          ]
        }
      ]
    },
    {
      "cell_type": "code",
      "source": [
        "#global 키워드: 지역변수 -> 전역변수\n",
        "\n",
        "totalVisit = 0\n",
        "\n",
        "def countVisit():\n",
        "  global totalVisit                                                             # 안쓴다면 totalVisit는 수정이 안되므로 def함수 선언 자체가 error 됨\n",
        "\n",
        "  totalVisit = totalVisit + 1\n",
        "  print(totalVisit)\n",
        "\n",
        "print(f'함수 시행 전 {totalVisit}명')\n",
        "countVisit()\n",
        "countVisit()\n",
        "countVisit()\n",
        "print(f'누적 총 {totalVisit}명')"
      ],
      "metadata": {
        "colab": {
          "base_uri": "https://localhost:8080/"
        },
        "id": "RsyMANJj9b18",
        "outputId": "9163afea-8d6d-4a31-f010-39b7422e13d1"
      },
      "execution_count": null,
      "outputs": [
        {
          "output_type": "stream",
          "name": "stdout",
          "text": [
            "함수 시행 전 0명\n",
            "1\n",
            "2\n",
            "3\n",
            "총 3명\n"
          ]
        }
      ]
    },
    {
      "cell_type": "code",
      "source": [
        "# 중첩함수\n",
        "def calculator(n1,n2,operator):\n",
        "\n",
        "  def add():\n",
        "    print(f'result: {n1+n2}')\n",
        "  def sub():\n",
        "    print(f'result: {n1-n2}')\n",
        "  def mul():\n",
        "    print(f'result: {n1*n2}')\n",
        "  def div():\n",
        "    print(f'result: {n1/n2}')\n",
        "\n",
        "  if operator == 'add':\n",
        "    add()\n",
        "  elif operator == 'sub':\n",
        "    sub()\n",
        "  elif operator == 'mul':\n",
        "    mul()\n",
        "  elif operator == 'div':\n",
        "    div()\n",
        "\n",
        "while True:\n",
        "  oper = input('operate: ')\n",
        "  if oper == 'quit':\n",
        "    break\n",
        "\n",
        "  num1 = int(input('num1: '))\n",
        "  num2 = int(input('num2: '))\n",
        "\n",
        "  calculator(num1,num2,oper)"
      ],
      "metadata": {
        "id": "RxWV_KSh-RzX",
        "colab": {
          "base_uri": "https://localhost:8080/"
        },
        "outputId": "6d5e0ade-bc11-4501-ab70-719b4a2428fa"
      },
      "execution_count": null,
      "outputs": [
        {
          "name": "stdout",
          "output_type": "stream",
          "text": [
            "operate: div\n",
            "num1: 5\n",
            "num2: 10\n",
            "result: 0.5\n",
            "operate: add\n",
            "num1: 1\n",
            "num2: 2\n",
            "result: 3\n",
            "operate: quit\n"
          ]
        }
      ]
    },
    {
      "cell_type": "code",
      "source": [
        "def reverseStr(str):\n",
        "  rStr = ''\n",
        "  for s in str:\n",
        "    rStr = s + rStr\n",
        "  return rStr\n",
        "print(reverseStr(input('String: ')))"
      ],
      "metadata": {
        "colab": {
          "base_uri": "https://localhost:8080/"
        },
        "id": "m_oVTV__ix4h",
        "outputId": "fe482e99-f0c8-49cb-d4a1-275278bf91e9"
      },
      "execution_count": null,
      "outputs": [
        {
          "output_type": "stream",
          "name": "stdout",
          "text": [
            "String: 안녕하세요\n",
            "요세하녕안\n"
          ]
        }
      ]
    },
    {
      "cell_type": "code",
      "source": [
        "scores = []\n",
        "def listScores(s):\n",
        "  scores.append(s)\n",
        "def sumScores():\n",
        "  sum = 0\n",
        "  for s in scores:\n",
        "    sum += s\n",
        "  return sum\n",
        "def avgScores():\n",
        "  avg = sumScores()/len(scores)\n",
        "  return avg"
      ],
      "metadata": {
        "id": "5zgfsl5yqRl1"
      },
      "execution_count": null,
      "outputs": []
    },
    {
      "cell_type": "code",
      "source": [
        "kor = int(input('korean score: '))\n",
        "eng = int(input('english score: '))\n",
        "mat = int(input('math score: '))\n",
        "\n",
        "listScores(kor); listScores(eng); listScores(mat)\n",
        "print(scores)\n",
        "print(sumScores())\n",
        "print(avgScores())"
      ],
      "metadata": {
        "colab": {
          "base_uri": "https://localhost:8080/"
        },
        "id": "JQ34S_Vvsw5N",
        "outputId": "5afe7308-c6a8-4825-829d-7cae4e5ad5d8"
      },
      "execution_count": null,
      "outputs": [
        {
          "output_type": "stream",
          "name": "stdout",
          "text": [
            "korean score: 8\n",
            "english score: 7\n",
            "math score: 9\n",
            "[8, 7, 9]\n",
            "24\n",
            "8.0\n"
          ]
        }
      ]
    },
    {
      "cell_type": "code",
      "source": [
        "# __name__ 전역변수\n",
        "print(f'__name__: {__name__}')                                                  # 실행파일"
      ],
      "metadata": {
        "colab": {
          "base_uri": "https://localhost:8080/"
        },
        "id": "KgxRqspwtTKw",
        "outputId": "8c83941f-62c5-48af-8947-273a1dff8def"
      },
      "execution_count": null,
      "outputs": [
        {
          "output_type": "stream",
          "name": "stdout",
          "text": [
            "__name__: __main__\n"
          ]
        }
      ]
    },
    {
      "cell_type": "code",
      "source": [
        "import sys\n",
        "for path in sys.path:                                                           # 모듈의 경로 확인\n",
        "  print(path)"
      ],
      "metadata": {
        "colab": {
          "base_uri": "https://localhost:8080/"
        },
        "id": "QRmkMgcB-b8k",
        "outputId": "3b481f6b-2508-49c4-d192-7bf5f387f17c"
      },
      "execution_count": null,
      "outputs": [
        {
          "output_type": "stream",
          "name": "stdout",
          "text": [
            "/content\n",
            "/env/python\n",
            "/usr/lib/python310.zip\n",
            "/usr/lib/python3.10\n",
            "/usr/lib/python3.10/lib-dynload\n",
            "\n",
            "/usr/local/lib/python3.10/dist-packages\n",
            "/usr/lib/python3/dist-packages\n",
            "/usr/local/lib/python3.10/dist-packages/IPython/extensions\n",
            "/root/.ipython\n"
          ]
        }
      ]
    },
    {
      "cell_type": "code",
      "source": [
        "import time\n",
        "\n",
        "lt = time.localtime()                                                           # 시스템 시간\n",
        "print(lt)\n",
        "print(lt.tm_year)\n",
        "print(lt.tm_mon)\n",
        "print(lt.tm_mday)\n",
        "print(lt.tm_hour)\n",
        "print(lt.tm_min)\n",
        "print(lt.tm_wday)"
      ],
      "metadata": {
        "colab": {
          "base_uri": "https://localhost:8080/"
        },
        "id": "35JDn4pyGHSL",
        "outputId": "20209510-82e3-486b-f10c-10e7bf81fcc1"
      },
      "execution_count": null,
      "outputs": [
        {
          "output_type": "stream",
          "name": "stdout",
          "text": [
            "time.struct_time(tm_year=2024, tm_mon=3, tm_mday=21, tm_hour=8, tm_min=47, tm_sec=47, tm_wday=3, tm_yday=81, tm_isdst=0)\n",
            "2024\n",
            "3\n",
            "21\n",
            "8\n",
            "47\n",
            "3\n"
          ]
        }
      ]
    },
    {
      "cell_type": "code",
      "source": [
        "import random\n",
        "\n",
        "# 0이상 1미만 난수\n",
        "print(f'random.random(): {random.random()}')\n",
        "\n",
        "# 1이상 20미만 난수 하나\n",
        "print(f'random.randrange(1, 20): {random.randrange(1, 20)}')\n",
        "\n",
        "# 무작위 한개 추출\n",
        "listVar = [0, 1, 2, 3, 4, 5, 6]\n",
        "print(f'random.choice(listVar): {random.choice(listVar)}')\n",
        "\n",
        "# 섞음\n",
        "print(f'listVar: {listVar}')\n",
        "random.shuffle(listVar)\n",
        "print(f'shuffle listVar: {listVar}')"
      ],
      "metadata": {
        "colab": {
          "base_uri": "https://localhost:8080/"
        },
        "id": "RSVDVUGDJKLz",
        "outputId": "a68f92a2-01fc-48f2-838a-1a5a0cea4d41"
      },
      "execution_count": null,
      "outputs": [
        {
          "output_type": "stream",
          "name": "stdout",
          "text": [
            "random.random(): 0.6049893523731034\n",
            "random.randrange(1, 20): 18\n",
            "random.choice(listVar): 0\n",
            "listVar: [0, 1, 2, 3, 4, 5, 6]\n",
            "shuffle listVar: [6, 3, 0, 5, 2, 1, 4]\n"
          ]
        }
      ]
    },
    {
      "cell_type": "code",
      "source": [
        "import math\n",
        "\n",
        "#절댓값\n",
        "print(f'math.fabs(-10): {math.fabs(-10)}')\n",
        "print(f'math.fabs(-0.12895): {math.fabs(-0.12895)}')\n",
        "\n",
        "# 올림\n",
        "print(f'math.ceil(5.21): {math.ceil(5.21)}')\n",
        "print(f'math.ceil(-5.21): {math.ceil(-5.21)}')\n",
        "\n",
        "# 내림\n",
        "print(f'math.floor(5.21): {math.floor(5.21)}')\n",
        "print(f'math.floor(-5.21): {math.floor(-5.21)}')\n",
        "\n",
        "# 버림\n",
        "print(f'math.trunc(5.21): {math.trunc(5.21)}')\n",
        "print(f'math.trunc(-5.21): {math.trunc(-5.21)}')\n",
        "\n",
        "# 최대공약수\n",
        "print(f'math.gcd(14, 21): {math.gcd(14, 21)}')\n",
        "\n",
        "# 팩토리얼\n",
        "print(f'math.factorial(10): {math.factorial(10)}')\n",
        "\n",
        "# 제곱근\n",
        "print(f'math.sqrt(4): {math.sqrt(4)}')\n",
        "print(f'math.sqrt(12): {math.sqrt(12)}')"
      ],
      "metadata": {
        "colab": {
          "base_uri": "https://localhost:8080/"
        },
        "id": "CCxJsxqFNxTP",
        "outputId": "efb96201-bee0-4d03-dcd9-228b186757f3"
      },
      "execution_count": null,
      "outputs": [
        {
          "output_type": "stream",
          "name": "stdout",
          "text": [
            "math.fabs(-10): 10.0\n",
            "math.fabs(-0.12895): 0.12895\n",
            "math.ceil(5.21): 6\n",
            "math.ceil(-5.21): -5\n",
            "math.floor(5.21): 5\n",
            "math.floor(-5.21): -6\n",
            "math.trunc(5.21): 5\n",
            "math.trunc(-5.21): -5\n",
            "math.gcd(14, 21): 7\n",
            "math.factorial(10): 3628800\n",
            "math.sqrt(4): 2.0\n",
            "math.sqrt(12): 3.4641016151377544\n"
          ]
        }
      ]
    },
    {
      "cell_type": "code",
      "source": [
        "scores = [7,8,9]\n",
        "\n",
        "print(id(scores))                                                               # id() 메모리 주소\n",
        "scores_copy = scores                                                            # 얖은복사\n",
        "print(id(scores_copy))\n",
        "copyScores = scores.copy()                                                      # copy()로 깊은복사\n",
        "print(id(copyScores))"
      ],
      "metadata": {
        "colab": {
          "base_uri": "https://localhost:8080/"
        },
        "id": "G-P9LWWr13v9",
        "outputId": "5441676e-3b97-4369-a9a7-6e66adf47651"
      },
      "execution_count": 22,
      "outputs": [
        {
          "output_type": "stream",
          "name": "stdout",
          "text": [
            "140582512827136\n",
            "140582512827136\n",
            "140582512826816\n"
          ]
        }
      ]
    },
    {
      "cell_type": "code",
      "source": [
        "scores = [int(input('kor:')),\n",
        "          int(input('eng:')),\n",
        "          int(input('mat:'))]\n",
        "copyScores = scores.copy()                                                      # copy()로 깊은복사\n",
        "\n",
        "for idx,s in enumerate(copyScores):\n",
        "  result = s * 1.1\n",
        "  copyScores[idx] = 100 if result > 100 else result\n",
        "print(f'변경 전 평균: {round(sum(scores)/len(scores),2)}')\n",
        "print(f'변경 후 평균: {sum(copyScores)/3}')"
      ],
      "metadata": {
        "colab": {
          "base_uri": "https://localhost:8080/"
        },
        "id": "oPhewNgq15Ll",
        "outputId": "c88e5418-7429-46f3-ca1c-23634ac4921a"
      },
      "execution_count": 23,
      "outputs": [
        {
          "output_type": "stream",
          "name": "stdout",
          "text": [
            "kor:77\n",
            "eng:82\n",
            "mat:91\n",
            "변경 전 평균: 83.33\n",
            "변경 후 평균: 91.63333333333333\n"
          ]
        }
      ]
    },
    {
      "cell_type": "markdown",
      "source": [
        "### Class"
      ],
      "metadata": {
        "id": "kg65TIxBh9sz"
      }
    },
    {
      "cell_type": "code",
      "source": [
        "class Calculator:\n",
        "  def __init__(self):                                                           # 매개변수를 받지 않고 속성값을 초기화 고정\n",
        "    self.num1 = 0\n",
        "    self.num2 = 0\n",
        "    self.result = 0\n",
        "    print('Calculator __init__ 메소드 호출')\n",
        "  def add(self):\n",
        "    self.result = self.num1 + self.num2\n",
        "    return self.result\n",
        "  def sub(self):\n",
        "    self.result = self.num1 - self.num2\n",
        "    return self.result\n",
        "\n",
        "class CalculatorChild(Calculator):                                              # 클래스 상속\n",
        "  def mul(self):\n",
        "    self.result = self.num1 * self.num2\n",
        "    return self.result\n",
        "  def div(self):\n",
        "    self.result = self.num1 / self.num2\n",
        "    return self.result\n",
        "\n",
        "cal = CalculatorChild()\n",
        "print(cal.add())                                                                # 매개변수없이 객체생성시\n",
        "cal.num1 = 10\n",
        "cal.num2 = 20\n",
        "print(cal.add())\n",
        "print(cal.sub())\n",
        "print(cal.mul())\n",
        "print(cal.div())"
      ],
      "metadata": {
        "colab": {
          "base_uri": "https://localhost:8080/"
        },
        "id": "32ngcHWWzJAG",
        "outputId": "5be3c9f4-001e-471b-b9d8-18fd9a0dd476"
      },
      "execution_count": 21,
      "outputs": [
        {
          "output_type": "stream",
          "name": "stdout",
          "text": [
            "Calculator __init__ 메소드 호출\n",
            "0\n",
            "30\n",
            "-10\n",
            "200\n",
            "0.5\n"
          ]
        }
      ]
    },
    {
      "cell_type": "code",
      "source": [
        "class P_Class:\n",
        "  def __init__(self, pNum):\n",
        "    self.pNum1 = pNum\n",
        "    self.pNum2 = 2                                                              # 하나만 속성값 고정 가능\n",
        "    print('P_class init called!')\n",
        "\n",
        "class C_Class(P_Class):\n",
        "  def __init__(self, cNum1,cNum2):\n",
        "    self.cNum1 = cNum1\n",
        "    self.cNum2 = cNum2\n",
        "    print('C_class init called!')\n",
        "\n",
        "cls = C_Class(10,20)\n",
        "cls                                                                             # 상위클래스의 init메소드 호출이 안됨!!"
      ],
      "metadata": {
        "id": "ovaWoMbpZlaT",
        "colab": {
          "base_uri": "https://localhost:8080/"
        },
        "outputId": "46611517-67ed-4574-cff8-280f475a10ef"
      },
      "execution_count": 26,
      "outputs": [
        {
          "output_type": "stream",
          "name": "stdout",
          "text": [
            "C_class init called!\n"
          ]
        },
        {
          "output_type": "execute_result",
          "data": {
            "text/plain": [
              "<__main__.C_Class at 0x7fdbeab9b8b0>"
            ]
          },
          "metadata": {},
          "execution_count": 26
        }
      ]
    },
    {
      "cell_type": "code",
      "source": [
        "# 방법1\n",
        "\n",
        "class P_Class:\n",
        "  def __init__(self, pNum):\n",
        "    self.pNum1 = pNum\n",
        "    self.pNum2 = 2\n",
        "    print('P_class init called!')\n",
        "\n",
        "class C_Class(P_Class):\n",
        "  def __init__(self, cNum1,cNum2):\n",
        "\n",
        "    # 상위 클래스 상속시 속성값 초기화 방법1\n",
        "    P_Class.__init__(self, cNum1)\n",
        "\n",
        "    self.cNum1 = cNum1\n",
        "    self.cNum2 = cNum2\n",
        "    print('C_class init called!')\n",
        "\n",
        "cls = C_Class(10,20)\n",
        "print(cls.pNum1)\n",
        "print(cls.pNum2)\n",
        "print(cls.cNum1)\n",
        "print(cls.cNum2)"
      ],
      "metadata": {
        "colab": {
          "base_uri": "https://localhost:8080/"
        },
        "id": "ccC9vPnvs_9u",
        "outputId": "fa756520-d0ca-4309-804f-e694ef2a42f2"
      },
      "execution_count": 30,
      "outputs": [
        {
          "output_type": "stream",
          "name": "stdout",
          "text": [
            "P_class init called!\n",
            "C_class init called!\n",
            "10\n",
            "2\n",
            "10\n",
            "20\n"
          ]
        }
      ]
    },
    {
      "cell_type": "code",
      "source": [
        "# 방법2\n",
        "\n",
        "class P_Class:\n",
        "  def __init__(self, pNum):\n",
        "    self.pNum1 = pNum\n",
        "    self.pNum2 = 2\n",
        "    print('P_class init called!')\n",
        "\n",
        "class C_Class(P_Class):\n",
        "  def __init__(self, cNum1,cNum2):\n",
        "\n",
        "    # 상위 클래스 상속시 속성값 초기화 방법2\n",
        "    super().__init__(cNum1)                                                     # super()사용 - self명시 안해도됨\n",
        "\n",
        "    self.cNum1 = cNum1\n",
        "    self.cNum2 = cNum2\n",
        "    print('C_class init called!')\n",
        "\n",
        "cls = C_Class(10,20)\n",
        "print(cls.pNum1)\n",
        "print(cls.pNum2)\n",
        "print(cls.cNum1)\n",
        "print(cls.cNum2)"
      ],
      "metadata": {
        "colab": {
          "base_uri": "https://localhost:8080/"
        },
        "id": "tIujzNvr4A3D",
        "outputId": "bdbc5b84-eff4-469a-fcb6-a369171d4579"
      },
      "execution_count": 31,
      "outputs": [
        {
          "output_type": "stream",
          "name": "stdout",
          "text": [
            "P_class init called!\n",
            "C_class init called!\n",
            "10\n",
            "2\n",
            "10\n",
            "20\n"
          ]
        }
      ]
    },
    {
      "cell_type": "code",
      "source": [
        "class Mid_test:\n",
        "  def __init__(self,s1,s2,s3):\n",
        "    self.mid_kor = s1\n",
        "    self.mid_eng = s2\n",
        "    self.mid_mat = s3\n",
        "  def printScores(self):\n",
        "    print(f'mid_kor: {self.mid_kor}')\n",
        "    print(f'mid_eng: {self.mid_eng}')\n",
        "    print(f'mid_mat: {self.mid_mat}')\n",
        "\n",
        "class Fin_test(Mid_test):\n",
        "  def __init__(self,s1,s2,s3,s4,s5,s6):\n",
        "    super().__init__(s1,s2,s3)\n",
        "    self.fin_kor = s4\n",
        "    self.fin_eng = s5\n",
        "    self.fin_mat = s6\n",
        "\n",
        "  def printScores(self):\n",
        "    super().printScores()\n",
        "    print(f'mid_kor: {self.fin_kor}')\n",
        "    print(f'mid_eng: {self.fin_eng}')\n",
        "    print(f'mid_mat: {self.fin_mat}')\n",
        "\n",
        "  def Total_sum(self):\n",
        "    total = self.mid_kor + self.mid_eng + self.mid_mat + self.fin_kor + self.fin_eng + self.fin_mat\n",
        "    return total\n",
        "\n",
        "  def Total_avg(self):\n",
        "    return round(self.Total_sum() / 6, 2)\n",
        "\n",
        "scores = Fin_test(85,90,88,75,85,95)\n",
        "scores.printScores()\n",
        "print(f'총점: {scores.Total_sum()}')\n",
        "print(f'평균: {scores.Total_avg()}')"
      ],
      "metadata": {
        "colab": {
          "base_uri": "https://localhost:8080/"
        },
        "id": "-REze6KY3mcG",
        "outputId": "ee5775cc-43fb-4304-e704-11d906df25b2"
      },
      "execution_count": 35,
      "outputs": [
        {
          "output_type": "stream",
          "name": "stdout",
          "text": [
            "mid_kor: 85\n",
            "mid_eng: 90\n",
            "mid_mat: 88\n",
            "mid_kor: 75\n",
            "mid_eng: 85\n",
            "mid_mat: 95\n",
            "총점: 518\n",
            "평균: 86.33\n"
          ]
        }
      ]
    },
    {
      "cell_type": "markdown",
      "source": [
        "### Class over_ride"
      ],
      "metadata": {
        "id": "Af5c2kAeQ7jb"
      }
    },
    {
      "cell_type": "code",
      "source": [
        "class Robot:\n",
        "  def __init__(self,c,h,w):\n",
        "    self.color = c\n",
        "    self.height = h\n",
        "    self.weight = w\n",
        "  def fire(self):\n",
        "    print('총알 발사')\n",
        "class NewRobot(Robot):\n",
        "  def __init__(self, c, h, w):\n",
        "    super().__init__(c,h,w)\n",
        "\n",
        "  def fire(self):\n",
        "    print('레이저 발사!!')\n",
        "\n",
        "toy = NewRobot('red',200,300)\n",
        "toy.fire()"
      ],
      "metadata": {
        "colab": {
          "base_uri": "https://localhost:8080/"
        },
        "id": "X71YqP6cDix6",
        "outputId": "42efab51-9350-4836-dbaf-b0d8619ddce6"
      },
      "execution_count": 37,
      "outputs": [
        {
          "output_type": "stream",
          "name": "stdout",
          "text": [
            "레이저 발사!!\n"
          ]
        }
      ]
    },
    {
      "cell_type": "code",
      "source": [
        "class TriangleArea:\n",
        "  def __init__(self, w, h):\n",
        "    self.width = w\n",
        "    self.height = h\n",
        "  def TriangleInfo(self):\n",
        "    print(f'width: {self.width}, height: {self.height}')\n",
        "  def getArea(self):\n",
        "    return self.width + self.height / 2\n",
        "\n",
        "class NewTriangleArea(TriangleArea):\n",
        "  def getArea(self):\n",
        "    return str(super().getArea()) + '㎤'\n",
        "\n",
        "target = NewTriangleArea(7,5)\n",
        "target.TriangleInfo()\n",
        "print(target.getArea())"
      ],
      "metadata": {
        "colab": {
          "base_uri": "https://localhost:8080/"
        },
        "id": "fGh1Si9dNKU2",
        "outputId": "1d9d4f5b-8640-4e50-d861-838f19ba0808"
      },
      "execution_count": 40,
      "outputs": [
        {
          "output_type": "stream",
          "name": "stdout",
          "text": [
            "width: 7, height: 5\n",
            "9.5㎤\n"
          ]
        }
      ]
    },
    {
      "cell_type": "code",
      "source": [
        "# 다중상속\n",
        "class Car_1:\n",
        "  def drive(self):\n",
        "    print('Drive')\n",
        "class Car_2:\n",
        "  def Turbo(self):\n",
        "    print('Turbo')\n",
        "class Car_3:\n",
        "  def fly(self):\n",
        "    print('Fly')\n",
        "\n",
        "class NewCar(Car_1, Car_2, Car_3):\n",
        "  def __init__(self):\n",
        "    pass\n",
        "\n",
        "myCar = NewCar()\n",
        "myCar.fly()"
      ],
      "metadata": {
        "colab": {
          "base_uri": "https://localhost:8080/"
        },
        "id": "WrTMnazhQG9V",
        "outputId": "dbd3da55-56d1-4013-eba5-d6d086595374"
      },
      "execution_count": 41,
      "outputs": [
        {
          "output_type": "stream",
          "name": "stdout",
          "text": [
            "Fly\n"
          ]
        }
      ]
    },
    {
      "cell_type": "code",
      "source": [
        "# 추상클래스\n",
        "from abc import ABCMeta, abstractmethod\n",
        "\n",
        "class Calculator:\n",
        "  @abstractmethod\n",
        "  def add(self, n1, n2):\n",
        "    pass\n",
        "\n",
        "  @abstractmethod\n",
        "  def sub(self, n1, n2):\n",
        "    pass\n",
        "\n",
        "  def nothing(self, n1, n2):\n",
        "    pass\n",
        "\n",
        "class DeveloperCal(Calculator):\n",
        "  def __init__(self, c):\n",
        "    self.color = c\n",
        "  def add(self, n1, n2):\n",
        "    return n1 + n2                                                              # 오버라이딩과 달리 안쓰면 에러\n",
        "  def sub(self, n1, n2):\n",
        "    return n1 - n2\n",
        "  def mul(self, n1, n2):\n",
        "    return n1 * n2\n",
        "  def div(self, n1, n2):\n",
        "    return n1 / n2\n",
        "\n",
        "Cal = DeveloperCal('red')\n",
        "print(Cal.add(4,8))\n",
        "print(Cal.sub(4,8))\n",
        "print(Cal.mul(4,8))\n",
        "print(Cal.div(4,8))\n",
        "print(Cal.nothing(4,8))"
      ],
      "metadata": {
        "colab": {
          "base_uri": "https://localhost:8080/"
        },
        "id": "7gwxZ7Vjcp9c",
        "outputId": "c77acd9f-5cdf-46b8-e5a5-1538472dd5c9"
      },
      "execution_count": 45,
      "outputs": [
        {
          "output_type": "stream",
          "name": "stdout",
          "text": [
            "12\n",
            "-4\n",
            "32\n",
            "0.5\n",
            "None\n"
          ]
        }
      ]
    },
    {
      "cell_type": "code",
      "source": [],
      "metadata": {
        "id": "ajeyGkcug3Ul"
      },
      "execution_count": null,
      "outputs": []
    }
  ]
}