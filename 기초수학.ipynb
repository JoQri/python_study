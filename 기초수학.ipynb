{
  "nbformat": 4,
  "nbformat_minor": 0,
  "metadata": {
    "colab": {
      "provenance": [],
      "authorship_tag": "ABX9TyO3qeLy31wWH3Bpbbv54cRl",
      "include_colab_link": true
    },
    "kernelspec": {
      "name": "python3",
      "display_name": "Python 3"
    },
    "language_info": {
      "name": "python"
    }
  },
  "cells": [
    {
      "cell_type": "markdown",
      "metadata": {
        "id": "view-in-github",
        "colab_type": "text"
      },
      "source": [
        "<a href=\"https://colab.research.google.com/github/JoQri/zerobase_study/blob/main/%EA%B8%B0%EC%B4%88%EC%88%98%ED%95%99.ipynb\" target=\"_parent\"><img src=\"https://colab.research.google.com/assets/colab-badge.svg\" alt=\"Open In Colab\"/></a>"
      ]
    },
    {
      "cell_type": "code",
      "execution_count": null,
      "metadata": {
        "colab": {
          "base_uri": "https://localhost:8080/"
        },
        "id": "lRjzOASd5QAa",
        "outputId": "6c691e2a-456f-434f-c622-6fa349852407"
      },
      "outputs": [
        {
          "output_type": "stream",
          "name": "stdout",
          "text": [
            "0보다 큰 정수:30\n",
            "1\n",
            "2\n",
            "3\n",
            "5\n",
            "6\n",
            "10\n",
            "15\n",
            "30\n"
          ]
        }
      ],
      "source": [
        "# 약수\n",
        "inputN = int(input('0보다 큰 정수:'))\n",
        "for i in range(1, inputN+1):\n",
        "  if inputN % i == 0:\n",
        "    print(i)"
      ]
    },
    {
      "cell_type": "code",
      "source": [
        "# 소수 / 합성수\n",
        "inputN = int(input('1보다 큰 정수:'))\n",
        "for n1 in range(2,inputN+1):\n",
        "  flag = True\n",
        "  for n2 in range(2,n1):                                                        # n1+1를 안하는 이유가 자기 자신 불포함\n",
        "    if n1 % n2 == 0:\n",
        "      flag = False\n",
        "      break\n",
        "  if flag:\n",
        "    print('{} : \\t소수'.format(n1))\n",
        "  else:\n",
        "    print(('{} : 합성수'.format(n1)))"
      ],
      "metadata": {
        "colab": {
          "base_uri": "https://localhost:8080/"
        },
        "id": "ohVOXYY37p0P",
        "outputId": "c9e09ce9-d9ee-473d-c3d1-639e479d2a3d"
      },
      "execution_count": null,
      "outputs": [
        {
          "output_type": "stream",
          "name": "stdout",
          "text": [
            "0보다 큰 정수:10\n",
            "2 : \t소수\n",
            "3 : \t소수\n",
            "4 : 합성수\n",
            "5 : \t소수\n",
            "6 : 합성수\n",
            "7 : \t소수\n",
            "8 : 합성수\n",
            "9 : 합성수\n",
            "10 : 합성수\n"
          ]
        }
      ]
    },
    {
      "cell_type": "code",
      "source": [
        "# 소인수분해\n",
        "num = int(input('1보다 큰 정수: '))\n",
        "\n",
        "n = 2\n",
        "while n <= num:\n",
        "  if num % n == 0:\n",
        "    print('소인수: {}'.format(n))\n",
        "    num /= n\n",
        "  else:\n",
        "    n += 1"
      ],
      "metadata": {
        "id": "IwG4BJB6JoKd",
        "colab": {
          "base_uri": "https://localhost:8080/"
        },
        "outputId": "45fc62e9-e19e-49ff-95e3-1a4fa47d6e24"
      },
      "execution_count": null,
      "outputs": [
        {
          "output_type": "stream",
          "name": "stdout",
          "text": [
            "1보다 큰 정수: 20\n",
            "소인수: 2\n",
            "소인수: 2\n",
            "소인수: 5\n"
          ]
        }
      ]
    },
    {
      "cell_type": "code",
      "source": [
        "# 72에 target을 곱하면 x²이 됨. target은?\n",
        "\n",
        "num = 72\n",
        "target_list = []\n",
        "n = 2\n",
        "while n <= num:\n",
        "  if num % n == 0:\n",
        "    print('소인수: {}'.format(n))\n",
        "    if target_list.count(n) == 0:\n",
        "      target_list.append(n)\n",
        "    elif target_list.count(n) == 1:\n",
        "      target_list.remove(n)\n",
        "    num /= n\n",
        "  else:\n",
        "    n += 1\n",
        "target_list"
      ],
      "metadata": {
        "colab": {
          "base_uri": "https://localhost:8080/"
        },
        "id": "0gf6_CvKjhGa",
        "outputId": "2780c997-7491-4924-a696-5e783ef9df3d"
      },
      "execution_count": null,
      "outputs": [
        {
          "output_type": "stream",
          "name": "stdout",
          "text": [
            "소인수: 2\n",
            "소인수: 2\n",
            "소인수: 2\n",
            "소인수: 3\n",
            "소인수: 3\n"
          ]
        },
        {
          "output_type": "execute_result",
          "data": {
            "text/plain": [
              "[2]"
            ]
          },
          "metadata": {},
          "execution_count": 3
        }
      ]
    },
    {
      "cell_type": "code",
      "source": [
        "num = 72\n",
        "nums_list = []\n",
        "\n",
        "n = 2\n",
        "while n <= num:\n",
        "  if num % n == 0:\n",
        "    nums_list.append(n)\n",
        "    num /= n\n",
        "  else:\n",
        "    n += 1\n",
        "print(f'소인수분해: {nums_list}')\n",
        "for i in nums_list:\n",
        "  if nums_list.count(i) % 2 != 0:\n",
        "     print(f'target: {i}')\n",
        "     nums_list.remove(i)"
      ],
      "metadata": {
        "colab": {
          "base_uri": "https://localhost:8080/"
        },
        "id": "taFf0HfAmXKz",
        "outputId": "874b85d5-d899-41a3-c565-0a8ba98e539c"
      },
      "execution_count": null,
      "outputs": [
        {
          "output_type": "stream",
          "name": "stdout",
          "text": [
            "소인수분해: [2, 2, 2, 3, 3]\n",
            "target: 2\n"
          ]
        }
      ]
    },
    {
      "cell_type": "code",
      "source": [
        "n1 = int(input('1보다 큰 정수: '))\n",
        "n2 = int(input('n1보다 큰 정수: '))\n",
        "maxInt = 0\n",
        "for i in range(1,n1+1):\n",
        "  if n1 % i == 0 and n2 % i == 0:\n",
        "    print('공약수: {}'.format(i))\n",
        "    maxInt = i\n",
        "print('최대 공약수: {}'.format(maxInt))\n",
        "\n",
        "minInt = (n1*n2) // maxInt\n",
        "print('최소 공배수: {}'.format(minInt))"
      ],
      "metadata": {
        "id": "wYYMAHe7pYlS",
        "colab": {
          "base_uri": "https://localhost:8080/"
        },
        "outputId": "9c38d664-219f-49aa-eb8a-b5f041217299"
      },
      "execution_count": 1,
      "outputs": [
        {
          "output_type": "stream",
          "name": "stdout",
          "text": [
            "1보다 큰 정수: 12\n",
            "n1보다 큰 정수: 36\n",
            "공약수: 1\n",
            "공약수: 2\n",
            "공약수: 3\n",
            "공약수: 4\n",
            "공약수: 6\n",
            "공약수: 12\n",
            "최대 공약수: 12\n",
            "최소 공배수: 36\n"
          ]
        }
      ]
    },
    {
      "cell_type": "code",
      "source": [
        "# 유클리드 호제법\n",
        "\n",
        "n1 = int(input('1보다 큰 정수: '))\n",
        "n2 = int(input('n1보다 큰 정수: '))\n",
        "\n",
        "temp1 = n1; temp2 = n2                                                          # temp1 = 12, temp2 = 36\n",
        "while temp2 > 0:\n",
        "  temp = temp2                                                                  # temp = 36\n",
        "  temp2 = temp1 % temp2                                                         # temp2 = 12\n",
        "  temp1 = temp                                                                  # temp1 = 36\n",
        "print('{}, {} 최대 공약수: {}'.format(n1,n2,temp1))"
      ],
      "metadata": {
        "colab": {
          "base_uri": "https://localhost:8080/"
        },
        "id": "ODptDKGfM48H",
        "outputId": "423c6344-7124-4c29-82db-26f6f52d03b3"
      },
      "execution_count": 2,
      "outputs": [
        {
          "output_type": "stream",
          "name": "stdout",
          "text": [
            "1보다 큰 정수: 12\n",
            "n1보다 큰 정수: 36\n",
            "12, 36 최대 공약수: 12\n"
          ]
        }
      ]
    },
    {
      "cell_type": "code",
      "source": [
        "n1 = int(input('1보다 큰 정수: '))\n",
        "n2 = int(input('n1보다 큰 정수: '))\n",
        "n3 = int(input('n1보다 큰 정수: '))\n",
        "maxInt = 0\n",
        "for i in range(1,n1+1):\n",
        "  if n1 % i == 0 and n2 % i == 0:\n",
        "    maxInt = i\n",
        "print('최대 공약수: {}'.format(maxInt))\n",
        "minInt = (n1*n2) // maxInt\n",
        "print('{},{} 최소 공배수: {}'.format(n1,n2,minInt))\n",
        "\n",
        "n_new = minInt\n",
        "for i in range(1,n_new+1):\n",
        "  if n_new % i == 0 and n3 % i == 0:\n",
        "    maxInt = i\n",
        "print('최대 공약수: {}'.format(maxInt))\n",
        "minInt = (n_new*n3) // maxInt\n",
        "print('{},{}, {} 최소 공배수: {}'.format(n1,n2,n3,minInt))"
      ],
      "metadata": {
        "id": "3hcoxyg4VzrX",
        "colab": {
          "base_uri": "https://localhost:8080/"
        },
        "outputId": "c702f72c-e40c-40c5-fa9d-1d6f386ab3f1"
      },
      "execution_count": 2,
      "outputs": [
        {
          "output_type": "stream",
          "name": "stdout",
          "text": [
            "1보다 큰 정수: 6\n",
            "n1보다 큰 정수: 12\n",
            "n1보다 큰 정수: 18\n",
            "최대 공약수: 6\n",
            "6,12 최소 공배수: 12\n",
            "최대 공약수: 6\n",
            "6,12, 18 최소 공배수: 36\n"
          ]
        }
      ]
    },
    {
      "cell_type": "code",
      "source": [
        "# 진법\n",
        "\n",
        "# 10진수 -> x진수\n",
        "dNum = 30\n",
        "\n",
        "# 파이썬 내장함수 이용\n",
        "print(f'2진수: {bin(dNum)}, 타입: {type(bin(dNum))}')\n",
        "print(f'8진수: {oct(dNum)}, 타입: {type(oct(dNum))}')\n",
        "print(f'16진수: {hex(dNum)}, 타입: {type(hex(dNum))}')\n",
        "\n",
        "print('-'*20)\n",
        "# format함수 이용\n",
        "print('2진수: {}'.format(format(dNum,'#b')))\n",
        "print('2진수: {}'.format(format(dNum,'b')))                                     # '#'을 없앨수있음(그러나 여전히 str)\n",
        "print('2진수: {}'.format(type(format(dNum,'b'))))\n",
        "\n",
        "print('8진수: {}'.format(format(dNum,'#o')))\n",
        "print('16진수: {}'.format(format(dNum,'#x')))\n",
        "\n",
        "print('-'*20)\n",
        "print('{0:#b}, {0:#o}, {0:x}'.format(dNum))"
      ],
      "metadata": {
        "id": "zpiLNmseNMtt",
        "colab": {
          "base_uri": "https://localhost:8080/"
        },
        "outputId": "172ffc9d-2260-4e13-c470-830e7077a5eb"
      },
      "execution_count": 12,
      "outputs": [
        {
          "output_type": "stream",
          "name": "stdout",
          "text": [
            "2진수: 0b11110, 타입: <class 'str'>\n",
            "8진수: 0o36, 타입: <class 'str'>\n",
            "16진수: 0x1e, 타입: <class 'str'>\n",
            "--------------------\n",
            "2진수: 0b11110\n",
            "2진수: 11110\n",
            "2진수: <class 'str'>\n",
            "8진수: 0o36\n",
            "16진수: 0x1e\n",
            "--------------------\n",
            "0b11110, 0o36, 1e\n"
          ]
        }
      ]
    },
    {
      "cell_type": "code",
      "source": [
        "# x진수 -> 10진수 (int 함수!!!)\n",
        "print('2진수(0b11110) -> 10진수({})'.format(int('0b11110',2)))                  # str이니깐 ''에 넣기\n",
        "print('2진수(0b11110) -> 10진수({})'.format(int('11110',2)))                    # '#'을 없앨수있음(그러나 여전히 str)\n",
        "print('{}'.format(type(int('0b11110',2))))\n",
        "# 8진수, 16진수 마찬가지\n",
        "\n",
        "print('2진수(0b11110) -> 8진수({})'.format(oct(0b11110)))\n",
        "# 나머지도 똑같이 사용"
      ],
      "metadata": {
        "colab": {
          "base_uri": "https://localhost:8080/"
        },
        "id": "ywt6JSFwyJvI",
        "outputId": "7247f7de-5f8a-4ef8-b281-abda2faea039"
      },
      "execution_count": 17,
      "outputs": [
        {
          "output_type": "stream",
          "name": "stdout",
          "text": [
            "2진수(0b11110) -> 10진수(30)\n",
            "2진수(0b11110) -> 10진수(30)\n",
            "<class 'int'>\n",
            "2진수(0b11110) -> 8진수(0o36)\n"
          ]
        }
      ]
    },
    {
      "cell_type": "code",
      "source": [
        "# 등차수열\n",
        "\n",
        "a1 = int(input('a1: '))\n",
        "d = int(input('d: '))\n",
        "targetN = int(input('n번째: '))\n",
        "targetInt = 0\n",
        "n = 1\n",
        "total = 0\n",
        "while n <= targetN:\n",
        "  if n == 1:\n",
        "    targetInt = a1\n",
        "    print(f'{n}번째 항의 값: {targetInt}')\n",
        "    total += targetInt\n",
        "    print(f'{n}번째 항의 합 값: {total}')\n",
        "    n += 1\n",
        "    continue\n",
        "  targetInt += d\n",
        "  print(f'{n}번째 항의 값: {targetInt}')\n",
        "  total += targetInt\n",
        "  print(f'{n}번째 항의 합 값: {total}')\n",
        "  n += 1\n",
        "print(f'{targetN}번째 항의 값: {targetInt}\\t 합: {total}')\n",
        "\n",
        "\n",
        "\n",
        "# 공식\n",
        "print('-'*30)\n",
        "targetInt = a1 + (targetN-1)*d\n",
        "print(f'{targetN}번째 항의 값: {targetInt}')\n",
        "total = targetN * (a1 + targetInt) / 2\n",
        "print(f'{targetN}번째 항의 값: {targetInt}\\t 합: {total}')"
      ],
      "metadata": {
        "colab": {
          "base_uri": "https://localhost:8080/"
        },
        "id": "A_jX5YjF6m3i",
        "outputId": "c83699f4-9f9e-4235-eddd-43f33199cf20"
      },
      "execution_count": 3,
      "outputs": [
        {
          "output_type": "stream",
          "name": "stdout",
          "text": [
            "a1: 5\n",
            "d: 4\n",
            "n번째: 7\n",
            "1번째 항의 값: 5\n",
            "1번째 항의 합 값: 5\n",
            "2번째 항의 값: 9\n",
            "2번째 항의 합 값: 14\n",
            "3번째 항의 값: 13\n",
            "3번째 항의 합 값: 27\n",
            "4번째 항의 값: 17\n",
            "4번째 항의 합 값: 44\n",
            "5번째 항의 값: 21\n",
            "5번째 항의 합 값: 65\n",
            "6번째 항의 값: 25\n",
            "6번째 항의 합 값: 90\n",
            "7번째 항의 값: 29\n",
            "7번째 항의 합 값: 119\n",
            "7번째 항의 값: 29\t 합: 119\n",
            "------------------------------\n",
            "7번째 항의 값: 29\n",
            "7번째 항의 값: 29\t 합: 119.0\n"
          ]
        }
      ]
    },
    {
      "cell_type": "code",
      "source": [
        "# 등비수열\n",
        "\n",
        "a1 = int(input('a1: '))\n",
        "r = int(input('r: '))\n",
        "targetN = int(input('n번째: '))\n",
        "targetInt = 0\n",
        "n = 1\n",
        "total = 0\n",
        "\n",
        "while n <= targetN:\n",
        "  if n == 1:\n",
        "    targetInt = a1\n",
        "    print(f'{n}번째 항의 값: {targetInt}')\n",
        "    total += targetInt\n",
        "    print(f'{n}번째 항의 합 값: {total}')\n",
        "    n += 1\n",
        "    continue\n",
        "  targetInt *= r\n",
        "  print(f'{n}번째 항의 값: {targetInt}')\n",
        "  total += targetInt\n",
        "  print(f'{n}번째 항의 합 값: {total}')\n",
        "  n += 1\n",
        "print(f'{targetN}번째 항의 값: {targetInt}\\t 합: {total}')\n",
        "\n",
        "# 공식\n",
        "print('-'*30)\n",
        "\n",
        "targetInt = a1 * (r ** (targetN-1))\n",
        "print(f'{targetN}번째 항의 값: {targetInt}')\n",
        "total = a1 * (1-r**targetN) / (1-r)\n",
        "print(f'{targetN}번째 항의 값: {targetInt}\\t 합: {total}')"
      ],
      "metadata": {
        "colab": {
          "base_uri": "https://localhost:8080/"
        },
        "id": "O5duxuAh2XgA",
        "outputId": "d1600b4e-8c81-4c3b-a50e-3bc14960dbed"
      },
      "execution_count": 6,
      "outputs": [
        {
          "output_type": "stream",
          "name": "stdout",
          "text": [
            "a1: 5\n",
            "r: 3\n",
            "n번째: 7\n",
            "1번째 항의 값: 5\n",
            "1번째 항의 합 값: 5\n",
            "2번째 항의 값: 15\n",
            "2번째 항의 합 값: 20\n",
            "3번째 항의 값: 45\n",
            "3번째 항의 합 값: 65\n",
            "4번째 항의 값: 135\n",
            "4번째 항의 합 값: 200\n",
            "5번째 항의 값: 405\n",
            "5번째 항의 합 값: 605\n",
            "6번째 항의 값: 1215\n",
            "6번째 항의 합 값: 1820\n",
            "7번째 항의 값: 3645\n",
            "7번째 항의 합 값: 5465\n",
            "7번째 항의 값: 3645\t 합: 5465\n",
            "------------------------------\n",
            "7번째 항의 값: 3645\n",
            "7번째 항의 값: 3645\t 합: 5465.0\n"
          ]
        }
      ]
    },
    {
      "cell_type": "code",
      "source": [],
      "metadata": {
        "id": "CBt_7VFoCe3D"
      },
      "execution_count": null,
      "outputs": []
    }
  ]
}